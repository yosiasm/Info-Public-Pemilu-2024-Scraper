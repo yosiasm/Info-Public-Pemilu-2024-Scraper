{
 "cells": [
  {
   "cell_type": "code",
   "execution_count": 157,
   "metadata": {},
   "outputs": [],
   "source": [
    "import pandas as pd\n",
    "import plotly.graph_objects as go"
   ]
  },
  {
   "cell_type": "markdown",
   "metadata": {},
   "source": [
    "# Load Data"
   ]
  },
  {
   "cell_type": "code",
   "execution_count": 158,
   "metadata": {},
   "outputs": [],
   "source": [
    "perhitungan = pd.read_csv('all_perhitungan.csv')"
   ]
  },
  {
   "cell_type": "code",
   "execution_count": 159,
   "metadata": {},
   "outputs": [],
   "source": [
    "# drop unecessary columns\n",
    "perhitungan.drop(['null'],axis=1,inplace=True)"
   ]
  },
  {
   "cell_type": "code",
   "execution_count": 160,
   "metadata": {},
   "outputs": [],
   "source": [
    "caleg = pd.read_csv('data_caleg.csv')\n",
    "caleg['id'] = caleg['id'].astype(str)\n",
    "komeng = caleg[caleg['nama'].str.contains('KOMENG')].to_dict('records')[0]\n",
    "komeng_id = str(komeng['id'])\n",
    "komeng_nama = komeng['nama']"
   ]
  },
  {
   "cell_type": "code",
   "execution_count": 161,
   "metadata": {},
   "outputs": [],
   "source": [
    "caleg_id = caleg['id'].astype(str).to_list()\n",
    "\n",
    "caleg_except_komeng_id = caleg[~caleg['nama'].str.contains('KOMENG')]['id'].astype(str).to_list()\n"
   ]
  },
  {
   "cell_type": "code",
   "execution_count": 162,
   "metadata": {},
   "outputs": [],
   "source": [
    "perhitungan_komeng = perhitungan[['kode_prov', 'kode_kab_kota', 'kode_kec', 'kode_desa', 'kode_tps',\n",
    "       'prov', 'kab_kota', 'kecamatan', 'desa', 'tps', komeng_id, 'suara_sah', 'suara_total',\n",
    "       'pemilih_dpt_j', 'pemilih_dpt_l', 'pemilih_dpt_p', 'pengguna_dpt_j',\n",
    "       'pengguna_dpt_l', 'pengguna_dpt_p', 'pengguna_dptb_j',\n",
    "       'pengguna_dptb_l', 'pengguna_dptb_p', 'suara_tidak_sah',\n",
    "       'pengguna_total_j', 'pengguna_total_l', 'pengguna_total_p',\n",
    "       'pengguna_non_dpt_j', 'pengguna_non_dpt_l', 'pengguna_non_dpt_p']]"
   ]
  },
  {
   "cell_type": "code",
   "execution_count": 163,
   "metadata": {},
   "outputs": [],
   "source": [
    "suara_partai = pd.read_csv('detail_suara_partai.csv')\n",
    "suara_presiden = pd.read_csv('detail_suara_presiden.csv')"
   ]
  },
  {
   "cell_type": "markdown",
   "metadata": {},
   "source": [
    "# Group Perhitungan\n",
    "- total tps\n",
    "- total tps anomaly (https://x.com/A_Pangeran/status/1758336014911668587)\n",
    "- total tps dalam proses (row with na value)\n",
    "- total tps sah (selain anomaly dan memiliki value)"
   ]
  },
  {
   "cell_type": "code",
   "execution_count": 164,
   "metadata": {},
   "outputs": [],
   "source": [
    "perhitungan['sum_suara_caleg'] = perhitungan[caleg_id].sum(axis=1)"
   ]
  },
  {
   "cell_type": "code",
   "execution_count": 165,
   "metadata": {},
   "outputs": [
    {
     "data": {
      "text/html": [
       "<div>\n",
       "<style scoped>\n",
       "    .dataframe tbody tr th:only-of-type {\n",
       "        vertical-align: middle;\n",
       "    }\n",
       "\n",
       "    .dataframe tbody tr th {\n",
       "        vertical-align: top;\n",
       "    }\n",
       "\n",
       "    .dataframe thead th {\n",
       "        text-align: right;\n",
       "    }\n",
       "</style>\n",
       "<table border=\"1\" class=\"dataframe\">\n",
       "  <thead>\n",
       "    <tr style=\"text-align: right;\">\n",
       "      <th></th>\n",
       "      <th>sum_suara_caleg</th>\n",
       "      <th>suara_total</th>\n",
       "      <th>suara_sah</th>\n",
       "      <th>suara_tidak_sah</th>\n",
       "    </tr>\n",
       "  </thead>\n",
       "  <tbody>\n",
       "    <tr>\n",
       "      <th>0</th>\n",
       "      <td>0.0</td>\n",
       "      <td>NaN</td>\n",
       "      <td>NaN</td>\n",
       "      <td>NaN</td>\n",
       "    </tr>\n",
       "    <tr>\n",
       "      <th>1</th>\n",
       "      <td>213.0</td>\n",
       "      <td>235.0</td>\n",
       "      <td>213.0</td>\n",
       "      <td>22.0</td>\n",
       "    </tr>\n",
       "    <tr>\n",
       "      <th>2</th>\n",
       "      <td>137.0</td>\n",
       "      <td>160.0</td>\n",
       "      <td>136.0</td>\n",
       "      <td>24.0</td>\n",
       "    </tr>\n",
       "    <tr>\n",
       "      <th>3</th>\n",
       "      <td>181.0</td>\n",
       "      <td>239.0</td>\n",
       "      <td>201.0</td>\n",
       "      <td>38.0</td>\n",
       "    </tr>\n",
       "    <tr>\n",
       "      <th>4</th>\n",
       "      <td>429.0</td>\n",
       "      <td>218.0</td>\n",
       "      <td>189.0</td>\n",
       "      <td>29.0</td>\n",
       "    </tr>\n",
       "    <tr>\n",
       "      <th>...</th>\n",
       "      <td>...</td>\n",
       "      <td>...</td>\n",
       "      <td>...</td>\n",
       "      <td>...</td>\n",
       "    </tr>\n",
       "    <tr>\n",
       "      <th>140452</th>\n",
       "      <td>0.0</td>\n",
       "      <td>NaN</td>\n",
       "      <td>NaN</td>\n",
       "      <td>NaN</td>\n",
       "    </tr>\n",
       "    <tr>\n",
       "      <th>140453</th>\n",
       "      <td>140.0</td>\n",
       "      <td>192.0</td>\n",
       "      <td>145.0</td>\n",
       "      <td>47.0</td>\n",
       "    </tr>\n",
       "    <tr>\n",
       "      <th>140454</th>\n",
       "      <td>127.0</td>\n",
       "      <td>148.0</td>\n",
       "      <td>127.0</td>\n",
       "      <td>21.0</td>\n",
       "    </tr>\n",
       "    <tr>\n",
       "      <th>140455</th>\n",
       "      <td>139.0</td>\n",
       "      <td>159.0</td>\n",
       "      <td>139.0</td>\n",
       "      <td>20.0</td>\n",
       "    </tr>\n",
       "    <tr>\n",
       "      <th>140456</th>\n",
       "      <td>99.0</td>\n",
       "      <td>130.0</td>\n",
       "      <td>99.0</td>\n",
       "      <td>31.0</td>\n",
       "    </tr>\n",
       "  </tbody>\n",
       "</table>\n",
       "<p>140457 rows × 4 columns</p>\n",
       "</div>"
      ],
      "text/plain": [
       "        sum_suara_caleg  suara_total  suara_sah  suara_tidak_sah\n",
       "0                   0.0          NaN        NaN              NaN\n",
       "1                 213.0        235.0      213.0             22.0\n",
       "2                 137.0        160.0      136.0             24.0\n",
       "3                 181.0        239.0      201.0             38.0\n",
       "4                 429.0        218.0      189.0             29.0\n",
       "...                 ...          ...        ...              ...\n",
       "140452              0.0          NaN        NaN              NaN\n",
       "140453            140.0        192.0      145.0             47.0\n",
       "140454            127.0        148.0      127.0             21.0\n",
       "140455            139.0        159.0      139.0             20.0\n",
       "140456             99.0        130.0       99.0             31.0\n",
       "\n",
       "[140457 rows x 4 columns]"
      ]
     },
     "execution_count": 165,
     "metadata": {},
     "output_type": "execute_result"
    }
   ],
   "source": [
    "perhitungan[['sum_suara_caleg','suara_total','suara_sah','suara_tidak_sah']]"
   ]
  },
  {
   "cell_type": "markdown",
   "metadata": {},
   "source": [
    "### TPS Anomaly"
   ]
  },
  {
   "cell_type": "code",
   "execution_count": 166,
   "metadata": {},
   "outputs": [
    {
     "data": {
      "text/plain": [
       "7174"
      ]
     },
     "execution_count": 166,
     "metadata": {},
     "output_type": "execute_result"
    }
   ],
   "source": [
    "#anomaly\n",
    "anomaly1 = perhitungan[(perhitungan['suara_sah']==0) & (perhitungan['suara_total'] > 300)]\n",
    "anomaly2 = perhitungan[(perhitungan['suara_sah']>0) & (perhitungan['suara_sah'] < perhitungan['sum_suara_caleg'])]\n",
    "anomaly = pd.concat([anomaly1,anomaly2],axis=0,ignore_index=True)\n",
    "len(anomaly)\n"
   ]
  },
  {
   "cell_type": "markdown",
   "metadata": {},
   "source": [
    "### TPS In Progress"
   ]
  },
  {
   "cell_type": "code",
   "execution_count": 167,
   "metadata": {},
   "outputs": [],
   "source": [
    "in_progress = perhitungan[perhitungan.isnull().any(axis=1)]"
   ]
  },
  {
   "cell_type": "markdown",
   "metadata": {},
   "source": [
    "### TPS Clean"
   ]
  },
  {
   "cell_type": "code",
   "execution_count": 168,
   "metadata": {},
   "outputs": [],
   "source": [
    "anomaly_inprogress_index = anomaly.index.to_list() + in_progress.index.to_list()\n",
    "clean = perhitungan.loc[~(perhitungan.index.isin(anomaly_inprogress_index))]"
   ]
  },
  {
   "cell_type": "code",
   "execution_count": null,
   "metadata": {},
   "outputs": [],
   "source": []
  },
  {
   "cell_type": "markdown",
   "metadata": {},
   "source": [
    "# chart\n",
    "1. total uhuy (clean dan anomaly) \n",
    "2. total tidak uhuy (clean dan anomaly)\n",
    "3. total suara (clean dan anomaly) \n",
    "6. total tps in progress\n",
    "----\n",
    "4. total tps win, lose distribution\n",
    "5. total tps anomaly distribution\n",
    "---\n",
    "7. top 10 kota ter uhuy\n",
    "8. top persentase uhuy\n",
    "---\n",
    "9. ~~distribusi uhuy~~\n",
    "---\n",
    "10. whos win on anomaly data\n",
    "---\n",
    "10. ~~anomaly~~\n",
    "---\n",
    "11. komparasi uhuy dengan partai\n",
    "---\n",
    "12. komparasi uhuy dengan pilpres\n",
    "\n",
    "\n"
   ]
  },
  {
   "cell_type": "code",
   "execution_count": null,
   "metadata": {},
   "outputs": [],
   "source": []
  },
  {
   "cell_type": "markdown",
   "metadata": {},
   "source": [
    "## Metrics"
   ]
  },
  {
   "cell_type": "markdown",
   "metadata": {},
   "source": [
    "uhuy"
   ]
  },
  {
   "cell_type": "code",
   "execution_count": 169,
   "metadata": {},
   "outputs": [
    {
     "name": "stdout",
     "output_type": "stream",
     "text": [
      "1858365.0 276571.0 2263426.0\n"
     ]
    }
   ],
   "source": [
    "# total uhuy clean\n",
    "clean_uhuy = clean[komeng_id].sum()\n",
    "# total uhuy anomaly\n",
    "anomaly_uhuy = anomaly[komeng_id].sum()\n",
    "# total uhuy\n",
    "perhitungan_uhuy = perhitungan[komeng_id].sum()\n",
    "\n",
    "print(clean_uhuy,anomaly_uhuy,perhitungan_uhuy)"
   ]
  },
  {
   "cell_type": "markdown",
   "metadata": {},
   "source": [
    "tidak uhuy"
   ]
  },
  {
   "cell_type": "code",
   "execution_count": 170,
   "metadata": {},
   "outputs": [
    {
     "name": "stdout",
     "output_type": "stream",
     "text": [
      "8135154.0 2025178.0 9438606.0\n"
     ]
    }
   ],
   "source": [
    "# total tidak uhuy clean\n",
    "clean_tidak_uhuy = clean[caleg_except_komeng_id].sum(axis=1).sum()\n",
    "# total tidak_uhuy anomaly\n",
    "anomaly_tidak_uhuy = anomaly[caleg_except_komeng_id].sum(axis=1).sum()\n",
    "# total tidak_uhuy\n",
    "perhitungan_tidak_uhuy = perhitungan[caleg_except_komeng_id].sum(axis=1).sum()\n",
    "\n",
    "print(clean_tidak_uhuy,anomaly_tidak_uhuy,perhitungan_tidak_uhuy)"
   ]
  },
  {
   "cell_type": "markdown",
   "metadata": {},
   "source": [
    "total"
   ]
  },
  {
   "cell_type": "code",
   "execution_count": 171,
   "metadata": {},
   "outputs": [
    {
     "name": "stdout",
     "output_type": "stream",
     "text": [
      "9993519.0 2301749.0 11702032.0\n"
     ]
    }
   ],
   "source": [
    "# total clean\n",
    "clean_total = clean[caleg_id].sum(axis=1).sum()\n",
    "# total anomaly\n",
    "anomaly_total = anomaly[caleg_id].sum(axis=1).sum()\n",
    "# total \n",
    "perhitungan_total = perhitungan[caleg_id].sum(axis=1).sum()\n",
    "\n",
    "print(clean_total,anomaly_total,perhitungan_total)"
   ]
  },
  {
   "cell_type": "code",
   "execution_count": 172,
   "metadata": {},
   "outputs": [],
   "source": [
    "def human_format(num):\n",
    "    num = float('{:.3g}'.format(num))\n",
    "    magnitude = 0\n",
    "    while abs(num) >= 1000:\n",
    "        magnitude += 1\n",
    "        num /= 1000.0\n",
    "    return '{}{}'.format('{:f}'.format(num).rstrip('0').rstrip('.'), ['', 'K', 'M', 'B', 'T'][magnitude])\n"
   ]
  },
  {
   "cell_type": "code",
   "execution_count": null,
   "metadata": {},
   "outputs": [],
   "source": []
  },
  {
   "cell_type": "code",
   "execution_count": null,
   "metadata": {},
   "outputs": [],
   "source": []
  },
  {
   "cell_type": "markdown",
   "metadata": {},
   "source": [
    "tps winning distribution"
   ]
  },
  {
   "cell_type": "code",
   "execution_count": 173,
   "metadata": {},
   "outputs": [],
   "source": [
    "def is_komeng_win(row:pd.DataFrame):\n",
    "    row[caleg_id].idxmax(axis=1)"
   ]
  },
  {
   "cell_type": "code",
   "execution_count": 174,
   "metadata": {},
   "outputs": [
    {
     "name": "stderr",
     "output_type": "stream",
     "text": [
      "C:\\Users\\yosia\\AppData\\Local\\Temp\\ipykernel_25764\\401644962.py:1: SettingWithCopyWarning:\n",
      "\n",
      "\n",
      "A value is trying to be set on a copy of a slice from a DataFrame.\n",
      "Try using .loc[row_indexer,col_indexer] = value instead\n",
      "\n",
      "See the caveats in the documentation: https://pandas.pydata.org/pandas-docs/stable/user_guide/indexing.html#returning-a-view-versus-a-copy\n",
      "\n",
      "C:\\Users\\yosia\\AppData\\Local\\Temp\\ipykernel_25764\\401644962.py:2: SettingWithCopyWarning:\n",
      "\n",
      "\n",
      "A value is trying to be set on a copy of a slice from a DataFrame.\n",
      "Try using .loc[row_indexer,col_indexer] = value instead\n",
      "\n",
      "See the caveats in the documentation: https://pandas.pydata.org/pandas-docs/stable/user_guide/indexing.html#returning-a-view-versus-a-copy\n",
      "\n"
     ]
    }
   ],
   "source": [
    "clean['counter'] = 1\n",
    "clean['winner'] = clean[caleg_id].idxmax(axis=1)\n",
    "\n",
    "clean_komeng_win = clean[clean['winner']==komeng_id]\n",
    "clean_komeng_lose = clean[clean['winner']!=komeng_id]\n",
    "\n",
    "clean_komeng_win_count = clean_komeng_win.groupby('kab_kota')['counter'].sum().to_frame().reset_index().rename(columns={'counter':'win_count'})\n",
    "clean_komeng_lose_count = clean_komeng_lose.groupby('kab_kota')['counter'].sum().to_frame().reset_index().rename(columns={'counter':'lose_count'})\n",
    "\n",
    "clean_komeng_win_lose = pd.merge(clean_komeng_lose_count, clean_komeng_win_count,'inner','kab_kota')\n"
   ]
  },
  {
   "cell_type": "code",
   "execution_count": 175,
   "metadata": {},
   "outputs": [],
   "source": [
    "clean_winning_percentage = (len(clean_komeng_win)/ (len(clean_komeng_win)+len(clean_komeng_lose))) * 100\n"
   ]
  },
  {
   "cell_type": "code",
   "execution_count": 176,
   "metadata": {},
   "outputs": [
    {
     "data": {
      "text/plain": [
       "'<div style=\"background-color:white; font-family: &quot;Open Sans&quot;, verdana, arial, sans-serif; fill-opacity: 1; white-space: pre;\"><center><span style=\"font-size:1em;\">Suara Total</span><br><span style=\"font-size:0.6em\"> Total 11.7M </span><span style=\"font-size:0.6em;color:red\">Anomaly 2.3M </span><br><span style=\"font-size:2em;\"><b>9.99M</b></span></center></div>'"
      ]
     },
     "execution_count": 176,
     "metadata": {},
     "output_type": "execute_result"
    }
   ],
   "source": [
    "# create custom html\n",
    "def custom_indicator(title:str,value,total=None,ratio=None,anomaly=None):\n",
    "    \n",
    "    body = \"\"\"<span style=\"font-size:1em;\">{}</span>\"\"\".format(title)\n",
    "\n",
    "    if total:\n",
    "        body += \"\"\"<br><span style=\"font-size:0.6em\"> Total {} </span>\"\"\".format(total)\n",
    "    if ratio:\n",
    "        body += \"\"\"<br><span style=\"font-size:0.6em\"> {} </span>\"\"\".format(ratio)\n",
    "    if anomaly:\n",
    "        body += \"\"\"<span style=\"font-size:0.6em;color:red\">Anomaly {} </span>\"\"\".format(anomaly)\n",
    "    \n",
    "    body+=\"\"\"<br><span style=\"font-size:2em;\"><b>{}</b></span>\"\"\".format(value)\n",
    "    body = f\"\"\"<div style=\"background-color:white; font-family: &quot;Open Sans&quot;, verdana, arial, sans-serif; fill-opacity: 1; white-space: pre;\"><center>{body}</center></div>\"\"\"\n",
    "    filename = 'html/custom_indicator_{}.html'.format(title.lower().replace('!','').replace(' ','_'))\n",
    "\n",
    "    with open(filename,'w') as w:\n",
    "        w.write(body)\n",
    "\n",
    "    return body\n",
    "\n",
    "\n",
    "#Winning TPS\n",
    "custom_indicator(\"Winning TPS\",value=\"{}%\".format(round(clean_winning_percentage,2)),ratio=\"{}/{}\".format(human_format(len(clean_komeng_win)),human_format((len(clean_komeng_win)+len(clean_komeng_lose)))))\n",
    "#Suara Uhuy!\n",
    "custom_indicator(\"Suara Uhuy!\",value=human_format(clean_uhuy),total=human_format(perhitungan_uhuy),anomaly=human_format(anomaly_uhuy))\n",
    "#Suara Tidak Uhuy!\n",
    "custom_indicator(\"Suara Tidak Uhuy!\",value=human_format(clean_tidak_uhuy),total=human_format(perhitungan_tidak_uhuy),anomaly=human_format(anomaly_tidak_uhuy))\n",
    "#Suara Total\n",
    "custom_indicator(\"Suara Total\",value=human_format(clean_total),total=human_format(perhitungan_total),anomaly=human_format(anomaly_total))\n",
    "   \n"
   ]
  },
  {
   "cell_type": "code",
   "execution_count": 177,
   "metadata": {},
   "outputs": [],
   "source": [
    "anomaly['counter'] = 1\n",
    "anomaly['winner'] = anomaly[caleg_id].idxmax(axis=1)\n",
    "\n",
    "anomaly_komeng_win = anomaly[anomaly['winner']==komeng_id]\n",
    "anomaly_komeng_lose = anomaly[anomaly['winner']!=komeng_id]\n",
    "\n",
    "anomaly_komeng_win_count = anomaly_komeng_win.groupby('kab_kota')['counter'].sum().to_frame().reset_index().rename(columns={'counter':'win_count'})\n",
    "anomaly_komeng_lose_count = anomaly_komeng_lose.groupby('kab_kota')['counter'].sum().to_frame().reset_index().rename(columns={'counter':'lose_count'})\n",
    "\n",
    "anomaly_komeng_win_lose = pd.merge(anomaly_komeng_lose_count, anomaly_komeng_win_count,'inner','kab_kota')\n"
   ]
  },
  {
   "cell_type": "code",
   "execution_count": null,
   "metadata": {},
   "outputs": [],
   "source": []
  },
  {
   "cell_type": "markdown",
   "metadata": {},
   "source": [
    "## winning"
   ]
  },
  {
   "cell_type": "code",
   "execution_count": 178,
   "metadata": {},
   "outputs": [
    {
     "data": {
      "application/vnd.plotly.v1+json": {
       "config": {
        "plotlyServerURL": "https://plot.ly"
       },
       "data": [
        {
         "marker": {
          "color": "#003E69"
         },
         "name": "Wining TPS",
         "type": "bar",
         "x": [
          "BANDUNG",
          "BANDUNG BARAT",
          "BEKASI",
          "BOGOR",
          "CIAMIS",
          "CIANJUR",
          "CIREBON",
          "GARUT",
          "INDRAMAYU",
          "KARAWANG",
          "KOTA BANDUNG",
          "KOTA BANJAR",
          "KOTA BEKASI",
          "KOTA BOGOR",
          "KOTA CIMAHI",
          "KOTA CIREBON",
          "KOTA DEPOK",
          "KOTA SUKABUMI",
          "KOTA TASIKMALAYA",
          "KUNINGAN",
          "MAJALENGKA",
          "PANGANDARAN",
          "PURWAKARTA",
          "SUBANG",
          "SUKABUMI",
          "SUMEDANG",
          "TASIKMALAYA"
         ],
         "y": [
          4220,
          1814,
          548,
          2878,
          1006,
          799,
          3092,
          2197,
          2106,
          1922,
          2390,
          343,
          565,
          550,
          729,
          363,
          1272,
          209,
          623,
          337,
          1018,
          395,
          1115,
          736,
          2254,
          1320,
          1325
         ]
        },
        {
         "marker": {
          "color": "#ED7D31"
         },
         "name": "Losing TPS",
         "type": "bar",
         "x": [
          "BANDUNG",
          "BANDUNG BARAT",
          "BEKASI",
          "BOGOR",
          "CIAMIS",
          "CIANJUR",
          "CIREBON",
          "GARUT",
          "INDRAMAYU",
          "KARAWANG",
          "KOTA BANDUNG",
          "KOTA BANJAR",
          "KOTA BEKASI",
          "KOTA BOGOR",
          "KOTA CIMAHI",
          "KOTA CIREBON",
          "KOTA DEPOK",
          "KOTA SUKABUMI",
          "KOTA TASIKMALAYA",
          "KUNINGAN",
          "MAJALENGKA",
          "PANGANDARAN",
          "PURWAKARTA",
          "SUBANG",
          "SUKABUMI",
          "SUMEDANG",
          "TASIKMALAYA"
         ],
         "y": [
          913,
          445,
          88,
          1403,
          527,
          950,
          292,
          2578,
          978,
          738,
          210,
          33,
          52,
          59,
          56,
          30,
          166,
          27,
          158,
          221,
          1380,
          199,
          695,
          313,
          1510,
          1243,
          2548
         ]
        }
       ],
       "layout": {
        "barmode": "group",
        "legend": {
         "x": 0.5,
         "xanchor": "center",
         "y": 0.9,
         "yanchor": "top"
        },
        "margin": {
         "b": 0,
         "l": 0,
         "r": 0,
         "t": 40
        },
        "modebar": {
         "remove": [
          "zoom",
          "pan",
          "select",
          "lasso2d",
          "zoomIn",
          "zoomOut"
         ]
        },
        "template": {
         "data": {
          "bar": [
           {
            "error_x": {
             "color": "#2a3f5f"
            },
            "error_y": {
             "color": "#2a3f5f"
            },
            "marker": {
             "line": {
              "color": "white",
              "width": 0.5
             },
             "pattern": {
              "fillmode": "overlay",
              "size": 10,
              "solidity": 0.2
             }
            },
            "type": "bar"
           }
          ],
          "barpolar": [
           {
            "marker": {
             "line": {
              "color": "white",
              "width": 0.5
             },
             "pattern": {
              "fillmode": "overlay",
              "size": 10,
              "solidity": 0.2
             }
            },
            "type": "barpolar"
           }
          ],
          "carpet": [
           {
            "aaxis": {
             "endlinecolor": "#2a3f5f",
             "gridcolor": "#C8D4E3",
             "linecolor": "#C8D4E3",
             "minorgridcolor": "#C8D4E3",
             "startlinecolor": "#2a3f5f"
            },
            "baxis": {
             "endlinecolor": "#2a3f5f",
             "gridcolor": "#C8D4E3",
             "linecolor": "#C8D4E3",
             "minorgridcolor": "#C8D4E3",
             "startlinecolor": "#2a3f5f"
            },
            "type": "carpet"
           }
          ],
          "choropleth": [
           {
            "colorbar": {
             "outlinewidth": 0,
             "ticks": ""
            },
            "type": "choropleth"
           }
          ],
          "contour": [
           {
            "colorbar": {
             "outlinewidth": 0,
             "ticks": ""
            },
            "colorscale": [
             [
              0,
              "#0d0887"
             ],
             [
              0.1111111111111111,
              "#46039f"
             ],
             [
              0.2222222222222222,
              "#7201a8"
             ],
             [
              0.3333333333333333,
              "#9c179e"
             ],
             [
              0.4444444444444444,
              "#bd3786"
             ],
             [
              0.5555555555555556,
              "#d8576b"
             ],
             [
              0.6666666666666666,
              "#ed7953"
             ],
             [
              0.7777777777777778,
              "#fb9f3a"
             ],
             [
              0.8888888888888888,
              "#fdca26"
             ],
             [
              1,
              "#f0f921"
             ]
            ],
            "type": "contour"
           }
          ],
          "contourcarpet": [
           {
            "colorbar": {
             "outlinewidth": 0,
             "ticks": ""
            },
            "type": "contourcarpet"
           }
          ],
          "heatmap": [
           {
            "colorbar": {
             "outlinewidth": 0,
             "ticks": ""
            },
            "colorscale": [
             [
              0,
              "#0d0887"
             ],
             [
              0.1111111111111111,
              "#46039f"
             ],
             [
              0.2222222222222222,
              "#7201a8"
             ],
             [
              0.3333333333333333,
              "#9c179e"
             ],
             [
              0.4444444444444444,
              "#bd3786"
             ],
             [
              0.5555555555555556,
              "#d8576b"
             ],
             [
              0.6666666666666666,
              "#ed7953"
             ],
             [
              0.7777777777777778,
              "#fb9f3a"
             ],
             [
              0.8888888888888888,
              "#fdca26"
             ],
             [
              1,
              "#f0f921"
             ]
            ],
            "type": "heatmap"
           }
          ],
          "heatmapgl": [
           {
            "colorbar": {
             "outlinewidth": 0,
             "ticks": ""
            },
            "colorscale": [
             [
              0,
              "#0d0887"
             ],
             [
              0.1111111111111111,
              "#46039f"
             ],
             [
              0.2222222222222222,
              "#7201a8"
             ],
             [
              0.3333333333333333,
              "#9c179e"
             ],
             [
              0.4444444444444444,
              "#bd3786"
             ],
             [
              0.5555555555555556,
              "#d8576b"
             ],
             [
              0.6666666666666666,
              "#ed7953"
             ],
             [
              0.7777777777777778,
              "#fb9f3a"
             ],
             [
              0.8888888888888888,
              "#fdca26"
             ],
             [
              1,
              "#f0f921"
             ]
            ],
            "type": "heatmapgl"
           }
          ],
          "histogram": [
           {
            "marker": {
             "pattern": {
              "fillmode": "overlay",
              "size": 10,
              "solidity": 0.2
             }
            },
            "type": "histogram"
           }
          ],
          "histogram2d": [
           {
            "colorbar": {
             "outlinewidth": 0,
             "ticks": ""
            },
            "colorscale": [
             [
              0,
              "#0d0887"
             ],
             [
              0.1111111111111111,
              "#46039f"
             ],
             [
              0.2222222222222222,
              "#7201a8"
             ],
             [
              0.3333333333333333,
              "#9c179e"
             ],
             [
              0.4444444444444444,
              "#bd3786"
             ],
             [
              0.5555555555555556,
              "#d8576b"
             ],
             [
              0.6666666666666666,
              "#ed7953"
             ],
             [
              0.7777777777777778,
              "#fb9f3a"
             ],
             [
              0.8888888888888888,
              "#fdca26"
             ],
             [
              1,
              "#f0f921"
             ]
            ],
            "type": "histogram2d"
           }
          ],
          "histogram2dcontour": [
           {
            "colorbar": {
             "outlinewidth": 0,
             "ticks": ""
            },
            "colorscale": [
             [
              0,
              "#0d0887"
             ],
             [
              0.1111111111111111,
              "#46039f"
             ],
             [
              0.2222222222222222,
              "#7201a8"
             ],
             [
              0.3333333333333333,
              "#9c179e"
             ],
             [
              0.4444444444444444,
              "#bd3786"
             ],
             [
              0.5555555555555556,
              "#d8576b"
             ],
             [
              0.6666666666666666,
              "#ed7953"
             ],
             [
              0.7777777777777778,
              "#fb9f3a"
             ],
             [
              0.8888888888888888,
              "#fdca26"
             ],
             [
              1,
              "#f0f921"
             ]
            ],
            "type": "histogram2dcontour"
           }
          ],
          "mesh3d": [
           {
            "colorbar": {
             "outlinewidth": 0,
             "ticks": ""
            },
            "type": "mesh3d"
           }
          ],
          "parcoords": [
           {
            "line": {
             "colorbar": {
              "outlinewidth": 0,
              "ticks": ""
             }
            },
            "type": "parcoords"
           }
          ],
          "pie": [
           {
            "automargin": true,
            "type": "pie"
           }
          ],
          "scatter": [
           {
            "fillpattern": {
             "fillmode": "overlay",
             "size": 10,
             "solidity": 0.2
            },
            "type": "scatter"
           }
          ],
          "scatter3d": [
           {
            "line": {
             "colorbar": {
              "outlinewidth": 0,
              "ticks": ""
             }
            },
            "marker": {
             "colorbar": {
              "outlinewidth": 0,
              "ticks": ""
             }
            },
            "type": "scatter3d"
           }
          ],
          "scattercarpet": [
           {
            "marker": {
             "colorbar": {
              "outlinewidth": 0,
              "ticks": ""
             }
            },
            "type": "scattercarpet"
           }
          ],
          "scattergeo": [
           {
            "marker": {
             "colorbar": {
              "outlinewidth": 0,
              "ticks": ""
             }
            },
            "type": "scattergeo"
           }
          ],
          "scattergl": [
           {
            "marker": {
             "colorbar": {
              "outlinewidth": 0,
              "ticks": ""
             }
            },
            "type": "scattergl"
           }
          ],
          "scattermapbox": [
           {
            "marker": {
             "colorbar": {
              "outlinewidth": 0,
              "ticks": ""
             }
            },
            "type": "scattermapbox"
           }
          ],
          "scatterpolar": [
           {
            "marker": {
             "colorbar": {
              "outlinewidth": 0,
              "ticks": ""
             }
            },
            "type": "scatterpolar"
           }
          ],
          "scatterpolargl": [
           {
            "marker": {
             "colorbar": {
              "outlinewidth": 0,
              "ticks": ""
             }
            },
            "type": "scatterpolargl"
           }
          ],
          "scatterternary": [
           {
            "marker": {
             "colorbar": {
              "outlinewidth": 0,
              "ticks": ""
             }
            },
            "type": "scatterternary"
           }
          ],
          "surface": [
           {
            "colorbar": {
             "outlinewidth": 0,
             "ticks": ""
            },
            "colorscale": [
             [
              0,
              "#0d0887"
             ],
             [
              0.1111111111111111,
              "#46039f"
             ],
             [
              0.2222222222222222,
              "#7201a8"
             ],
             [
              0.3333333333333333,
              "#9c179e"
             ],
             [
              0.4444444444444444,
              "#bd3786"
             ],
             [
              0.5555555555555556,
              "#d8576b"
             ],
             [
              0.6666666666666666,
              "#ed7953"
             ],
             [
              0.7777777777777778,
              "#fb9f3a"
             ],
             [
              0.8888888888888888,
              "#fdca26"
             ],
             [
              1,
              "#f0f921"
             ]
            ],
            "type": "surface"
           }
          ],
          "table": [
           {
            "cells": {
             "fill": {
              "color": "#EBF0F8"
             },
             "line": {
              "color": "white"
             }
            },
            "header": {
             "fill": {
              "color": "#C8D4E3"
             },
             "line": {
              "color": "white"
             }
            },
            "type": "table"
           }
          ]
         },
         "layout": {
          "annotationdefaults": {
           "arrowcolor": "#2a3f5f",
           "arrowhead": 0,
           "arrowwidth": 1
          },
          "autotypenumbers": "strict",
          "coloraxis": {
           "colorbar": {
            "outlinewidth": 0,
            "ticks": ""
           }
          },
          "colorscale": {
           "diverging": [
            [
             0,
             "#8e0152"
            ],
            [
             0.1,
             "#c51b7d"
            ],
            [
             0.2,
             "#de77ae"
            ],
            [
             0.3,
             "#f1b6da"
            ],
            [
             0.4,
             "#fde0ef"
            ],
            [
             0.5,
             "#f7f7f7"
            ],
            [
             0.6,
             "#e6f5d0"
            ],
            [
             0.7,
             "#b8e186"
            ],
            [
             0.8,
             "#7fbc41"
            ],
            [
             0.9,
             "#4d9221"
            ],
            [
             1,
             "#276419"
            ]
           ],
           "sequential": [
            [
             0,
             "#0d0887"
            ],
            [
             0.1111111111111111,
             "#46039f"
            ],
            [
             0.2222222222222222,
             "#7201a8"
            ],
            [
             0.3333333333333333,
             "#9c179e"
            ],
            [
             0.4444444444444444,
             "#bd3786"
            ],
            [
             0.5555555555555556,
             "#d8576b"
            ],
            [
             0.6666666666666666,
             "#ed7953"
            ],
            [
             0.7777777777777778,
             "#fb9f3a"
            ],
            [
             0.8888888888888888,
             "#fdca26"
            ],
            [
             1,
             "#f0f921"
            ]
           ],
           "sequentialminus": [
            [
             0,
             "#0d0887"
            ],
            [
             0.1111111111111111,
             "#46039f"
            ],
            [
             0.2222222222222222,
             "#7201a8"
            ],
            [
             0.3333333333333333,
             "#9c179e"
            ],
            [
             0.4444444444444444,
             "#bd3786"
            ],
            [
             0.5555555555555556,
             "#d8576b"
            ],
            [
             0.6666666666666666,
             "#ed7953"
            ],
            [
             0.7777777777777778,
             "#fb9f3a"
            ],
            [
             0.8888888888888888,
             "#fdca26"
            ],
            [
             1,
             "#f0f921"
            ]
           ]
          },
          "colorway": [
           "#636efa",
           "#EF553B",
           "#00cc96",
           "#ab63fa",
           "#FFA15A",
           "#19d3f3",
           "#FF6692",
           "#B6E880",
           "#FF97FF",
           "#FECB52"
          ],
          "font": {
           "color": "#2a3f5f"
          },
          "geo": {
           "bgcolor": "white",
           "lakecolor": "white",
           "landcolor": "white",
           "showlakes": true,
           "showland": true,
           "subunitcolor": "#C8D4E3"
          },
          "hoverlabel": {
           "align": "left"
          },
          "hovermode": "closest",
          "mapbox": {
           "style": "light"
          },
          "paper_bgcolor": "white",
          "plot_bgcolor": "white",
          "polar": {
           "angularaxis": {
            "gridcolor": "#EBF0F8",
            "linecolor": "#EBF0F8",
            "ticks": ""
           },
           "bgcolor": "white",
           "radialaxis": {
            "gridcolor": "#EBF0F8",
            "linecolor": "#EBF0F8",
            "ticks": ""
           }
          },
          "scene": {
           "xaxis": {
            "backgroundcolor": "white",
            "gridcolor": "#DFE8F3",
            "gridwidth": 2,
            "linecolor": "#EBF0F8",
            "showbackground": true,
            "ticks": "",
            "zerolinecolor": "#EBF0F8"
           },
           "yaxis": {
            "backgroundcolor": "white",
            "gridcolor": "#DFE8F3",
            "gridwidth": 2,
            "linecolor": "#EBF0F8",
            "showbackground": true,
            "ticks": "",
            "zerolinecolor": "#EBF0F8"
           },
           "zaxis": {
            "backgroundcolor": "white",
            "gridcolor": "#DFE8F3",
            "gridwidth": 2,
            "linecolor": "#EBF0F8",
            "showbackground": true,
            "ticks": "",
            "zerolinecolor": "#EBF0F8"
           }
          },
          "shapedefaults": {
           "line": {
            "color": "#2a3f5f"
           }
          },
          "ternary": {
           "aaxis": {
            "gridcolor": "#DFE8F3",
            "linecolor": "#A2B1C6",
            "ticks": ""
           },
           "baxis": {
            "gridcolor": "#DFE8F3",
            "linecolor": "#A2B1C6",
            "ticks": ""
           },
           "bgcolor": "white",
           "caxis": {
            "gridcolor": "#DFE8F3",
            "linecolor": "#A2B1C6",
            "ticks": ""
           }
          },
          "title": {
           "x": 0.05
          },
          "xaxis": {
           "automargin": true,
           "gridcolor": "#EBF0F8",
           "linecolor": "#EBF0F8",
           "ticks": "",
           "title": {
            "standoff": 15
           },
           "zerolinecolor": "#EBF0F8",
           "zerolinewidth": 2
          },
          "yaxis": {
           "automargin": true,
           "gridcolor": "#EBF0F8",
           "linecolor": "#EBF0F8",
           "ticks": "",
           "title": {
            "standoff": 15
           },
           "zerolinecolor": "#EBF0F8",
           "zerolinewidth": 2
          }
         }
        },
        "title": {
         "text": "Wining By Kota Kabupaten"
        },
        "xaxis": {
         "fixedrange": true,
         "title": {
          "text": "Kota Kabupaten"
         }
        },
        "yaxis": {
         "fixedrange": true,
         "title": {
          "text": "Jumlah TPS"
         }
        }
       }
      }
     },
     "metadata": {},
     "output_type": "display_data"
    }
   ],
   "source": [
    "import plotly.express as px\n",
    "\n",
    "fig = go.Figure()\n",
    "fig.add_trace(go.Bar(name='Wining TPS',x=clean_komeng_win_lose['kab_kota'], y=clean_komeng_win_lose['win_count'],marker_color='#003E69',))\n",
    "fig.add_trace(go.Bar(name='Losing TPS',x=clean_komeng_win_lose['kab_kota'], y=clean_komeng_win_lose['lose_count'],marker_color='#ED7D31'))\n",
    "fig.update_layout(barmode='group', template='plotly_white', title={'text':'Wining By Kota Kabupaten'}, yaxis_title={'text':'Jumlah TPS'}, xaxis_title={'text':'Kota Kabupaten'})\n",
    "fig.update_layout(\n",
    "    margin=dict(l=0, r=0, t=40, b=0),\n",
    "    legend=dict( yanchor=\"top\", y=0.9, xanchor=\"center\", x=0.5\n",
    ")\n",
    ")\n",
    "fig.update_layout(modebar_remove=[ 'zoom', 'pan', 'select', 'lasso2d', 'zoomIn', 'zoomOut',])\n",
    "fig.layout.xaxis.fixedrange = True\n",
    "fig.layout.yaxis.fixedrange = True\n",
    "fig.write_html('html/bar_kota_kabupaten.html')\n",
    "fig.show()"
   ]
  },
  {
   "cell_type": "code",
   "execution_count": 179,
   "metadata": {},
   "outputs": [
    {
     "data": {
      "application/vnd.plotly.v1+json": {
       "config": {
        "plotlyServerURL": "https://plot.ly"
       },
       "data": [
        {
         "marker": {
          "color": "#003E69"
         },
         "name": "Wining TPS",
         "type": "bar",
         "x": [
          "BANDUNG",
          "BANDUNG BARAT",
          "BEKASI",
          "BOGOR",
          "CIAMIS",
          "CIANJUR",
          "CIREBON",
          "GARUT",
          "INDRAMAYU",
          "KARAWANG",
          "KOTA BANDUNG",
          "KOTA BANJAR",
          "KOTA BEKASI",
          "KOTA BOGOR",
          "KOTA CIMAHI",
          "KOTA CIREBON",
          "KOTA DEPOK",
          "KOTA SUKABUMI",
          "KOTA TASIKMALAYA",
          "KUNINGAN",
          "MAJALENGKA",
          "PANGANDARAN",
          "PURWAKARTA",
          "SUBANG",
          "SUKABUMI",
          "SUMEDANG",
          "TASIKMALAYA"
         ],
         "y": [
          442,
          199,
          87,
          623,
          66,
          103,
          327,
          187,
          236,
          260,
          241,
          34,
          79,
          72,
          54,
          29,
          157,
          23,
          77,
          31,
          94,
          24,
          76,
          93,
          177,
          155,
          90
         ]
        },
        {
         "marker": {
          "color": "#ED7D31"
         },
         "name": "Losing TPS",
         "type": "bar",
         "x": [
          "BANDUNG",
          "BANDUNG BARAT",
          "BEKASI",
          "BOGOR",
          "CIAMIS",
          "CIANJUR",
          "CIREBON",
          "GARUT",
          "INDRAMAYU",
          "KARAWANG",
          "KOTA BANDUNG",
          "KOTA BANJAR",
          "KOTA BEKASI",
          "KOTA BOGOR",
          "KOTA CIMAHI",
          "KOTA CIREBON",
          "KOTA DEPOK",
          "KOTA SUKABUMI",
          "KOTA TASIKMALAYA",
          "KUNINGAN",
          "MAJALENGKA",
          "PANGANDARAN",
          "PURWAKARTA",
          "SUBANG",
          "SUKABUMI",
          "SUMEDANG",
          "TASIKMALAYA"
         ],
         "y": [
          403,
          79,
          21,
          313,
          30,
          183,
          60,
          262,
          217,
          412,
          31,
          4,
          15,
          11,
          8,
          13,
          27,
          6,
          25,
          30,
          133,
          26,
          81,
          56,
          139,
          340,
          213
         ]
        }
       ],
       "layout": {
        "barmode": "group",
        "legend": {
         "x": 0.5,
         "xanchor": "center",
         "y": 0.9,
         "yanchor": "top"
        },
        "margin": {
         "b": 0,
         "l": 0,
         "r": 0,
         "t": 40
        },
        "modebar": {
         "remove": [
          "zoom",
          "pan",
          "select",
          "lasso2d",
          "zoomIn",
          "zoomOut"
         ]
        },
        "template": {
         "data": {
          "bar": [
           {
            "error_x": {
             "color": "#2a3f5f"
            },
            "error_y": {
             "color": "#2a3f5f"
            },
            "marker": {
             "line": {
              "color": "white",
              "width": 0.5
             },
             "pattern": {
              "fillmode": "overlay",
              "size": 10,
              "solidity": 0.2
             }
            },
            "type": "bar"
           }
          ],
          "barpolar": [
           {
            "marker": {
             "line": {
              "color": "white",
              "width": 0.5
             },
             "pattern": {
              "fillmode": "overlay",
              "size": 10,
              "solidity": 0.2
             }
            },
            "type": "barpolar"
           }
          ],
          "carpet": [
           {
            "aaxis": {
             "endlinecolor": "#2a3f5f",
             "gridcolor": "#C8D4E3",
             "linecolor": "#C8D4E3",
             "minorgridcolor": "#C8D4E3",
             "startlinecolor": "#2a3f5f"
            },
            "baxis": {
             "endlinecolor": "#2a3f5f",
             "gridcolor": "#C8D4E3",
             "linecolor": "#C8D4E3",
             "minorgridcolor": "#C8D4E3",
             "startlinecolor": "#2a3f5f"
            },
            "type": "carpet"
           }
          ],
          "choropleth": [
           {
            "colorbar": {
             "outlinewidth": 0,
             "ticks": ""
            },
            "type": "choropleth"
           }
          ],
          "contour": [
           {
            "colorbar": {
             "outlinewidth": 0,
             "ticks": ""
            },
            "colorscale": [
             [
              0,
              "#0d0887"
             ],
             [
              0.1111111111111111,
              "#46039f"
             ],
             [
              0.2222222222222222,
              "#7201a8"
             ],
             [
              0.3333333333333333,
              "#9c179e"
             ],
             [
              0.4444444444444444,
              "#bd3786"
             ],
             [
              0.5555555555555556,
              "#d8576b"
             ],
             [
              0.6666666666666666,
              "#ed7953"
             ],
             [
              0.7777777777777778,
              "#fb9f3a"
             ],
             [
              0.8888888888888888,
              "#fdca26"
             ],
             [
              1,
              "#f0f921"
             ]
            ],
            "type": "contour"
           }
          ],
          "contourcarpet": [
           {
            "colorbar": {
             "outlinewidth": 0,
             "ticks": ""
            },
            "type": "contourcarpet"
           }
          ],
          "heatmap": [
           {
            "colorbar": {
             "outlinewidth": 0,
             "ticks": ""
            },
            "colorscale": [
             [
              0,
              "#0d0887"
             ],
             [
              0.1111111111111111,
              "#46039f"
             ],
             [
              0.2222222222222222,
              "#7201a8"
             ],
             [
              0.3333333333333333,
              "#9c179e"
             ],
             [
              0.4444444444444444,
              "#bd3786"
             ],
             [
              0.5555555555555556,
              "#d8576b"
             ],
             [
              0.6666666666666666,
              "#ed7953"
             ],
             [
              0.7777777777777778,
              "#fb9f3a"
             ],
             [
              0.8888888888888888,
              "#fdca26"
             ],
             [
              1,
              "#f0f921"
             ]
            ],
            "type": "heatmap"
           }
          ],
          "heatmapgl": [
           {
            "colorbar": {
             "outlinewidth": 0,
             "ticks": ""
            },
            "colorscale": [
             [
              0,
              "#0d0887"
             ],
             [
              0.1111111111111111,
              "#46039f"
             ],
             [
              0.2222222222222222,
              "#7201a8"
             ],
             [
              0.3333333333333333,
              "#9c179e"
             ],
             [
              0.4444444444444444,
              "#bd3786"
             ],
             [
              0.5555555555555556,
              "#d8576b"
             ],
             [
              0.6666666666666666,
              "#ed7953"
             ],
             [
              0.7777777777777778,
              "#fb9f3a"
             ],
             [
              0.8888888888888888,
              "#fdca26"
             ],
             [
              1,
              "#f0f921"
             ]
            ],
            "type": "heatmapgl"
           }
          ],
          "histogram": [
           {
            "marker": {
             "pattern": {
              "fillmode": "overlay",
              "size": 10,
              "solidity": 0.2
             }
            },
            "type": "histogram"
           }
          ],
          "histogram2d": [
           {
            "colorbar": {
             "outlinewidth": 0,
             "ticks": ""
            },
            "colorscale": [
             [
              0,
              "#0d0887"
             ],
             [
              0.1111111111111111,
              "#46039f"
             ],
             [
              0.2222222222222222,
              "#7201a8"
             ],
             [
              0.3333333333333333,
              "#9c179e"
             ],
             [
              0.4444444444444444,
              "#bd3786"
             ],
             [
              0.5555555555555556,
              "#d8576b"
             ],
             [
              0.6666666666666666,
              "#ed7953"
             ],
             [
              0.7777777777777778,
              "#fb9f3a"
             ],
             [
              0.8888888888888888,
              "#fdca26"
             ],
             [
              1,
              "#f0f921"
             ]
            ],
            "type": "histogram2d"
           }
          ],
          "histogram2dcontour": [
           {
            "colorbar": {
             "outlinewidth": 0,
             "ticks": ""
            },
            "colorscale": [
             [
              0,
              "#0d0887"
             ],
             [
              0.1111111111111111,
              "#46039f"
             ],
             [
              0.2222222222222222,
              "#7201a8"
             ],
             [
              0.3333333333333333,
              "#9c179e"
             ],
             [
              0.4444444444444444,
              "#bd3786"
             ],
             [
              0.5555555555555556,
              "#d8576b"
             ],
             [
              0.6666666666666666,
              "#ed7953"
             ],
             [
              0.7777777777777778,
              "#fb9f3a"
             ],
             [
              0.8888888888888888,
              "#fdca26"
             ],
             [
              1,
              "#f0f921"
             ]
            ],
            "type": "histogram2dcontour"
           }
          ],
          "mesh3d": [
           {
            "colorbar": {
             "outlinewidth": 0,
             "ticks": ""
            },
            "type": "mesh3d"
           }
          ],
          "parcoords": [
           {
            "line": {
             "colorbar": {
              "outlinewidth": 0,
              "ticks": ""
             }
            },
            "type": "parcoords"
           }
          ],
          "pie": [
           {
            "automargin": true,
            "type": "pie"
           }
          ],
          "scatter": [
           {
            "fillpattern": {
             "fillmode": "overlay",
             "size": 10,
             "solidity": 0.2
            },
            "type": "scatter"
           }
          ],
          "scatter3d": [
           {
            "line": {
             "colorbar": {
              "outlinewidth": 0,
              "ticks": ""
             }
            },
            "marker": {
             "colorbar": {
              "outlinewidth": 0,
              "ticks": ""
             }
            },
            "type": "scatter3d"
           }
          ],
          "scattercarpet": [
           {
            "marker": {
             "colorbar": {
              "outlinewidth": 0,
              "ticks": ""
             }
            },
            "type": "scattercarpet"
           }
          ],
          "scattergeo": [
           {
            "marker": {
             "colorbar": {
              "outlinewidth": 0,
              "ticks": ""
             }
            },
            "type": "scattergeo"
           }
          ],
          "scattergl": [
           {
            "marker": {
             "colorbar": {
              "outlinewidth": 0,
              "ticks": ""
             }
            },
            "type": "scattergl"
           }
          ],
          "scattermapbox": [
           {
            "marker": {
             "colorbar": {
              "outlinewidth": 0,
              "ticks": ""
             }
            },
            "type": "scattermapbox"
           }
          ],
          "scatterpolar": [
           {
            "marker": {
             "colorbar": {
              "outlinewidth": 0,
              "ticks": ""
             }
            },
            "type": "scatterpolar"
           }
          ],
          "scatterpolargl": [
           {
            "marker": {
             "colorbar": {
              "outlinewidth": 0,
              "ticks": ""
             }
            },
            "type": "scatterpolargl"
           }
          ],
          "scatterternary": [
           {
            "marker": {
             "colorbar": {
              "outlinewidth": 0,
              "ticks": ""
             }
            },
            "type": "scatterternary"
           }
          ],
          "surface": [
           {
            "colorbar": {
             "outlinewidth": 0,
             "ticks": ""
            },
            "colorscale": [
             [
              0,
              "#0d0887"
             ],
             [
              0.1111111111111111,
              "#46039f"
             ],
             [
              0.2222222222222222,
              "#7201a8"
             ],
             [
              0.3333333333333333,
              "#9c179e"
             ],
             [
              0.4444444444444444,
              "#bd3786"
             ],
             [
              0.5555555555555556,
              "#d8576b"
             ],
             [
              0.6666666666666666,
              "#ed7953"
             ],
             [
              0.7777777777777778,
              "#fb9f3a"
             ],
             [
              0.8888888888888888,
              "#fdca26"
             ],
             [
              1,
              "#f0f921"
             ]
            ],
            "type": "surface"
           }
          ],
          "table": [
           {
            "cells": {
             "fill": {
              "color": "#EBF0F8"
             },
             "line": {
              "color": "white"
             }
            },
            "header": {
             "fill": {
              "color": "#C8D4E3"
             },
             "line": {
              "color": "white"
             }
            },
            "type": "table"
           }
          ]
         },
         "layout": {
          "annotationdefaults": {
           "arrowcolor": "#2a3f5f",
           "arrowhead": 0,
           "arrowwidth": 1
          },
          "autotypenumbers": "strict",
          "coloraxis": {
           "colorbar": {
            "outlinewidth": 0,
            "ticks": ""
           }
          },
          "colorscale": {
           "diverging": [
            [
             0,
             "#8e0152"
            ],
            [
             0.1,
             "#c51b7d"
            ],
            [
             0.2,
             "#de77ae"
            ],
            [
             0.3,
             "#f1b6da"
            ],
            [
             0.4,
             "#fde0ef"
            ],
            [
             0.5,
             "#f7f7f7"
            ],
            [
             0.6,
             "#e6f5d0"
            ],
            [
             0.7,
             "#b8e186"
            ],
            [
             0.8,
             "#7fbc41"
            ],
            [
             0.9,
             "#4d9221"
            ],
            [
             1,
             "#276419"
            ]
           ],
           "sequential": [
            [
             0,
             "#0d0887"
            ],
            [
             0.1111111111111111,
             "#46039f"
            ],
            [
             0.2222222222222222,
             "#7201a8"
            ],
            [
             0.3333333333333333,
             "#9c179e"
            ],
            [
             0.4444444444444444,
             "#bd3786"
            ],
            [
             0.5555555555555556,
             "#d8576b"
            ],
            [
             0.6666666666666666,
             "#ed7953"
            ],
            [
             0.7777777777777778,
             "#fb9f3a"
            ],
            [
             0.8888888888888888,
             "#fdca26"
            ],
            [
             1,
             "#f0f921"
            ]
           ],
           "sequentialminus": [
            [
             0,
             "#0d0887"
            ],
            [
             0.1111111111111111,
             "#46039f"
            ],
            [
             0.2222222222222222,
             "#7201a8"
            ],
            [
             0.3333333333333333,
             "#9c179e"
            ],
            [
             0.4444444444444444,
             "#bd3786"
            ],
            [
             0.5555555555555556,
             "#d8576b"
            ],
            [
             0.6666666666666666,
             "#ed7953"
            ],
            [
             0.7777777777777778,
             "#fb9f3a"
            ],
            [
             0.8888888888888888,
             "#fdca26"
            ],
            [
             1,
             "#f0f921"
            ]
           ]
          },
          "colorway": [
           "#636efa",
           "#EF553B",
           "#00cc96",
           "#ab63fa",
           "#FFA15A",
           "#19d3f3",
           "#FF6692",
           "#B6E880",
           "#FF97FF",
           "#FECB52"
          ],
          "font": {
           "color": "#2a3f5f"
          },
          "geo": {
           "bgcolor": "white",
           "lakecolor": "white",
           "landcolor": "white",
           "showlakes": true,
           "showland": true,
           "subunitcolor": "#C8D4E3"
          },
          "hoverlabel": {
           "align": "left"
          },
          "hovermode": "closest",
          "mapbox": {
           "style": "light"
          },
          "paper_bgcolor": "white",
          "plot_bgcolor": "white",
          "polar": {
           "angularaxis": {
            "gridcolor": "#EBF0F8",
            "linecolor": "#EBF0F8",
            "ticks": ""
           },
           "bgcolor": "white",
           "radialaxis": {
            "gridcolor": "#EBF0F8",
            "linecolor": "#EBF0F8",
            "ticks": ""
           }
          },
          "scene": {
           "xaxis": {
            "backgroundcolor": "white",
            "gridcolor": "#DFE8F3",
            "gridwidth": 2,
            "linecolor": "#EBF0F8",
            "showbackground": true,
            "ticks": "",
            "zerolinecolor": "#EBF0F8"
           },
           "yaxis": {
            "backgroundcolor": "white",
            "gridcolor": "#DFE8F3",
            "gridwidth": 2,
            "linecolor": "#EBF0F8",
            "showbackground": true,
            "ticks": "",
            "zerolinecolor": "#EBF0F8"
           },
           "zaxis": {
            "backgroundcolor": "white",
            "gridcolor": "#DFE8F3",
            "gridwidth": 2,
            "linecolor": "#EBF0F8",
            "showbackground": true,
            "ticks": "",
            "zerolinecolor": "#EBF0F8"
           }
          },
          "shapedefaults": {
           "line": {
            "color": "#2a3f5f"
           }
          },
          "ternary": {
           "aaxis": {
            "gridcolor": "#DFE8F3",
            "linecolor": "#A2B1C6",
            "ticks": ""
           },
           "baxis": {
            "gridcolor": "#DFE8F3",
            "linecolor": "#A2B1C6",
            "ticks": ""
           },
           "bgcolor": "white",
           "caxis": {
            "gridcolor": "#DFE8F3",
            "linecolor": "#A2B1C6",
            "ticks": ""
           }
          },
          "title": {
           "x": 0.05
          },
          "xaxis": {
           "automargin": true,
           "gridcolor": "#EBF0F8",
           "linecolor": "#EBF0F8",
           "ticks": "",
           "title": {
            "standoff": 15
           },
           "zerolinecolor": "#EBF0F8",
           "zerolinewidth": 2
          },
          "yaxis": {
           "automargin": true,
           "gridcolor": "#EBF0F8",
           "linecolor": "#EBF0F8",
           "ticks": "",
           "title": {
            "standoff": 15
           },
           "zerolinecolor": "#EBF0F8",
           "zerolinewidth": 2
          }
         }
        },
        "title": {
         "text": "Wining By Kota Kabupaten (Anomaly)"
        },
        "xaxis": {
         "fixedrange": true,
         "title": {
          "text": "Kota Kabupaten"
         }
        },
        "yaxis": {
         "fixedrange": true,
         "title": {
          "text": "Jumlah TPS"
         }
        }
       }
      }
     },
     "metadata": {},
     "output_type": "display_data"
    }
   ],
   "source": [
    "\n",
    "fig = go.Figure()\n",
    "fig.add_trace(go.Bar(name='Wining TPS',x=anomaly_komeng_win_lose['kab_kota'], y=anomaly_komeng_win_lose['win_count'],marker_color='#003E69'))\n",
    "fig.add_trace(go.Bar(name='Losing TPS',x=anomaly_komeng_win_lose['kab_kota'], y=anomaly_komeng_win_lose['lose_count'],marker_color='#ED7D31'))\n",
    "fig.update_layout(barmode='group', template='plotly_white',title={'text':'Wining By Kota Kabupaten (Anomaly)'}, yaxis_title={'text':'Jumlah TPS'}, xaxis_title={'text':'Kota Kabupaten'})\n",
    "fig.update_layout(\n",
    "    margin=dict(l=0, r=0, t=40, b=0),\n",
    "    legend=dict( yanchor=\"top\", y=0.9, xanchor=\"center\", x=0.5)\n",
    ")\n",
    "fig.update_layout(modebar_remove=[ 'zoom', 'pan', 'select', 'lasso2d', 'zoomIn', 'zoomOut',])\n",
    "fig.layout.xaxis.fixedrange = True\n",
    "fig.layout.yaxis.fixedrange = True\n",
    "fig.write_html('html/bar_kota_kabupaten_anomaly.html')\n",
    "fig.show()"
   ]
  },
  {
   "cell_type": "markdown",
   "metadata": {},
   "source": [
    "## kota ter uhuy"
   ]
  },
  {
   "cell_type": "code",
   "execution_count": 180,
   "metadata": {},
   "outputs": [
    {
     "data": {
      "application/vnd.plotly.v1+json": {
       "config": {
        "plotlyServerURL": "https://plot.ly"
       },
       "data": [
        {
         "hovertemplate": "%{x}: %{y:.0f}",
         "marker": {
          "color": "#003E69"
         },
         "name": "Suara Uhuy!",
         "type": "bar",
         "x": [
          "BANDUNG",
          "BOGOR",
          "CIREBON",
          "GARUT",
          "KOTA BANDUNG",
          "KARAWANG",
          "INDRAMAYU",
          "SUKABUMI",
          "TASIKMALAYA",
          "BANDUNG BARAT"
         ],
         "y": [
          204672,
          152742,
          131646,
          128125,
          114039,
          107635,
          103004,
          98609,
          89907,
          85662
         ]
        },
        {
         "hovertemplate": "%{x}: %{y:.0f}",
         "marker": {
          "color": "#ED7D31"
         },
         "name": "Anomaly",
         "type": "bar",
         "x": [
          "BANDUNG",
          "BOGOR",
          "CIREBON",
          "GARUT",
          "KOTA BANDUNG",
          "KARAWANG",
          "INDRAMAYU",
          "SUKABUMI",
          "TASIKMALAYA",
          "BANDUNG BARAT"
         ],
         "y": [
          36828,
          39620,
          15885,
          12382,
          12575,
          29215,
          16113,
          8874,
          6964,
          10823
         ]
        }
       ],
       "layout": {
        "barmode": "stack",
        "legend": {
         "x": 0.5,
         "xanchor": "center",
         "y": 0.9,
         "yanchor": "top"
        },
        "margin": {
         "b": 0,
         "l": 0,
         "r": 0,
         "t": 40
        },
        "modebar": {
         "remove": [
          "zoom",
          "pan",
          "select",
          "lasso2d",
          "zoomIn",
          "zoomOut"
         ]
        },
        "template": {
         "data": {
          "bar": [
           {
            "error_x": {
             "color": "#2a3f5f"
            },
            "error_y": {
             "color": "#2a3f5f"
            },
            "marker": {
             "line": {
              "color": "white",
              "width": 0.5
             },
             "pattern": {
              "fillmode": "overlay",
              "size": 10,
              "solidity": 0.2
             }
            },
            "type": "bar"
           }
          ],
          "barpolar": [
           {
            "marker": {
             "line": {
              "color": "white",
              "width": 0.5
             },
             "pattern": {
              "fillmode": "overlay",
              "size": 10,
              "solidity": 0.2
             }
            },
            "type": "barpolar"
           }
          ],
          "carpet": [
           {
            "aaxis": {
             "endlinecolor": "#2a3f5f",
             "gridcolor": "#C8D4E3",
             "linecolor": "#C8D4E3",
             "minorgridcolor": "#C8D4E3",
             "startlinecolor": "#2a3f5f"
            },
            "baxis": {
             "endlinecolor": "#2a3f5f",
             "gridcolor": "#C8D4E3",
             "linecolor": "#C8D4E3",
             "minorgridcolor": "#C8D4E3",
             "startlinecolor": "#2a3f5f"
            },
            "type": "carpet"
           }
          ],
          "choropleth": [
           {
            "colorbar": {
             "outlinewidth": 0,
             "ticks": ""
            },
            "type": "choropleth"
           }
          ],
          "contour": [
           {
            "colorbar": {
             "outlinewidth": 0,
             "ticks": ""
            },
            "colorscale": [
             [
              0,
              "#0d0887"
             ],
             [
              0.1111111111111111,
              "#46039f"
             ],
             [
              0.2222222222222222,
              "#7201a8"
             ],
             [
              0.3333333333333333,
              "#9c179e"
             ],
             [
              0.4444444444444444,
              "#bd3786"
             ],
             [
              0.5555555555555556,
              "#d8576b"
             ],
             [
              0.6666666666666666,
              "#ed7953"
             ],
             [
              0.7777777777777778,
              "#fb9f3a"
             ],
             [
              0.8888888888888888,
              "#fdca26"
             ],
             [
              1,
              "#f0f921"
             ]
            ],
            "type": "contour"
           }
          ],
          "contourcarpet": [
           {
            "colorbar": {
             "outlinewidth": 0,
             "ticks": ""
            },
            "type": "contourcarpet"
           }
          ],
          "heatmap": [
           {
            "colorbar": {
             "outlinewidth": 0,
             "ticks": ""
            },
            "colorscale": [
             [
              0,
              "#0d0887"
             ],
             [
              0.1111111111111111,
              "#46039f"
             ],
             [
              0.2222222222222222,
              "#7201a8"
             ],
             [
              0.3333333333333333,
              "#9c179e"
             ],
             [
              0.4444444444444444,
              "#bd3786"
             ],
             [
              0.5555555555555556,
              "#d8576b"
             ],
             [
              0.6666666666666666,
              "#ed7953"
             ],
             [
              0.7777777777777778,
              "#fb9f3a"
             ],
             [
              0.8888888888888888,
              "#fdca26"
             ],
             [
              1,
              "#f0f921"
             ]
            ],
            "type": "heatmap"
           }
          ],
          "heatmapgl": [
           {
            "colorbar": {
             "outlinewidth": 0,
             "ticks": ""
            },
            "colorscale": [
             [
              0,
              "#0d0887"
             ],
             [
              0.1111111111111111,
              "#46039f"
             ],
             [
              0.2222222222222222,
              "#7201a8"
             ],
             [
              0.3333333333333333,
              "#9c179e"
             ],
             [
              0.4444444444444444,
              "#bd3786"
             ],
             [
              0.5555555555555556,
              "#d8576b"
             ],
             [
              0.6666666666666666,
              "#ed7953"
             ],
             [
              0.7777777777777778,
              "#fb9f3a"
             ],
             [
              0.8888888888888888,
              "#fdca26"
             ],
             [
              1,
              "#f0f921"
             ]
            ],
            "type": "heatmapgl"
           }
          ],
          "histogram": [
           {
            "marker": {
             "pattern": {
              "fillmode": "overlay",
              "size": 10,
              "solidity": 0.2
             }
            },
            "type": "histogram"
           }
          ],
          "histogram2d": [
           {
            "colorbar": {
             "outlinewidth": 0,
             "ticks": ""
            },
            "colorscale": [
             [
              0,
              "#0d0887"
             ],
             [
              0.1111111111111111,
              "#46039f"
             ],
             [
              0.2222222222222222,
              "#7201a8"
             ],
             [
              0.3333333333333333,
              "#9c179e"
             ],
             [
              0.4444444444444444,
              "#bd3786"
             ],
             [
              0.5555555555555556,
              "#d8576b"
             ],
             [
              0.6666666666666666,
              "#ed7953"
             ],
             [
              0.7777777777777778,
              "#fb9f3a"
             ],
             [
              0.8888888888888888,
              "#fdca26"
             ],
             [
              1,
              "#f0f921"
             ]
            ],
            "type": "histogram2d"
           }
          ],
          "histogram2dcontour": [
           {
            "colorbar": {
             "outlinewidth": 0,
             "ticks": ""
            },
            "colorscale": [
             [
              0,
              "#0d0887"
             ],
             [
              0.1111111111111111,
              "#46039f"
             ],
             [
              0.2222222222222222,
              "#7201a8"
             ],
             [
              0.3333333333333333,
              "#9c179e"
             ],
             [
              0.4444444444444444,
              "#bd3786"
             ],
             [
              0.5555555555555556,
              "#d8576b"
             ],
             [
              0.6666666666666666,
              "#ed7953"
             ],
             [
              0.7777777777777778,
              "#fb9f3a"
             ],
             [
              0.8888888888888888,
              "#fdca26"
             ],
             [
              1,
              "#f0f921"
             ]
            ],
            "type": "histogram2dcontour"
           }
          ],
          "mesh3d": [
           {
            "colorbar": {
             "outlinewidth": 0,
             "ticks": ""
            },
            "type": "mesh3d"
           }
          ],
          "parcoords": [
           {
            "line": {
             "colorbar": {
              "outlinewidth": 0,
              "ticks": ""
             }
            },
            "type": "parcoords"
           }
          ],
          "pie": [
           {
            "automargin": true,
            "type": "pie"
           }
          ],
          "scatter": [
           {
            "fillpattern": {
             "fillmode": "overlay",
             "size": 10,
             "solidity": 0.2
            },
            "type": "scatter"
           }
          ],
          "scatter3d": [
           {
            "line": {
             "colorbar": {
              "outlinewidth": 0,
              "ticks": ""
             }
            },
            "marker": {
             "colorbar": {
              "outlinewidth": 0,
              "ticks": ""
             }
            },
            "type": "scatter3d"
           }
          ],
          "scattercarpet": [
           {
            "marker": {
             "colorbar": {
              "outlinewidth": 0,
              "ticks": ""
             }
            },
            "type": "scattercarpet"
           }
          ],
          "scattergeo": [
           {
            "marker": {
             "colorbar": {
              "outlinewidth": 0,
              "ticks": ""
             }
            },
            "type": "scattergeo"
           }
          ],
          "scattergl": [
           {
            "marker": {
             "colorbar": {
              "outlinewidth": 0,
              "ticks": ""
             }
            },
            "type": "scattergl"
           }
          ],
          "scattermapbox": [
           {
            "marker": {
             "colorbar": {
              "outlinewidth": 0,
              "ticks": ""
             }
            },
            "type": "scattermapbox"
           }
          ],
          "scatterpolar": [
           {
            "marker": {
             "colorbar": {
              "outlinewidth": 0,
              "ticks": ""
             }
            },
            "type": "scatterpolar"
           }
          ],
          "scatterpolargl": [
           {
            "marker": {
             "colorbar": {
              "outlinewidth": 0,
              "ticks": ""
             }
            },
            "type": "scatterpolargl"
           }
          ],
          "scatterternary": [
           {
            "marker": {
             "colorbar": {
              "outlinewidth": 0,
              "ticks": ""
             }
            },
            "type": "scatterternary"
           }
          ],
          "surface": [
           {
            "colorbar": {
             "outlinewidth": 0,
             "ticks": ""
            },
            "colorscale": [
             [
              0,
              "#0d0887"
             ],
             [
              0.1111111111111111,
              "#46039f"
             ],
             [
              0.2222222222222222,
              "#7201a8"
             ],
             [
              0.3333333333333333,
              "#9c179e"
             ],
             [
              0.4444444444444444,
              "#bd3786"
             ],
             [
              0.5555555555555556,
              "#d8576b"
             ],
             [
              0.6666666666666666,
              "#ed7953"
             ],
             [
              0.7777777777777778,
              "#fb9f3a"
             ],
             [
              0.8888888888888888,
              "#fdca26"
             ],
             [
              1,
              "#f0f921"
             ]
            ],
            "type": "surface"
           }
          ],
          "table": [
           {
            "cells": {
             "fill": {
              "color": "#EBF0F8"
             },
             "line": {
              "color": "white"
             }
            },
            "header": {
             "fill": {
              "color": "#C8D4E3"
             },
             "line": {
              "color": "white"
             }
            },
            "type": "table"
           }
          ]
         },
         "layout": {
          "annotationdefaults": {
           "arrowcolor": "#2a3f5f",
           "arrowhead": 0,
           "arrowwidth": 1
          },
          "autotypenumbers": "strict",
          "coloraxis": {
           "colorbar": {
            "outlinewidth": 0,
            "ticks": ""
           }
          },
          "colorscale": {
           "diverging": [
            [
             0,
             "#8e0152"
            ],
            [
             0.1,
             "#c51b7d"
            ],
            [
             0.2,
             "#de77ae"
            ],
            [
             0.3,
             "#f1b6da"
            ],
            [
             0.4,
             "#fde0ef"
            ],
            [
             0.5,
             "#f7f7f7"
            ],
            [
             0.6,
             "#e6f5d0"
            ],
            [
             0.7,
             "#b8e186"
            ],
            [
             0.8,
             "#7fbc41"
            ],
            [
             0.9,
             "#4d9221"
            ],
            [
             1,
             "#276419"
            ]
           ],
           "sequential": [
            [
             0,
             "#0d0887"
            ],
            [
             0.1111111111111111,
             "#46039f"
            ],
            [
             0.2222222222222222,
             "#7201a8"
            ],
            [
             0.3333333333333333,
             "#9c179e"
            ],
            [
             0.4444444444444444,
             "#bd3786"
            ],
            [
             0.5555555555555556,
             "#d8576b"
            ],
            [
             0.6666666666666666,
             "#ed7953"
            ],
            [
             0.7777777777777778,
             "#fb9f3a"
            ],
            [
             0.8888888888888888,
             "#fdca26"
            ],
            [
             1,
             "#f0f921"
            ]
           ],
           "sequentialminus": [
            [
             0,
             "#0d0887"
            ],
            [
             0.1111111111111111,
             "#46039f"
            ],
            [
             0.2222222222222222,
             "#7201a8"
            ],
            [
             0.3333333333333333,
             "#9c179e"
            ],
            [
             0.4444444444444444,
             "#bd3786"
            ],
            [
             0.5555555555555556,
             "#d8576b"
            ],
            [
             0.6666666666666666,
             "#ed7953"
            ],
            [
             0.7777777777777778,
             "#fb9f3a"
            ],
            [
             0.8888888888888888,
             "#fdca26"
            ],
            [
             1,
             "#f0f921"
            ]
           ]
          },
          "colorway": [
           "#636efa",
           "#EF553B",
           "#00cc96",
           "#ab63fa",
           "#FFA15A",
           "#19d3f3",
           "#FF6692",
           "#B6E880",
           "#FF97FF",
           "#FECB52"
          ],
          "font": {
           "color": "#2a3f5f"
          },
          "geo": {
           "bgcolor": "white",
           "lakecolor": "white",
           "landcolor": "white",
           "showlakes": true,
           "showland": true,
           "subunitcolor": "#C8D4E3"
          },
          "hoverlabel": {
           "align": "left"
          },
          "hovermode": "closest",
          "mapbox": {
           "style": "light"
          },
          "paper_bgcolor": "white",
          "plot_bgcolor": "white",
          "polar": {
           "angularaxis": {
            "gridcolor": "#EBF0F8",
            "linecolor": "#EBF0F8",
            "ticks": ""
           },
           "bgcolor": "white",
           "radialaxis": {
            "gridcolor": "#EBF0F8",
            "linecolor": "#EBF0F8",
            "ticks": ""
           }
          },
          "scene": {
           "xaxis": {
            "backgroundcolor": "white",
            "gridcolor": "#DFE8F3",
            "gridwidth": 2,
            "linecolor": "#EBF0F8",
            "showbackground": true,
            "ticks": "",
            "zerolinecolor": "#EBF0F8"
           },
           "yaxis": {
            "backgroundcolor": "white",
            "gridcolor": "#DFE8F3",
            "gridwidth": 2,
            "linecolor": "#EBF0F8",
            "showbackground": true,
            "ticks": "",
            "zerolinecolor": "#EBF0F8"
           },
           "zaxis": {
            "backgroundcolor": "white",
            "gridcolor": "#DFE8F3",
            "gridwidth": 2,
            "linecolor": "#EBF0F8",
            "showbackground": true,
            "ticks": "",
            "zerolinecolor": "#EBF0F8"
           }
          },
          "shapedefaults": {
           "line": {
            "color": "#2a3f5f"
           }
          },
          "ternary": {
           "aaxis": {
            "gridcolor": "#DFE8F3",
            "linecolor": "#A2B1C6",
            "ticks": ""
           },
           "baxis": {
            "gridcolor": "#DFE8F3",
            "linecolor": "#A2B1C6",
            "ticks": ""
           },
           "bgcolor": "white",
           "caxis": {
            "gridcolor": "#DFE8F3",
            "linecolor": "#A2B1C6",
            "ticks": ""
           }
          },
          "title": {
           "x": 0.05
          },
          "xaxis": {
           "automargin": true,
           "gridcolor": "#EBF0F8",
           "linecolor": "#EBF0F8",
           "ticks": "",
           "title": {
            "standoff": 15
           },
           "zerolinecolor": "#EBF0F8",
           "zerolinewidth": 2
          },
          "yaxis": {
           "automargin": true,
           "gridcolor": "#EBF0F8",
           "linecolor": "#EBF0F8",
           "ticks": "",
           "title": {
            "standoff": 15
           },
           "zerolinecolor": "#EBF0F8",
           "zerolinewidth": 2
          }
         }
        },
        "title": {
         "text": "10 Kota Kabupaten Ter-Uhuy!"
        },
        "xaxis": {
         "fixedrange": true,
         "title": {
          "text": "Kota Kabupaten"
         }
        },
        "yaxis": {
         "fixedrange": true,
         "title": {
          "text": "Jumlah Suara Uhuy!"
         }
        }
       }
      }
     },
     "metadata": {},
     "output_type": "display_data"
    }
   ],
   "source": [
    "clean_sum = clean.groupby('kab_kota')[komeng_id].sum().to_frame().reset_index().rename(columns={komeng_id:'clean'})\n",
    "anomaly_sum = anomaly.groupby('kab_kota')[komeng_id].sum().to_frame().reset_index().rename(columns={komeng_id:'anomaly'})\n",
    "uhuy_by_kota = pd.merge(clean_sum,anomaly_sum,on='kab_kota',how='inner')\n",
    "kota_ter_uhuy = uhuy_by_kota.sort_values('clean',ascending=False).head(10)\n",
    "\n",
    "fig = go.Figure()\n",
    "fig.add_trace(go.Bar(name='Suara Uhuy!',x=kota_ter_uhuy['kab_kota'], y=kota_ter_uhuy['clean'],marker_color='#003E69', hovertemplate=\"%{x}: %{y:.0f}\"))\n",
    "fig.add_trace(go.Bar(name='Anomaly',x=kota_ter_uhuy['kab_kota'], y=kota_ter_uhuy['anomaly'],marker_color='#ED7D31', hovertemplate=\"%{x}: %{y:.0f}\"))\n",
    "fig.update_layout(barmode='stack', template='plotly_white',title={'text':'10 Kota Kabupaten Ter-Uhuy!'}, yaxis_title={'text':'Jumlah Suara Uhuy!'}, xaxis_title={'text':'Kota Kabupaten'})\n",
    "fig.update_layout(\n",
    "    margin=dict(l=0, r=0, t=40, b=0),\n",
    "    legend=dict( yanchor=\"top\", y=0.9, xanchor=\"center\", x=0.5)\n",
    "\n",
    ")\n",
    "fig.update_layout(modebar_remove=[ 'zoom', 'pan', 'select', 'lasso2d', 'zoomIn', 'zoomOut',])\n",
    "fig.layout.xaxis.fixedrange = True\n",
    "fig.layout.yaxis.fixedrange = True\n",
    "fig.write_html('html/bar_kota_teruhuy.html')\n",
    "fig.show()\n"
   ]
  },
  {
   "cell_type": "code",
   "execution_count": 181,
   "metadata": {},
   "outputs": [],
   "source": [
    "clean_sum_non_komeng = clean.groupby('kab_kota')[caleg_except_komeng_id].sum().sum(axis=1).to_frame().reset_index().rename(columns={0:'clean_non_uhuy'})\n",
    "anomaly_sum_non_komeng = anomaly.groupby('kab_kota')[caleg_except_komeng_id].sum().sum(axis=1).to_frame().reset_index().rename(columns={0:'anomaly_non_uhuy'})\n",
    "non_uhuy_by_kota = pd.merge(clean_sum_non_komeng,anomaly_sum_non_komeng,on='kab_kota',how='inner')"
   ]
  },
  {
   "cell_type": "code",
   "execution_count": 182,
   "metadata": {},
   "outputs": [
    {
     "data": {
      "application/vnd.plotly.v1+json": {
       "config": {
        "plotlyServerURL": "https://plot.ly"
       },
       "data": [
        {
         "alignmentgroup": "True",
         "customdata": [
          [
           "30.49%",
           18602,
           61004
          ],
          [
           "29.51%",
           79256,
           268534
          ],
          [
           "28.99%",
           33802,
           116606
          ],
          [
           "28.8%",
           31736,
           110190
          ],
          [
           "26.23%",
           131646,
           501848
          ],
          [
           "25.97%",
           10668,
           41086
          ],
          [
           "25.66%",
           29403,
           114609
          ],
          [
           "25.49%",
           38826,
           152325
          ],
          [
           "24.95%",
           15774,
           63222
          ],
          [
           "23.7%",
           114039,
           481122
          ]
         ],
         "hovertemplate": "Kota Kabupaten=%{x}<br>Persentase Kepadatan=%{customdata[0]}<br>Memilih Komeng=%{customdata[1]}<br>Total Suara=%{customdata[2]}<extra></extra>",
         "legendgroup": "",
         "marker": {
          "color": "#003E69",
          "pattern": {
           "shape": ""
          }
         },
         "name": "",
         "offsetgroup": "",
         "orientation": "v",
         "showlegend": false,
         "textposition": "auto",
         "type": "bar",
         "x": [
          "KOTA CIREBON",
          "KOTA DEPOK",
          "KOTA BOGOR",
          "KOTA BEKASI",
          "CIREBON",
          "KOTA SUKABUMI",
          "BEKASI",
          "KOTA CIMAHI",
          "KOTA BANJAR",
          "KOTA BANDUNG"
         ],
         "xaxis": "x",
         "y": [
          0.30493082420824863,
          0.2951432593265657,
          0.28988216729842375,
          0.2880116162991197,
          0.2623224562018779,
          0.2596504892177384,
          0.2565505326806795,
          0.25488921713441653,
          0.24950175571794628,
          0.2370271989225186
         ],
         "yaxis": "y"
        }
       ],
       "layout": {
        "barmode": "relative",
        "legend": {
         "tracegroupgap": 0,
         "x": 0.5,
         "xanchor": "center",
         "y": 0.9,
         "yanchor": "top"
        },
        "margin": {
         "b": 0,
         "l": 0,
         "r": 0,
         "t": 40
        },
        "modebar": {
         "remove": [
          "zoom",
          "pan",
          "select",
          "lasso2d",
          "zoomIn",
          "zoomOut"
         ]
        },
        "template": {
         "data": {
          "bar": [
           {
            "error_x": {
             "color": "#2a3f5f"
            },
            "error_y": {
             "color": "#2a3f5f"
            },
            "marker": {
             "line": {
              "color": "#E5ECF6",
              "width": 0.5
             },
             "pattern": {
              "fillmode": "overlay",
              "size": 10,
              "solidity": 0.2
             }
            },
            "type": "bar"
           }
          ],
          "barpolar": [
           {
            "marker": {
             "line": {
              "color": "#E5ECF6",
              "width": 0.5
             },
             "pattern": {
              "fillmode": "overlay",
              "size": 10,
              "solidity": 0.2
             }
            },
            "type": "barpolar"
           }
          ],
          "carpet": [
           {
            "aaxis": {
             "endlinecolor": "#2a3f5f",
             "gridcolor": "white",
             "linecolor": "white",
             "minorgridcolor": "white",
             "startlinecolor": "#2a3f5f"
            },
            "baxis": {
             "endlinecolor": "#2a3f5f",
             "gridcolor": "white",
             "linecolor": "white",
             "minorgridcolor": "white",
             "startlinecolor": "#2a3f5f"
            },
            "type": "carpet"
           }
          ],
          "choropleth": [
           {
            "colorbar": {
             "outlinewidth": 0,
             "ticks": ""
            },
            "type": "choropleth"
           }
          ],
          "contour": [
           {
            "colorbar": {
             "outlinewidth": 0,
             "ticks": ""
            },
            "colorscale": [
             [
              0,
              "#0d0887"
             ],
             [
              0.1111111111111111,
              "#46039f"
             ],
             [
              0.2222222222222222,
              "#7201a8"
             ],
             [
              0.3333333333333333,
              "#9c179e"
             ],
             [
              0.4444444444444444,
              "#bd3786"
             ],
             [
              0.5555555555555556,
              "#d8576b"
             ],
             [
              0.6666666666666666,
              "#ed7953"
             ],
             [
              0.7777777777777778,
              "#fb9f3a"
             ],
             [
              0.8888888888888888,
              "#fdca26"
             ],
             [
              1,
              "#f0f921"
             ]
            ],
            "type": "contour"
           }
          ],
          "contourcarpet": [
           {
            "colorbar": {
             "outlinewidth": 0,
             "ticks": ""
            },
            "type": "contourcarpet"
           }
          ],
          "heatmap": [
           {
            "colorbar": {
             "outlinewidth": 0,
             "ticks": ""
            },
            "colorscale": [
             [
              0,
              "#0d0887"
             ],
             [
              0.1111111111111111,
              "#46039f"
             ],
             [
              0.2222222222222222,
              "#7201a8"
             ],
             [
              0.3333333333333333,
              "#9c179e"
             ],
             [
              0.4444444444444444,
              "#bd3786"
             ],
             [
              0.5555555555555556,
              "#d8576b"
             ],
             [
              0.6666666666666666,
              "#ed7953"
             ],
             [
              0.7777777777777778,
              "#fb9f3a"
             ],
             [
              0.8888888888888888,
              "#fdca26"
             ],
             [
              1,
              "#f0f921"
             ]
            ],
            "type": "heatmap"
           }
          ],
          "heatmapgl": [
           {
            "colorbar": {
             "outlinewidth": 0,
             "ticks": ""
            },
            "colorscale": [
             [
              0,
              "#0d0887"
             ],
             [
              0.1111111111111111,
              "#46039f"
             ],
             [
              0.2222222222222222,
              "#7201a8"
             ],
             [
              0.3333333333333333,
              "#9c179e"
             ],
             [
              0.4444444444444444,
              "#bd3786"
             ],
             [
              0.5555555555555556,
              "#d8576b"
             ],
             [
              0.6666666666666666,
              "#ed7953"
             ],
             [
              0.7777777777777778,
              "#fb9f3a"
             ],
             [
              0.8888888888888888,
              "#fdca26"
             ],
             [
              1,
              "#f0f921"
             ]
            ],
            "type": "heatmapgl"
           }
          ],
          "histogram": [
           {
            "marker": {
             "pattern": {
              "fillmode": "overlay",
              "size": 10,
              "solidity": 0.2
             }
            },
            "type": "histogram"
           }
          ],
          "histogram2d": [
           {
            "colorbar": {
             "outlinewidth": 0,
             "ticks": ""
            },
            "colorscale": [
             [
              0,
              "#0d0887"
             ],
             [
              0.1111111111111111,
              "#46039f"
             ],
             [
              0.2222222222222222,
              "#7201a8"
             ],
             [
              0.3333333333333333,
              "#9c179e"
             ],
             [
              0.4444444444444444,
              "#bd3786"
             ],
             [
              0.5555555555555556,
              "#d8576b"
             ],
             [
              0.6666666666666666,
              "#ed7953"
             ],
             [
              0.7777777777777778,
              "#fb9f3a"
             ],
             [
              0.8888888888888888,
              "#fdca26"
             ],
             [
              1,
              "#f0f921"
             ]
            ],
            "type": "histogram2d"
           }
          ],
          "histogram2dcontour": [
           {
            "colorbar": {
             "outlinewidth": 0,
             "ticks": ""
            },
            "colorscale": [
             [
              0,
              "#0d0887"
             ],
             [
              0.1111111111111111,
              "#46039f"
             ],
             [
              0.2222222222222222,
              "#7201a8"
             ],
             [
              0.3333333333333333,
              "#9c179e"
             ],
             [
              0.4444444444444444,
              "#bd3786"
             ],
             [
              0.5555555555555556,
              "#d8576b"
             ],
             [
              0.6666666666666666,
              "#ed7953"
             ],
             [
              0.7777777777777778,
              "#fb9f3a"
             ],
             [
              0.8888888888888888,
              "#fdca26"
             ],
             [
              1,
              "#f0f921"
             ]
            ],
            "type": "histogram2dcontour"
           }
          ],
          "mesh3d": [
           {
            "colorbar": {
             "outlinewidth": 0,
             "ticks": ""
            },
            "type": "mesh3d"
           }
          ],
          "parcoords": [
           {
            "line": {
             "colorbar": {
              "outlinewidth": 0,
              "ticks": ""
             }
            },
            "type": "parcoords"
           }
          ],
          "pie": [
           {
            "automargin": true,
            "type": "pie"
           }
          ],
          "scatter": [
           {
            "fillpattern": {
             "fillmode": "overlay",
             "size": 10,
             "solidity": 0.2
            },
            "type": "scatter"
           }
          ],
          "scatter3d": [
           {
            "line": {
             "colorbar": {
              "outlinewidth": 0,
              "ticks": ""
             }
            },
            "marker": {
             "colorbar": {
              "outlinewidth": 0,
              "ticks": ""
             }
            },
            "type": "scatter3d"
           }
          ],
          "scattercarpet": [
           {
            "marker": {
             "colorbar": {
              "outlinewidth": 0,
              "ticks": ""
             }
            },
            "type": "scattercarpet"
           }
          ],
          "scattergeo": [
           {
            "marker": {
             "colorbar": {
              "outlinewidth": 0,
              "ticks": ""
             }
            },
            "type": "scattergeo"
           }
          ],
          "scattergl": [
           {
            "marker": {
             "colorbar": {
              "outlinewidth": 0,
              "ticks": ""
             }
            },
            "type": "scattergl"
           }
          ],
          "scattermapbox": [
           {
            "marker": {
             "colorbar": {
              "outlinewidth": 0,
              "ticks": ""
             }
            },
            "type": "scattermapbox"
           }
          ],
          "scatterpolar": [
           {
            "marker": {
             "colorbar": {
              "outlinewidth": 0,
              "ticks": ""
             }
            },
            "type": "scatterpolar"
           }
          ],
          "scatterpolargl": [
           {
            "marker": {
             "colorbar": {
              "outlinewidth": 0,
              "ticks": ""
             }
            },
            "type": "scatterpolargl"
           }
          ],
          "scatterternary": [
           {
            "marker": {
             "colorbar": {
              "outlinewidth": 0,
              "ticks": ""
             }
            },
            "type": "scatterternary"
           }
          ],
          "surface": [
           {
            "colorbar": {
             "outlinewidth": 0,
             "ticks": ""
            },
            "colorscale": [
             [
              0,
              "#0d0887"
             ],
             [
              0.1111111111111111,
              "#46039f"
             ],
             [
              0.2222222222222222,
              "#7201a8"
             ],
             [
              0.3333333333333333,
              "#9c179e"
             ],
             [
              0.4444444444444444,
              "#bd3786"
             ],
             [
              0.5555555555555556,
              "#d8576b"
             ],
             [
              0.6666666666666666,
              "#ed7953"
             ],
             [
              0.7777777777777778,
              "#fb9f3a"
             ],
             [
              0.8888888888888888,
              "#fdca26"
             ],
             [
              1,
              "#f0f921"
             ]
            ],
            "type": "surface"
           }
          ],
          "table": [
           {
            "cells": {
             "fill": {
              "color": "#EBF0F8"
             },
             "line": {
              "color": "white"
             }
            },
            "header": {
             "fill": {
              "color": "#C8D4E3"
             },
             "line": {
              "color": "white"
             }
            },
            "type": "table"
           }
          ]
         },
         "layout": {
          "annotationdefaults": {
           "arrowcolor": "#2a3f5f",
           "arrowhead": 0,
           "arrowwidth": 1
          },
          "autotypenumbers": "strict",
          "coloraxis": {
           "colorbar": {
            "outlinewidth": 0,
            "ticks": ""
           }
          },
          "colorscale": {
           "diverging": [
            [
             0,
             "#8e0152"
            ],
            [
             0.1,
             "#c51b7d"
            ],
            [
             0.2,
             "#de77ae"
            ],
            [
             0.3,
             "#f1b6da"
            ],
            [
             0.4,
             "#fde0ef"
            ],
            [
             0.5,
             "#f7f7f7"
            ],
            [
             0.6,
             "#e6f5d0"
            ],
            [
             0.7,
             "#b8e186"
            ],
            [
             0.8,
             "#7fbc41"
            ],
            [
             0.9,
             "#4d9221"
            ],
            [
             1,
             "#276419"
            ]
           ],
           "sequential": [
            [
             0,
             "#0d0887"
            ],
            [
             0.1111111111111111,
             "#46039f"
            ],
            [
             0.2222222222222222,
             "#7201a8"
            ],
            [
             0.3333333333333333,
             "#9c179e"
            ],
            [
             0.4444444444444444,
             "#bd3786"
            ],
            [
             0.5555555555555556,
             "#d8576b"
            ],
            [
             0.6666666666666666,
             "#ed7953"
            ],
            [
             0.7777777777777778,
             "#fb9f3a"
            ],
            [
             0.8888888888888888,
             "#fdca26"
            ],
            [
             1,
             "#f0f921"
            ]
           ],
           "sequentialminus": [
            [
             0,
             "#0d0887"
            ],
            [
             0.1111111111111111,
             "#46039f"
            ],
            [
             0.2222222222222222,
             "#7201a8"
            ],
            [
             0.3333333333333333,
             "#9c179e"
            ],
            [
             0.4444444444444444,
             "#bd3786"
            ],
            [
             0.5555555555555556,
             "#d8576b"
            ],
            [
             0.6666666666666666,
             "#ed7953"
            ],
            [
             0.7777777777777778,
             "#fb9f3a"
            ],
            [
             0.8888888888888888,
             "#fdca26"
            ],
            [
             1,
             "#f0f921"
            ]
           ]
          },
          "colorway": [
           "#636efa",
           "#EF553B",
           "#00cc96",
           "#ab63fa",
           "#FFA15A",
           "#19d3f3",
           "#FF6692",
           "#B6E880",
           "#FF97FF",
           "#FECB52"
          ],
          "font": {
           "color": "#2a3f5f"
          },
          "geo": {
           "bgcolor": "white",
           "lakecolor": "white",
           "landcolor": "#E5ECF6",
           "showlakes": true,
           "showland": true,
           "subunitcolor": "white"
          },
          "hoverlabel": {
           "align": "left"
          },
          "hovermode": "closest",
          "mapbox": {
           "style": "light"
          },
          "paper_bgcolor": "white",
          "plot_bgcolor": "#E5ECF6",
          "polar": {
           "angularaxis": {
            "gridcolor": "white",
            "linecolor": "white",
            "ticks": ""
           },
           "bgcolor": "#E5ECF6",
           "radialaxis": {
            "gridcolor": "white",
            "linecolor": "white",
            "ticks": ""
           }
          },
          "scene": {
           "xaxis": {
            "backgroundcolor": "#E5ECF6",
            "gridcolor": "white",
            "gridwidth": 2,
            "linecolor": "white",
            "showbackground": true,
            "ticks": "",
            "zerolinecolor": "white"
           },
           "yaxis": {
            "backgroundcolor": "#E5ECF6",
            "gridcolor": "white",
            "gridwidth": 2,
            "linecolor": "white",
            "showbackground": true,
            "ticks": "",
            "zerolinecolor": "white"
           },
           "zaxis": {
            "backgroundcolor": "#E5ECF6",
            "gridcolor": "white",
            "gridwidth": 2,
            "linecolor": "white",
            "showbackground": true,
            "ticks": "",
            "zerolinecolor": "white"
           }
          },
          "shapedefaults": {
           "line": {
            "color": "#2a3f5f"
           }
          },
          "ternary": {
           "aaxis": {
            "gridcolor": "white",
            "linecolor": "white",
            "ticks": ""
           },
           "baxis": {
            "gridcolor": "white",
            "linecolor": "white",
            "ticks": ""
           },
           "bgcolor": "#E5ECF6",
           "caxis": {
            "gridcolor": "white",
            "linecolor": "white",
            "ticks": ""
           }
          },
          "title": {
           "x": 0.05
          },
          "xaxis": {
           "automargin": true,
           "gridcolor": "white",
           "linecolor": "white",
           "ticks": "",
           "title": {
            "standoff": 15
           },
           "zerolinecolor": "white",
           "zerolinewidth": 2
          },
          "yaxis": {
           "automargin": true,
           "gridcolor": "white",
           "linecolor": "white",
           "ticks": "",
           "title": {
            "standoff": 15
           },
           "zerolinecolor": "white",
           "zerolinewidth": 2
          }
         }
        },
        "title": {
         "text": "Konsentrasi Uhuy Kota Kabupaten Terpadat"
        },
        "xaxis": {
         "anchor": "y",
         "domain": [
          0,
          1
         ],
         "fixedrange": true,
         "title": {
          "text": "Kota Kabupaten"
         }
        },
        "yaxis": {
         "anchor": "x",
         "domain": [
          0,
          1
         ],
         "fixedrange": true,
         "title": {
          "text": "Kepadatan Suara Uhuy!"
         }
        }
       }
      }
     },
     "metadata": {},
     "output_type": "display_data"
    }
   ],
   "source": [
    "kepadatan_uhuy_by_kota = pd.merge(uhuy_by_kota,non_uhuy_by_kota,on='kab_kota',how='inner')\n",
    "kepadatan_uhuy_by_kota['total_clean'] = kepadatan_uhuy_by_kota['clean']+kepadatan_uhuy_by_kota['clean_non_uhuy']\n",
    "kepadatan_uhuy_by_kota['kepadatan'] = (kepadatan_uhuy_by_kota['clean']/kepadatan_uhuy_by_kota['total_clean'])\n",
    "kepadatan_uhuy_by_kota['Persentase Kepadatan'] = kepadatan_uhuy_by_kota['kepadatan'].apply(lambda x:\"{}%\".format(round(x*100,2)))\n",
    "uhuy_terpadat = kepadatan_uhuy_by_kota.sort_values('kepadatan',ascending=False).head(10)\n",
    "uhuy_terpadat.rename(columns={'clean':'Memilih Komeng',\"total_clean\":\"Total Suara\"}, inplace=True)\n",
    "\n",
    "# fig = go.Figure()\n",
    "# fig.add_trace(go.Bar(name='Kepadatan Uhuy!',x=uhuy_terpadat['kab_kota'], y=uhuy_terpadat['kepadatan'],marker_color='#003E69',hovertemplate=\"%{y:%}\"))\n",
    "\n",
    "fig = px.bar(uhuy_terpadat,x='kab_kota',y='kepadatan', labels={'kab_kota':'Kota Kabupaten', 'kepadatan':'Kepadatan Suara Uhuy!'}, title='Konsentrasi Uhuy Kota Kabupaten Terpadat', hover_data={'kepadatan':False,'Persentase Kepadatan':True,\"Memilih Komeng\":True,\"Total Suara\":True})\n",
    "fig.update_traces(marker_color='#003E69')\n",
    "fig.update_layout(\n",
    "    margin=dict(l=0, r=0, t=40, b=0),\n",
    "    legend=dict( yanchor=\"top\", y=0.9, xanchor=\"center\", x=0.5)\n",
    "\n",
    ")\n",
    "fig.update_layout(modebar_remove=[ 'zoom', 'pan', 'select', 'lasso2d', 'zoomIn', 'zoomOut',])\n",
    "fig.layout.xaxis.fixedrange = True\n",
    "fig.layout.yaxis.fixedrange = True\n",
    "fig.write_html('html/bar_konsentrasi_uhuy.html')\n",
    "fig.show()\n"
   ]
  },
  {
   "cell_type": "markdown",
   "metadata": {},
   "source": [
    "## Anomaly Winner"
   ]
  },
  {
   "cell_type": "code",
   "execution_count": 183,
   "metadata": {},
   "outputs": [],
   "source": [
    "anomaly['winner'] = anomaly[caleg_id].idxmax(axis=1)"
   ]
  },
  {
   "cell_type": "code",
   "execution_count": 184,
   "metadata": {},
   "outputs": [],
   "source": [
    "anomaly['winner_vote_sum'] = anomaly[caleg_id].max(axis=1).to_frame()"
   ]
  },
  {
   "cell_type": "code",
   "execution_count": 185,
   "metadata": {},
   "outputs": [],
   "source": [
    "anomaly_winner = anomaly[['kode_prov','kode_kab_kota','kode_kec','kode_desa','kode_tps','kab_kota','kecamatan','desa','tps','winner','winner_vote_sum']].sort_values('winner_vote_sum',ascending=False).head(10)"
   ]
  },
  {
   "cell_type": "code",
   "execution_count": 186,
   "metadata": {},
   "outputs": [],
   "source": [
    "anomaly_winner_caleg = anomaly_winner.merge(caleg[['id','nama']],how='left',left_on='winner',right_on='id')"
   ]
  },
  {
   "cell_type": "code",
   "execution_count": 187,
   "metadata": {},
   "outputs": [],
   "source": [
    "def tps_url(row:pd.Series):\n",
    "    # url = \"https://pemilu2024.kpu.go.id/pemilu_dpd/hitung-suara/32/3201/320133/3201332003/3201332003010\"\n",
    "    url = \"https://pemilu2024.kpu.go.id/pemilu_dpd/hitung-suara/{}/{}/{}/{}/{}\".format(\n",
    "        row['kode_prov'],\n",
    "        row['kode_kab_kota'],\n",
    "        row['kode_kec'],\n",
    "        row['kode_desa'],\n",
    "        row['kode_tps']\n",
    "        )\n",
    "    return url"
   ]
  },
  {
   "cell_type": "code",
   "execution_count": 188,
   "metadata": {},
   "outputs": [],
   "source": [
    "def format_tps(row:pd.Series):\n",
    "    alamat = \"\"\"<span>{}, {}, {} <b> <a href=\"{}\">{}</a> </b></span>\"\"\".format(row['kab_kota'],row['kecamatan'],row['desa'],row['url'],row['tps'])\n",
    "    detail = \"<span><b>{}</b></span><br>\".format(row['nama'])+alamat\n",
    "    return detail\n",
    "    # return \"\"\"<span><span> {} </span><span align=\"left\" style=\"font-size:2em;\"> {} Suara</span></span>\"\"\".format(detail,int(row['winner_vote_sum']))"
   ]
  },
  {
   "cell_type": "code",
   "execution_count": 189,
   "metadata": {},
   "outputs": [],
   "source": [
    "anomaly_winner_caleg['url'] = anomaly_winner_caleg.apply(tps_url, axis=1)\n",
    "anomaly_winner_caleg['alamat'] = anomaly_winner_caleg.apply(format_tps, axis=1)"
   ]
  },
  {
   "cell_type": "code",
   "execution_count": 190,
   "metadata": {},
   "outputs": [
    {
     "data": {
      "text/html": [
       "<div>\n",
       "<style scoped>\n",
       "    .dataframe tbody tr th:only-of-type {\n",
       "        vertical-align: middle;\n",
       "    }\n",
       "\n",
       "    .dataframe tbody tr th {\n",
       "        vertical-align: top;\n",
       "    }\n",
       "\n",
       "    .dataframe thead th {\n",
       "        text-align: right;\n",
       "    }\n",
       "</style>\n",
       "<table border=\"1\" class=\"dataframe\">\n",
       "  <thead>\n",
       "    <tr style=\"text-align: right;\">\n",
       "      <th></th>\n",
       "      <th>kab_kota</th>\n",
       "      <th>kecamatan</th>\n",
       "      <th>desa</th>\n",
       "      <th>tps</th>\n",
       "      <th>nama</th>\n",
       "      <th>winner_vote_sum</th>\n",
       "      <th>url</th>\n",
       "    </tr>\n",
       "  </thead>\n",
       "  <tbody>\n",
       "    <tr>\n",
       "      <th>0</th>\n",
       "      <td>BANDUNG</td>\n",
       "      <td>MAJALAYA</td>\n",
       "      <td>SUKAMAJU</td>\n",
       "      <td>TPS 035</td>\n",
       "      <td>MUHAMMAD MURTADLOILLAH</td>\n",
       "      <td>888.0</td>\n",
       "      <td>https://pemilu2024.kpu.go.id/pemilu_dpd/hitung...</td>\n",
       "    </tr>\n",
       "    <tr>\n",
       "      <th>1</th>\n",
       "      <td>INDRAMAYU</td>\n",
       "      <td>LOHBENER</td>\n",
       "      <td>PAMAYAHAN</td>\n",
       "      <td>TPS 006</td>\n",
       "      <td>HENDRIK KURNIAWAN, S.Pd.I.</td>\n",
       "      <td>888.0</td>\n",
       "      <td>https://pemilu2024.kpu.go.id/pemilu_dpd/hitung...</td>\n",
       "    </tr>\n",
       "    <tr>\n",
       "      <th>2</th>\n",
       "      <td>BANDUNG</td>\n",
       "      <td>ARJASARI</td>\n",
       "      <td>RANCAKOLE</td>\n",
       "      <td>TPS 007</td>\n",
       "      <td>AGITA NURFIANTI, S.Psi.</td>\n",
       "      <td>888.0</td>\n",
       "      <td>https://pemilu2024.kpu.go.id/pemilu_dpd/hitung...</td>\n",
       "    </tr>\n",
       "    <tr>\n",
       "      <th>3</th>\n",
       "      <td>INDRAMAYU</td>\n",
       "      <td>LOHBENER</td>\n",
       "      <td>PAMAYAHAN</td>\n",
       "      <td>TPS 003</td>\n",
       "      <td>MULYADI ELHAN ZAKARIA</td>\n",
       "      <td>888.0</td>\n",
       "      <td>https://pemilu2024.kpu.go.id/pemilu_dpd/hitung...</td>\n",
       "    </tr>\n",
       "    <tr>\n",
       "      <th>4</th>\n",
       "      <td>BANDUNG</td>\n",
       "      <td>ARJASARI</td>\n",
       "      <td>RANCAKOLE</td>\n",
       "      <td>TPS 008</td>\n",
       "      <td>AMBU USDEK KANIAWATI, S.Sos.</td>\n",
       "      <td>888.0</td>\n",
       "      <td>https://pemilu2024.kpu.go.id/pemilu_dpd/hitung...</td>\n",
       "    </tr>\n",
       "    <tr>\n",
       "      <th>5</th>\n",
       "      <td>INDRAMAYU</td>\n",
       "      <td>LOHBENER</td>\n",
       "      <td>PAMAYAHAN</td>\n",
       "      <td>TPS 005</td>\n",
       "      <td>DENDA ALAMSYAH, S.T.</td>\n",
       "      <td>886.0</td>\n",
       "      <td>https://pemilu2024.kpu.go.id/pemilu_dpd/hitung...</td>\n",
       "    </tr>\n",
       "    <tr>\n",
       "      <th>6</th>\n",
       "      <td>BANDUNG</td>\n",
       "      <td>ARJASARI</td>\n",
       "      <td>RANCAKOLE</td>\n",
       "      <td>TPS 029</td>\n",
       "      <td>IMAM SOLAHUDIN, S.T., S.Ag., M.Si.</td>\n",
       "      <td>884.0</td>\n",
       "      <td>https://pemilu2024.kpu.go.id/pemilu_dpd/hitung...</td>\n",
       "    </tr>\n",
       "    <tr>\n",
       "      <th>7</th>\n",
       "      <td>INDRAMAYU</td>\n",
       "      <td>LOHBENER</td>\n",
       "      <td>LANGUT</td>\n",
       "      <td>TPS 014</td>\n",
       "      <td>ERNAWATY TAMPUBOLON, S.T., M.Th.</td>\n",
       "      <td>882.0</td>\n",
       "      <td>https://pemilu2024.kpu.go.id/pemilu_dpd/hitung...</td>\n",
       "    </tr>\n",
       "    <tr>\n",
       "      <th>8</th>\n",
       "      <td>KARAWANG</td>\n",
       "      <td>JAYAKERTA</td>\n",
       "      <td>JAYAMAKMUR</td>\n",
       "      <td>TPS 017</td>\n",
       "      <td>JAHENOS SARAGIH, S.Th., M.Th., M.M.</td>\n",
       "      <td>880.0</td>\n",
       "      <td>https://pemilu2024.kpu.go.id/pemilu_dpd/hitung...</td>\n",
       "    </tr>\n",
       "    <tr>\n",
       "      <th>9</th>\n",
       "      <td>BANDUNG</td>\n",
       "      <td>MARGAASIH</td>\n",
       "      <td>NANJUNG</td>\n",
       "      <td>TPS 020</td>\n",
       "      <td>Ir. ELAN HERYANTO</td>\n",
       "      <td>820.0</td>\n",
       "      <td>https://pemilu2024.kpu.go.id/pemilu_dpd/hitung...</td>\n",
       "    </tr>\n",
       "  </tbody>\n",
       "</table>\n",
       "</div>"
      ],
      "text/plain": [
       "    kab_kota  kecamatan        desa      tps   \n",
       "0    BANDUNG   MAJALAYA    SUKAMAJU  TPS 035  \\\n",
       "1  INDRAMAYU   LOHBENER   PAMAYAHAN  TPS 006   \n",
       "2    BANDUNG   ARJASARI   RANCAKOLE  TPS 007   \n",
       "3  INDRAMAYU   LOHBENER   PAMAYAHAN  TPS 003   \n",
       "4    BANDUNG   ARJASARI   RANCAKOLE  TPS 008   \n",
       "5  INDRAMAYU   LOHBENER   PAMAYAHAN  TPS 005   \n",
       "6    BANDUNG   ARJASARI   RANCAKOLE  TPS 029   \n",
       "7  INDRAMAYU   LOHBENER      LANGUT  TPS 014   \n",
       "8   KARAWANG  JAYAKERTA  JAYAMAKMUR  TPS 017   \n",
       "9    BANDUNG  MARGAASIH     NANJUNG  TPS 020   \n",
       "\n",
       "                                  nama  winner_vote_sum   \n",
       "0               MUHAMMAD MURTADLOILLAH            888.0  \\\n",
       "1           HENDRIK KURNIAWAN, S.Pd.I.            888.0   \n",
       "2              AGITA NURFIANTI, S.Psi.            888.0   \n",
       "3                MULYADI ELHAN ZAKARIA            888.0   \n",
       "4         AMBU USDEK KANIAWATI, S.Sos.            888.0   \n",
       "5                 DENDA ALAMSYAH, S.T.            886.0   \n",
       "6   IMAM SOLAHUDIN, S.T., S.Ag., M.Si.            884.0   \n",
       "7     ERNAWATY TAMPUBOLON, S.T., M.Th.            882.0   \n",
       "8  JAHENOS SARAGIH, S.Th., M.Th., M.M.            880.0   \n",
       "9                    Ir. ELAN HERYANTO            820.0   \n",
       "\n",
       "                                                 url  \n",
       "0  https://pemilu2024.kpu.go.id/pemilu_dpd/hitung...  \n",
       "1  https://pemilu2024.kpu.go.id/pemilu_dpd/hitung...  \n",
       "2  https://pemilu2024.kpu.go.id/pemilu_dpd/hitung...  \n",
       "3  https://pemilu2024.kpu.go.id/pemilu_dpd/hitung...  \n",
       "4  https://pemilu2024.kpu.go.id/pemilu_dpd/hitung...  \n",
       "5  https://pemilu2024.kpu.go.id/pemilu_dpd/hitung...  \n",
       "6  https://pemilu2024.kpu.go.id/pemilu_dpd/hitung...  \n",
       "7  https://pemilu2024.kpu.go.id/pemilu_dpd/hitung...  \n",
       "8  https://pemilu2024.kpu.go.id/pemilu_dpd/hitung...  \n",
       "9  https://pemilu2024.kpu.go.id/pemilu_dpd/hitung...  "
      ]
     },
     "execution_count": 190,
     "metadata": {},
     "output_type": "execute_result"
    }
   ],
   "source": [
    "anomaly_winner_caleg[['kab_kota','kecamatan','desa','tps','nama','winner_vote_sum','url']]"
   ]
  },
  {
   "cell_type": "code",
   "execution_count": 191,
   "metadata": {},
   "outputs": [
    {
     "data": {
      "application/vnd.plotly.v1+json": {
       "config": {
        "plotlyServerURL": "https://plot.ly"
       },
       "data": [
        {
         "cells": {
          "align": "left",
          "values": [
           [
            "<span><b>MUHAMMAD MURTADLOILLAH</b></span><br><span>BANDUNG, MAJALAYA, SUKAMAJU <b> <a href=\"https://pemilu2024.kpu.go.id/pemilu_dpd/hitung-suara/32/3204/320433/3204332008/3204332008035\">TPS 035</a> </b></span>",
            "<span><b>HENDRIK KURNIAWAN, S.Pd.I.</b></span><br><span>INDRAMAYU, LOHBENER, PAMAYAHAN <b> <a href=\"https://pemilu2024.kpu.go.id/pemilu_dpd/hitung-suara/32/3212/321218/3212182010/3212182010006\">TPS 006</a> </b></span>",
            "<span><b>AGITA NURFIANTI, S.Psi.</b></span><br><span>BANDUNG, ARJASARI, RANCAKOLE <b> <a href=\"https://pemilu2024.kpu.go.id/pemilu_dpd/hitung-suara/32/3204/320416/3204162010/3204162010007\">TPS 007</a> </b></span>",
            "<span><b>MULYADI ELHAN ZAKARIA</b></span><br><span>INDRAMAYU, LOHBENER, PAMAYAHAN <b> <a href=\"https://pemilu2024.kpu.go.id/pemilu_dpd/hitung-suara/32/3212/321218/3212182010/3212182010003\">TPS 003</a> </b></span>",
            "<span><b>AMBU USDEK KANIAWATI, S.Sos.</b></span><br><span>BANDUNG, ARJASARI, RANCAKOLE <b> <a href=\"https://pemilu2024.kpu.go.id/pemilu_dpd/hitung-suara/32/3204/320416/3204162010/3204162010008\">TPS 008</a> </b></span>",
            "<span><b>DENDA ALAMSYAH, S.T.</b></span><br><span>INDRAMAYU, LOHBENER, PAMAYAHAN <b> <a href=\"https://pemilu2024.kpu.go.id/pemilu_dpd/hitung-suara/32/3212/321218/3212182010/3212182010005\">TPS 005</a> </b></span>",
            "<span><b>IMAM SOLAHUDIN, S.T., S.Ag., M.Si.</b></span><br><span>BANDUNG, ARJASARI, RANCAKOLE <b> <a href=\"https://pemilu2024.kpu.go.id/pemilu_dpd/hitung-suara/32/3204/320416/3204162010/3204162010029\">TPS 029</a> </b></span>",
            "<span><b>ERNAWATY TAMPUBOLON, S.T., M.Th.</b></span><br><span>INDRAMAYU, LOHBENER, LANGUT <b> <a href=\"https://pemilu2024.kpu.go.id/pemilu_dpd/hitung-suara/32/3212/321218/3212182004/3212182004014\">TPS 014</a> </b></span>",
            "<span><b>JAHENOS SARAGIH, S.Th., M.Th., M.M.</b></span><br><span>KARAWANG, JAYAKERTA, JAYAMAKMUR <b> <a href=\"https://pemilu2024.kpu.go.id/pemilu_dpd/hitung-suara/32/3215/321522/3215222001/3215222001017\">TPS 017</a> </b></span>",
            "<span><b>Ir. ELAN HERYANTO</b></span><br><span>BANDUNG, MARGAASIH, NANJUNG <b> <a href=\"https://pemilu2024.kpu.go.id/pemilu_dpd/hitung-suara/32/3204/320410/3204102003/3204102003020\">TPS 020</a> </b></span>"
           ],
           [
            888,
            888,
            888,
            888,
            888,
            886,
            884,
            882,
            880,
            820
           ]
          ]
         },
         "columnwidth": [
          3,
          1
         ],
         "header": {
          "values": [
           "Detail",
           "Jumlah Suara Pemenang"
          ]
         },
         "type": "table"
        }
       ],
       "layout": {
        "margin": {
         "b": 0,
         "l": 0,
         "r": 0,
         "t": 40
        },
        "modebar": {
         "remove": [
          "zoom",
          "pan",
          "select",
          "lasso2d",
          "zoomIn",
          "zoomOut"
         ]
        },
        "template": {
         "data": {
          "bar": [
           {
            "error_x": {
             "color": "#2a3f5f"
            },
            "error_y": {
             "color": "#2a3f5f"
            },
            "marker": {
             "line": {
              "color": "#E5ECF6",
              "width": 0.5
             },
             "pattern": {
              "fillmode": "overlay",
              "size": 10,
              "solidity": 0.2
             }
            },
            "type": "bar"
           }
          ],
          "barpolar": [
           {
            "marker": {
             "line": {
              "color": "#E5ECF6",
              "width": 0.5
             },
             "pattern": {
              "fillmode": "overlay",
              "size": 10,
              "solidity": 0.2
             }
            },
            "type": "barpolar"
           }
          ],
          "carpet": [
           {
            "aaxis": {
             "endlinecolor": "#2a3f5f",
             "gridcolor": "white",
             "linecolor": "white",
             "minorgridcolor": "white",
             "startlinecolor": "#2a3f5f"
            },
            "baxis": {
             "endlinecolor": "#2a3f5f",
             "gridcolor": "white",
             "linecolor": "white",
             "minorgridcolor": "white",
             "startlinecolor": "#2a3f5f"
            },
            "type": "carpet"
           }
          ],
          "choropleth": [
           {
            "colorbar": {
             "outlinewidth": 0,
             "ticks": ""
            },
            "type": "choropleth"
           }
          ],
          "contour": [
           {
            "colorbar": {
             "outlinewidth": 0,
             "ticks": ""
            },
            "colorscale": [
             [
              0,
              "#0d0887"
             ],
             [
              0.1111111111111111,
              "#46039f"
             ],
             [
              0.2222222222222222,
              "#7201a8"
             ],
             [
              0.3333333333333333,
              "#9c179e"
             ],
             [
              0.4444444444444444,
              "#bd3786"
             ],
             [
              0.5555555555555556,
              "#d8576b"
             ],
             [
              0.6666666666666666,
              "#ed7953"
             ],
             [
              0.7777777777777778,
              "#fb9f3a"
             ],
             [
              0.8888888888888888,
              "#fdca26"
             ],
             [
              1,
              "#f0f921"
             ]
            ],
            "type": "contour"
           }
          ],
          "contourcarpet": [
           {
            "colorbar": {
             "outlinewidth": 0,
             "ticks": ""
            },
            "type": "contourcarpet"
           }
          ],
          "heatmap": [
           {
            "colorbar": {
             "outlinewidth": 0,
             "ticks": ""
            },
            "colorscale": [
             [
              0,
              "#0d0887"
             ],
             [
              0.1111111111111111,
              "#46039f"
             ],
             [
              0.2222222222222222,
              "#7201a8"
             ],
             [
              0.3333333333333333,
              "#9c179e"
             ],
             [
              0.4444444444444444,
              "#bd3786"
             ],
             [
              0.5555555555555556,
              "#d8576b"
             ],
             [
              0.6666666666666666,
              "#ed7953"
             ],
             [
              0.7777777777777778,
              "#fb9f3a"
             ],
             [
              0.8888888888888888,
              "#fdca26"
             ],
             [
              1,
              "#f0f921"
             ]
            ],
            "type": "heatmap"
           }
          ],
          "heatmapgl": [
           {
            "colorbar": {
             "outlinewidth": 0,
             "ticks": ""
            },
            "colorscale": [
             [
              0,
              "#0d0887"
             ],
             [
              0.1111111111111111,
              "#46039f"
             ],
             [
              0.2222222222222222,
              "#7201a8"
             ],
             [
              0.3333333333333333,
              "#9c179e"
             ],
             [
              0.4444444444444444,
              "#bd3786"
             ],
             [
              0.5555555555555556,
              "#d8576b"
             ],
             [
              0.6666666666666666,
              "#ed7953"
             ],
             [
              0.7777777777777778,
              "#fb9f3a"
             ],
             [
              0.8888888888888888,
              "#fdca26"
             ],
             [
              1,
              "#f0f921"
             ]
            ],
            "type": "heatmapgl"
           }
          ],
          "histogram": [
           {
            "marker": {
             "pattern": {
              "fillmode": "overlay",
              "size": 10,
              "solidity": 0.2
             }
            },
            "type": "histogram"
           }
          ],
          "histogram2d": [
           {
            "colorbar": {
             "outlinewidth": 0,
             "ticks": ""
            },
            "colorscale": [
             [
              0,
              "#0d0887"
             ],
             [
              0.1111111111111111,
              "#46039f"
             ],
             [
              0.2222222222222222,
              "#7201a8"
             ],
             [
              0.3333333333333333,
              "#9c179e"
             ],
             [
              0.4444444444444444,
              "#bd3786"
             ],
             [
              0.5555555555555556,
              "#d8576b"
             ],
             [
              0.6666666666666666,
              "#ed7953"
             ],
             [
              0.7777777777777778,
              "#fb9f3a"
             ],
             [
              0.8888888888888888,
              "#fdca26"
             ],
             [
              1,
              "#f0f921"
             ]
            ],
            "type": "histogram2d"
           }
          ],
          "histogram2dcontour": [
           {
            "colorbar": {
             "outlinewidth": 0,
             "ticks": ""
            },
            "colorscale": [
             [
              0,
              "#0d0887"
             ],
             [
              0.1111111111111111,
              "#46039f"
             ],
             [
              0.2222222222222222,
              "#7201a8"
             ],
             [
              0.3333333333333333,
              "#9c179e"
             ],
             [
              0.4444444444444444,
              "#bd3786"
             ],
             [
              0.5555555555555556,
              "#d8576b"
             ],
             [
              0.6666666666666666,
              "#ed7953"
             ],
             [
              0.7777777777777778,
              "#fb9f3a"
             ],
             [
              0.8888888888888888,
              "#fdca26"
             ],
             [
              1,
              "#f0f921"
             ]
            ],
            "type": "histogram2dcontour"
           }
          ],
          "mesh3d": [
           {
            "colorbar": {
             "outlinewidth": 0,
             "ticks": ""
            },
            "type": "mesh3d"
           }
          ],
          "parcoords": [
           {
            "line": {
             "colorbar": {
              "outlinewidth": 0,
              "ticks": ""
             }
            },
            "type": "parcoords"
           }
          ],
          "pie": [
           {
            "automargin": true,
            "type": "pie"
           }
          ],
          "scatter": [
           {
            "fillpattern": {
             "fillmode": "overlay",
             "size": 10,
             "solidity": 0.2
            },
            "type": "scatter"
           }
          ],
          "scatter3d": [
           {
            "line": {
             "colorbar": {
              "outlinewidth": 0,
              "ticks": ""
             }
            },
            "marker": {
             "colorbar": {
              "outlinewidth": 0,
              "ticks": ""
             }
            },
            "type": "scatter3d"
           }
          ],
          "scattercarpet": [
           {
            "marker": {
             "colorbar": {
              "outlinewidth": 0,
              "ticks": ""
             }
            },
            "type": "scattercarpet"
           }
          ],
          "scattergeo": [
           {
            "marker": {
             "colorbar": {
              "outlinewidth": 0,
              "ticks": ""
             }
            },
            "type": "scattergeo"
           }
          ],
          "scattergl": [
           {
            "marker": {
             "colorbar": {
              "outlinewidth": 0,
              "ticks": ""
             }
            },
            "type": "scattergl"
           }
          ],
          "scattermapbox": [
           {
            "marker": {
             "colorbar": {
              "outlinewidth": 0,
              "ticks": ""
             }
            },
            "type": "scattermapbox"
           }
          ],
          "scatterpolar": [
           {
            "marker": {
             "colorbar": {
              "outlinewidth": 0,
              "ticks": ""
             }
            },
            "type": "scatterpolar"
           }
          ],
          "scatterpolargl": [
           {
            "marker": {
             "colorbar": {
              "outlinewidth": 0,
              "ticks": ""
             }
            },
            "type": "scatterpolargl"
           }
          ],
          "scatterternary": [
           {
            "marker": {
             "colorbar": {
              "outlinewidth": 0,
              "ticks": ""
             }
            },
            "type": "scatterternary"
           }
          ],
          "surface": [
           {
            "colorbar": {
             "outlinewidth": 0,
             "ticks": ""
            },
            "colorscale": [
             [
              0,
              "#0d0887"
             ],
             [
              0.1111111111111111,
              "#46039f"
             ],
             [
              0.2222222222222222,
              "#7201a8"
             ],
             [
              0.3333333333333333,
              "#9c179e"
             ],
             [
              0.4444444444444444,
              "#bd3786"
             ],
             [
              0.5555555555555556,
              "#d8576b"
             ],
             [
              0.6666666666666666,
              "#ed7953"
             ],
             [
              0.7777777777777778,
              "#fb9f3a"
             ],
             [
              0.8888888888888888,
              "#fdca26"
             ],
             [
              1,
              "#f0f921"
             ]
            ],
            "type": "surface"
           }
          ],
          "table": [
           {
            "cells": {
             "fill": {
              "color": "#EBF0F8"
             },
             "line": {
              "color": "white"
             }
            },
            "header": {
             "fill": {
              "color": "#C8D4E3"
             },
             "line": {
              "color": "white"
             }
            },
            "type": "table"
           }
          ]
         },
         "layout": {
          "annotationdefaults": {
           "arrowcolor": "#2a3f5f",
           "arrowhead": 0,
           "arrowwidth": 1
          },
          "autotypenumbers": "strict",
          "coloraxis": {
           "colorbar": {
            "outlinewidth": 0,
            "ticks": ""
           }
          },
          "colorscale": {
           "diverging": [
            [
             0,
             "#8e0152"
            ],
            [
             0.1,
             "#c51b7d"
            ],
            [
             0.2,
             "#de77ae"
            ],
            [
             0.3,
             "#f1b6da"
            ],
            [
             0.4,
             "#fde0ef"
            ],
            [
             0.5,
             "#f7f7f7"
            ],
            [
             0.6,
             "#e6f5d0"
            ],
            [
             0.7,
             "#b8e186"
            ],
            [
             0.8,
             "#7fbc41"
            ],
            [
             0.9,
             "#4d9221"
            ],
            [
             1,
             "#276419"
            ]
           ],
           "sequential": [
            [
             0,
             "#0d0887"
            ],
            [
             0.1111111111111111,
             "#46039f"
            ],
            [
             0.2222222222222222,
             "#7201a8"
            ],
            [
             0.3333333333333333,
             "#9c179e"
            ],
            [
             0.4444444444444444,
             "#bd3786"
            ],
            [
             0.5555555555555556,
             "#d8576b"
            ],
            [
             0.6666666666666666,
             "#ed7953"
            ],
            [
             0.7777777777777778,
             "#fb9f3a"
            ],
            [
             0.8888888888888888,
             "#fdca26"
            ],
            [
             1,
             "#f0f921"
            ]
           ],
           "sequentialminus": [
            [
             0,
             "#0d0887"
            ],
            [
             0.1111111111111111,
             "#46039f"
            ],
            [
             0.2222222222222222,
             "#7201a8"
            ],
            [
             0.3333333333333333,
             "#9c179e"
            ],
            [
             0.4444444444444444,
             "#bd3786"
            ],
            [
             0.5555555555555556,
             "#d8576b"
            ],
            [
             0.6666666666666666,
             "#ed7953"
            ],
            [
             0.7777777777777778,
             "#fb9f3a"
            ],
            [
             0.8888888888888888,
             "#fdca26"
            ],
            [
             1,
             "#f0f921"
            ]
           ]
          },
          "colorway": [
           "#636efa",
           "#EF553B",
           "#00cc96",
           "#ab63fa",
           "#FFA15A",
           "#19d3f3",
           "#FF6692",
           "#B6E880",
           "#FF97FF",
           "#FECB52"
          ],
          "font": {
           "color": "#2a3f5f"
          },
          "geo": {
           "bgcolor": "white",
           "lakecolor": "white",
           "landcolor": "#E5ECF6",
           "showlakes": true,
           "showland": true,
           "subunitcolor": "white"
          },
          "hoverlabel": {
           "align": "left"
          },
          "hovermode": "closest",
          "mapbox": {
           "style": "light"
          },
          "paper_bgcolor": "white",
          "plot_bgcolor": "#E5ECF6",
          "polar": {
           "angularaxis": {
            "gridcolor": "white",
            "linecolor": "white",
            "ticks": ""
           },
           "bgcolor": "#E5ECF6",
           "radialaxis": {
            "gridcolor": "white",
            "linecolor": "white",
            "ticks": ""
           }
          },
          "scene": {
           "xaxis": {
            "backgroundcolor": "#E5ECF6",
            "gridcolor": "white",
            "gridwidth": 2,
            "linecolor": "white",
            "showbackground": true,
            "ticks": "",
            "zerolinecolor": "white"
           },
           "yaxis": {
            "backgroundcolor": "#E5ECF6",
            "gridcolor": "white",
            "gridwidth": 2,
            "linecolor": "white",
            "showbackground": true,
            "ticks": "",
            "zerolinecolor": "white"
           },
           "zaxis": {
            "backgroundcolor": "#E5ECF6",
            "gridcolor": "white",
            "gridwidth": 2,
            "linecolor": "white",
            "showbackground": true,
            "ticks": "",
            "zerolinecolor": "white"
           }
          },
          "shapedefaults": {
           "line": {
            "color": "#2a3f5f"
           }
          },
          "ternary": {
           "aaxis": {
            "gridcolor": "white",
            "linecolor": "white",
            "ticks": ""
           },
           "baxis": {
            "gridcolor": "white",
            "linecolor": "white",
            "ticks": ""
           },
           "bgcolor": "#E5ECF6",
           "caxis": {
            "gridcolor": "white",
            "linecolor": "white",
            "ticks": ""
           }
          },
          "title": {
           "x": 0.05
          },
          "xaxis": {
           "automargin": true,
           "gridcolor": "white",
           "linecolor": "white",
           "ticks": "",
           "title": {
            "standoff": 15
           },
           "zerolinecolor": "white",
           "zerolinewidth": 2
          },
          "yaxis": {
           "automargin": true,
           "gridcolor": "white",
           "linecolor": "white",
           "ticks": "",
           "title": {
            "standoff": 15
           },
           "zerolinecolor": "white",
           "zerolinewidth": 2
          }
         }
        },
        "title": {
         "text": "10 Pemenang di TPS Anomaly"
        },
        "xaxis": {
         "fixedrange": true
        },
        "yaxis": {
         "fixedrange": true
        }
       }
      }
     },
     "metadata": {},
     "output_type": "display_data"
    }
   ],
   "source": [
    "fig = go.Figure(data=[go.Table(\n",
    "    header=dict(values=['Detail','Jumlah Suara Pemenang']),\n",
    "    columnwidth=[3,1],\n",
    "    cells=dict(values=[\n",
    "        anomaly_winner_caleg[column] for column in ['alamat','winner_vote_sum']\n",
    "    ], align='left'))\n",
    "                     ])\n",
    "fig.update_layout(title={'text':'10 Pemenang di TPS Anomaly'})\n",
    "fig.update_layout(\n",
    "    margin=dict(l=0, r=0, t=40, b=0)\n",
    ")\n",
    "fig.update_layout(modebar_remove=[ 'zoom', 'pan', 'select', 'lasso2d', 'zoomIn', 'zoomOut',])\n",
    "fig.layout.xaxis.fixedrange = True\n",
    "fig.layout.yaxis.fixedrange = True\n",
    "fig.write_html('html/table_pemenang_tps_anomaly2.html')\n",
    "\n",
    "fig.show()"
   ]
  },
  {
   "cell_type": "code",
   "execution_count": 192,
   "metadata": {},
   "outputs": [
    {
     "data": {
      "text/html": [
       "<div>\n",
       "<style scoped>\n",
       "    .dataframe tbody tr th:only-of-type {\n",
       "        vertical-align: middle;\n",
       "    }\n",
       "\n",
       "    .dataframe tbody tr th {\n",
       "        vertical-align: top;\n",
       "    }\n",
       "\n",
       "    .dataframe thead th {\n",
       "        text-align: right;\n",
       "    }\n",
       "</style>\n",
       "<table border=\"1\" class=\"dataframe\">\n",
       "  <thead>\n",
       "    <tr style=\"text-align: right;\">\n",
       "      <th></th>\n",
       "      <th>kab_kota</th>\n",
       "      <th>kecamatan</th>\n",
       "      <th>desa</th>\n",
       "      <th>tps</th>\n",
       "      <th>sum_suara_caleg</th>\n",
       "      <th>suara_total</th>\n",
       "      <th>suara_sah</th>\n",
       "      <th>suara_tidak_sah</th>\n",
       "    </tr>\n",
       "  </thead>\n",
       "  <tbody>\n",
       "    <tr>\n",
       "      <th>5427</th>\n",
       "      <td>BOGOR</td>\n",
       "      <td>GUNUNG SINDUR</td>\n",
       "      <td>RAWAKALONG</td>\n",
       "      <td>TPS 005</td>\n",
       "      <td>793.0</td>\n",
       "      <td>743.0</td>\n",
       "      <td>184.0</td>\n",
       "      <td>59.0</td>\n",
       "    </tr>\n",
       "    <tr>\n",
       "      <th>8568</th>\n",
       "      <td>BOGOR</td>\n",
       "      <td>RUMPIN</td>\n",
       "      <td>CIPINANG</td>\n",
       "      <td>TPS 013</td>\n",
       "      <td>130.0</td>\n",
       "      <td>343.0</td>\n",
       "      <td>239.0</td>\n",
       "      <td>104.0</td>\n",
       "    </tr>\n",
       "    <tr>\n",
       "      <th>11989</th>\n",
       "      <td>BOGOR</td>\n",
       "      <td>CIOMAS</td>\n",
       "      <td>PARAKAN</td>\n",
       "      <td>TPS 004</td>\n",
       "      <td>217.0</td>\n",
       "      <td>626.0</td>\n",
       "      <td>217.0</td>\n",
       "      <td>45.0</td>\n",
       "    </tr>\n",
       "    <tr>\n",
       "      <th>13401</th>\n",
       "      <td>BOGOR</td>\n",
       "      <td>CISEENG</td>\n",
       "      <td>CIBEUTEUNG UDIK</td>\n",
       "      <td>TPS 007</td>\n",
       "      <td>0.0</td>\n",
       "      <td>733.0</td>\n",
       "      <td>878.0</td>\n",
       "      <td>377.0</td>\n",
       "    </tr>\n",
       "    <tr>\n",
       "      <th>13543</th>\n",
       "      <td>BOGOR</td>\n",
       "      <td>CISEENG</td>\n",
       "      <td>CIBEUTEUNG MUARA</td>\n",
       "      <td>TPS 021</td>\n",
       "      <td>169.0</td>\n",
       "      <td>306.0</td>\n",
       "      <td>238.0</td>\n",
       "      <td>68.0</td>\n",
       "    </tr>\n",
       "    <tr>\n",
       "      <th>...</th>\n",
       "      <td>...</td>\n",
       "      <td>...</td>\n",
       "      <td>...</td>\n",
       "      <td>...</td>\n",
       "      <td>...</td>\n",
       "      <td>...</td>\n",
       "      <td>...</td>\n",
       "      <td>...</td>\n",
       "    </tr>\n",
       "    <tr>\n",
       "      <th>108712</th>\n",
       "      <td>BANDUNG BARAT</td>\n",
       "      <td>CILILIN</td>\n",
       "      <td>BONGAS</td>\n",
       "      <td>TPS 018</td>\n",
       "      <td>198.0</td>\n",
       "      <td>2019.0</td>\n",
       "      <td>199.0</td>\n",
       "      <td>20.0</td>\n",
       "    </tr>\n",
       "    <tr>\n",
       "      <th>136833</th>\n",
       "      <td>KOTA CIMAHI</td>\n",
       "      <td>CIMAHI SELATAN</td>\n",
       "      <td>LEUWIGAJAH</td>\n",
       "      <td>TPS 088</td>\n",
       "      <td>204.0</td>\n",
       "      <td>328.0</td>\n",
       "      <td>204.0</td>\n",
       "      <td>24.0</td>\n",
       "    </tr>\n",
       "    <tr>\n",
       "      <th>137676</th>\n",
       "      <td>KOTA CIMAHI</td>\n",
       "      <td>CIMAHI UTARA</td>\n",
       "      <td>CITEUREUP</td>\n",
       "      <td>TPS 082</td>\n",
       "      <td>222.0</td>\n",
       "      <td>1043.0</td>\n",
       "      <td>222.0</td>\n",
       "      <td>821.0</td>\n",
       "    </tr>\n",
       "    <tr>\n",
       "      <th>138159</th>\n",
       "      <td>KOTA TASIKMALAYA</td>\n",
       "      <td>CIPEDES</td>\n",
       "      <td>NAGARASARI</td>\n",
       "      <td>TPS 009</td>\n",
       "      <td>203.0</td>\n",
       "      <td>335.0</td>\n",
       "      <td>205.0</td>\n",
       "      <td>30.0</td>\n",
       "    </tr>\n",
       "    <tr>\n",
       "      <th>140117</th>\n",
       "      <td>KOTA BANJAR</td>\n",
       "      <td>PATARUMAN</td>\n",
       "      <td>MULYASARI</td>\n",
       "      <td>TPS 002</td>\n",
       "      <td>0.0</td>\n",
       "      <td>564.0</td>\n",
       "      <td>456.0</td>\n",
       "      <td>233.0</td>\n",
       "    </tr>\n",
       "  </tbody>\n",
       "</table>\n",
       "<p>69 rows × 8 columns</p>\n",
       "</div>"
      ],
      "text/plain": [
       "                kab_kota       kecamatan              desa      tps   \n",
       "5427               BOGOR   GUNUNG SINDUR        RAWAKALONG  TPS 005  \\\n",
       "8568               BOGOR          RUMPIN          CIPINANG  TPS 013   \n",
       "11989              BOGOR          CIOMAS           PARAKAN  TPS 004   \n",
       "13401              BOGOR         CISEENG   CIBEUTEUNG UDIK  TPS 007   \n",
       "13543              BOGOR         CISEENG  CIBEUTEUNG MUARA  TPS 021   \n",
       "...                  ...             ...               ...      ...   \n",
       "108712     BANDUNG BARAT         CILILIN            BONGAS  TPS 018   \n",
       "136833       KOTA CIMAHI  CIMAHI SELATAN        LEUWIGAJAH  TPS 088   \n",
       "137676       KOTA CIMAHI    CIMAHI UTARA         CITEUREUP  TPS 082   \n",
       "138159  KOTA TASIKMALAYA         CIPEDES        NAGARASARI  TPS 009   \n",
       "140117       KOTA BANJAR       PATARUMAN         MULYASARI  TPS 002   \n",
       "\n",
       "        sum_suara_caleg  suara_total  suara_sah  suara_tidak_sah  \n",
       "5427              793.0        743.0      184.0             59.0  \n",
       "8568              130.0        343.0      239.0            104.0  \n",
       "11989             217.0        626.0      217.0             45.0  \n",
       "13401               0.0        733.0      878.0            377.0  \n",
       "13543             169.0        306.0      238.0             68.0  \n",
       "...                 ...          ...        ...              ...  \n",
       "108712            198.0       2019.0      199.0             20.0  \n",
       "136833            204.0        328.0      204.0             24.0  \n",
       "137676            222.0       1043.0      222.0            821.0  \n",
       "138159            203.0        335.0      205.0             30.0  \n",
       "140117              0.0        564.0      456.0            233.0  \n",
       "\n",
       "[69 rows x 8 columns]"
      ]
     },
     "execution_count": 192,
     "metadata": {},
     "output_type": "execute_result"
    }
   ],
   "source": [
    "#anomaly\n",
    "perhitungan[(perhitungan['suara_sah']>0) & (perhitungan['suara_total'] > 300)][['kab_kota',\t'kecamatan',\t'desa',\t'tps','sum_suara_caleg','suara_total','suara_sah','suara_tidak_sah']]"
   ]
  },
  {
   "cell_type": "code",
   "execution_count": 193,
   "metadata": {},
   "outputs": [
    {
     "data": {
      "text/html": [
       "<div>\n",
       "<style scoped>\n",
       "    .dataframe tbody tr th:only-of-type {\n",
       "        vertical-align: middle;\n",
       "    }\n",
       "\n",
       "    .dataframe tbody tr th {\n",
       "        vertical-align: top;\n",
       "    }\n",
       "\n",
       "    .dataframe thead th {\n",
       "        text-align: right;\n",
       "    }\n",
       "</style>\n",
       "<table border=\"1\" class=\"dataframe\">\n",
       "  <thead>\n",
       "    <tr style=\"text-align: right;\">\n",
       "      <th></th>\n",
       "      <th>sum_suara_caleg</th>\n",
       "      <th>suara_total</th>\n",
       "      <th>suara_sah</th>\n",
       "      <th>suara_tidak_sah</th>\n",
       "    </tr>\n",
       "  </thead>\n",
       "  <tbody>\n",
       "    <tr>\n",
       "      <th>2</th>\n",
       "      <td>137.0</td>\n",
       "      <td>160.0</td>\n",
       "      <td>136.0</td>\n",
       "      <td>24.0</td>\n",
       "    </tr>\n",
       "    <tr>\n",
       "      <th>4</th>\n",
       "      <td>429.0</td>\n",
       "      <td>218.0</td>\n",
       "      <td>189.0</td>\n",
       "      <td>29.0</td>\n",
       "    </tr>\n",
       "    <tr>\n",
       "      <th>6</th>\n",
       "      <td>217.0</td>\n",
       "      <td>252.0</td>\n",
       "      <td>214.0</td>\n",
       "      <td>38.0</td>\n",
       "    </tr>\n",
       "    <tr>\n",
       "      <th>17</th>\n",
       "      <td>582.0</td>\n",
       "      <td>248.0</td>\n",
       "      <td>211.0</td>\n",
       "      <td>37.0</td>\n",
       "    </tr>\n",
       "    <tr>\n",
       "      <th>19</th>\n",
       "      <td>142.0</td>\n",
       "      <td>168.0</td>\n",
       "      <td>141.0</td>\n",
       "      <td>27.0</td>\n",
       "    </tr>\n",
       "    <tr>\n",
       "      <th>...</th>\n",
       "      <td>...</td>\n",
       "      <td>...</td>\n",
       "      <td>...</td>\n",
       "      <td>...</td>\n",
       "    </tr>\n",
       "    <tr>\n",
       "      <th>140352</th>\n",
       "      <td>128.0</td>\n",
       "      <td>159.0</td>\n",
       "      <td>120.0</td>\n",
       "      <td>39.0</td>\n",
       "    </tr>\n",
       "    <tr>\n",
       "      <th>140371</th>\n",
       "      <td>185.0</td>\n",
       "      <td>216.0</td>\n",
       "      <td>184.0</td>\n",
       "      <td>32.0</td>\n",
       "    </tr>\n",
       "    <tr>\n",
       "      <th>140394</th>\n",
       "      <td>181.0</td>\n",
       "      <td>206.0</td>\n",
       "      <td>176.0</td>\n",
       "      <td>30.0</td>\n",
       "    </tr>\n",
       "    <tr>\n",
       "      <th>140395</th>\n",
       "      <td>158.0</td>\n",
       "      <td>200.0</td>\n",
       "      <td>157.0</td>\n",
       "      <td>43.0</td>\n",
       "    </tr>\n",
       "    <tr>\n",
       "      <th>140406</th>\n",
       "      <td>268.0</td>\n",
       "      <td>197.0</td>\n",
       "      <td>178.0</td>\n",
       "      <td>19.0</td>\n",
       "    </tr>\n",
       "  </tbody>\n",
       "</table>\n",
       "<p>7173 rows × 4 columns</p>\n",
       "</div>"
      ],
      "text/plain": [
       "        sum_suara_caleg  suara_total  suara_sah  suara_tidak_sah\n",
       "2                 137.0        160.0      136.0             24.0\n",
       "4                 429.0        218.0      189.0             29.0\n",
       "6                 217.0        252.0      214.0             38.0\n",
       "17                582.0        248.0      211.0             37.0\n",
       "19                142.0        168.0      141.0             27.0\n",
       "...                 ...          ...        ...              ...\n",
       "140352            128.0        159.0      120.0             39.0\n",
       "140371            185.0        216.0      184.0             32.0\n",
       "140394            181.0        206.0      176.0             30.0\n",
       "140395            158.0        200.0      157.0             43.0\n",
       "140406            268.0        197.0      178.0             19.0\n",
       "\n",
       "[7173 rows x 4 columns]"
      ]
     },
     "execution_count": 193,
     "metadata": {},
     "output_type": "execute_result"
    }
   ],
   "source": [
    "#anomaly\n",
    "perhitungan[(perhitungan['suara_sah']>0) & (perhitungan['sum_suara_caleg'] > perhitungan['suara_sah'])][['sum_suara_caleg','suara_total','suara_sah','suara_tidak_sah']]"
   ]
  },
  {
   "cell_type": "code",
   "execution_count": null,
   "metadata": {},
   "outputs": [],
   "source": []
  },
  {
   "cell_type": "markdown",
   "metadata": {},
   "source": [
    "## comparison"
   ]
  },
  {
   "cell_type": "code",
   "execution_count": 194,
   "metadata": {},
   "outputs": [
    {
     "data": {
      "text/plain": [
       "2263426.0"
      ]
     },
     "execution_count": 194,
     "metadata": {},
     "output_type": "execute_result"
    }
   ],
   "source": [
    "suara_komeng = perhitungan[komeng_id].sum()\n",
    "suara_komeng"
   ]
  },
  {
   "cell_type": "code",
   "execution_count": 195,
   "metadata": {},
   "outputs": [
    {
     "data": {
      "text/html": [
       "<div>\n",
       "<style scoped>\n",
       "    .dataframe tbody tr th:only-of-type {\n",
       "        vertical-align: middle;\n",
       "    }\n",
       "\n",
       "    .dataframe tbody tr th {\n",
       "        vertical-align: top;\n",
       "    }\n",
       "\n",
       "    .dataframe thead th {\n",
       "        text-align: right;\n",
       "    }\n",
       "</style>\n",
       "<table border=\"1\" class=\"dataframe\">\n",
       "  <thead>\n",
       "    <tr style=\"text-align: right;\">\n",
       "      <th></th>\n",
       "      <th>nama_lengkap</th>\n",
       "      <th>warna</th>\n",
       "      <th>jumlah_suara</th>\n",
       "    </tr>\n",
       "  </thead>\n",
       "  <tbody>\n",
       "    <tr>\n",
       "      <th>3</th>\n",
       "      <td>Partai Golongan Karya</td>\n",
       "      <td>#FFF051</td>\n",
       "      <td>1818326</td>\n",
       "    </tr>\n",
       "    <tr>\n",
       "      <th>1</th>\n",
       "      <td>Partai Gerakan Indonesia Raya</td>\n",
       "      <td>#990001</td>\n",
       "      <td>1700977</td>\n",
       "    </tr>\n",
       "    <tr>\n",
       "      <th>7</th>\n",
       "      <td>Partai Keadilan Sejahtera</td>\n",
       "      <td>#FC5100</td>\n",
       "      <td>1302843</td>\n",
       "    </tr>\n",
       "    <tr>\n",
       "      <th>0</th>\n",
       "      <td>Partai Kebangkitan Bangsa</td>\n",
       "      <td>#00764A</td>\n",
       "      <td>1256766</td>\n",
       "    </tr>\n",
       "    <tr>\n",
       "      <th>2</th>\n",
       "      <td>Partai Demokrasi Indonesia Perjuangan</td>\n",
       "      <td>#D52027</td>\n",
       "      <td>1221436</td>\n",
       "    </tr>\n",
       "  </tbody>\n",
       "</table>\n",
       "</div>"
      ],
      "text/plain": [
       "                            nama_lengkap    warna  jumlah_suara\n",
       "3                  Partai Golongan Karya  #FFF051       1818326\n",
       "1          Partai Gerakan Indonesia Raya  #990001       1700977\n",
       "7              Partai Keadilan Sejahtera  #FC5100       1302843\n",
       "0              Partai Kebangkitan Bangsa  #00764A       1256766\n",
       "2  Partai Demokrasi Indonesia Perjuangan  #D52027       1221436"
      ]
     },
     "execution_count": 195,
     "metadata": {},
     "output_type": "execute_result"
    }
   ],
   "source": [
    "suara_partai[['nama_lengkap','warna','jumlah_suara']].sort_values('jumlah_suara',ascending=False).head(5)"
   ]
  },
  {
   "cell_type": "code",
   "execution_count": 196,
   "metadata": {},
   "outputs": [],
   "source": [
    "detail_chart_partai = [\n",
    "    {\"nickname\":\"PKB\",\"nama_lengkap\":\"Partai Kebangkitan Bangsa\",\"image_url\":\"https://upload.wikimedia.org/wikipedia/id/thumb/1/11/Logo_PKB.svg/160px-Logo_PKB.svg.png\"},\n",
    "    {\"nickname\":\"Gerindra\",\"nama_lengkap\":\"Partai Gerakan Indonesia Raya\",\"image_url\":\"https://upload.wikimedia.org/wikipedia/id/thumb/9/9b/Lambang_Partai_Gerakan_Indonesia_Raya.svg/180px-Lambang_Partai_Gerakan_Indonesia_Raya.svg.png\"},\n",
    "    {\"nickname\":\"Golkar\",\"nama_lengkap\":\"Partai Golongan Karya\",\"image_url\":\"//upload.wikimedia.org/wikipedia/commons/thumb/8/86/Logo_Golkar.svg/180px-Logo_Golkar.svg.png\"},\n",
    "    {\"nickname\":\"PKS\",\"nama_lengkap\":\"Partai Keadilan Sejahtera\",\"image_url\":\"https://upload.wikimedia.org/wikipedia/commons/thumb/d/d2/Partai_Keadilan_Sejahtera_2020.svg/150px-Partai_Keadilan_Sejahtera_2020.svg.png\"},\n",
    "    {\"nickname\":\"PDIP\",\"nama_lengkap\":\"Partai Demokrasi Indonesia Perjuangan\",\"image_url\":\"//upload.wikimedia.org/wikipedia/id/thumb/d/d8/Lambang_Partai_Demokrasi_Indonesia_Perjuangan.svg/180px-Lambang_Partai_Demokrasi_Indonesia_Perjuangan.svg.png\"},\n",
    "]\n",
    "detail_partai = pd.DataFrame(detail_chart_partai)\n",
    "suara_partai_detailed = suara_partai.merge(detail_partai,how='inner',on='nama_lengkap')\n",
    "suara_partai_detailed.sort_values('jumlah_suara',ascending=False,inplace=True)\n",
    "    # \"Komeng\":\"https://upload.wikimedia.org/wikipedia/commons/thumb/2/25/KPU_Alfiansyah_Bustami_Komeng.jpg/1200px-KPU_Alfiansyah_Bustami_Komeng.jpg\" #397ae3"
   ]
  },
  {
   "cell_type": "code",
   "execution_count": 197,
   "metadata": {},
   "outputs": [
    {
     "data": {
      "text/html": [
       "<div>\n",
       "<style scoped>\n",
       "    .dataframe tbody tr th:only-of-type {\n",
       "        vertical-align: middle;\n",
       "    }\n",
       "\n",
       "    .dataframe tbody tr th {\n",
       "        vertical-align: top;\n",
       "    }\n",
       "\n",
       "    .dataframe thead th {\n",
       "        text-align: right;\n",
       "    }\n",
       "</style>\n",
       "<table border=\"1\" class=\"dataframe\">\n",
       "  <thead>\n",
       "    <tr style=\"text-align: right;\">\n",
       "      <th></th>\n",
       "      <th>nama</th>\n",
       "      <th>nickname</th>\n",
       "      <th>warna</th>\n",
       "      <th>jumlah_suara</th>\n",
       "      <th>image_url</th>\n",
       "    </tr>\n",
       "  </thead>\n",
       "  <tbody>\n",
       "    <tr>\n",
       "      <th>0</th>\n",
       "      <td>Komeng</td>\n",
       "      <td>Komeng</td>\n",
       "      <td>#397ae3</td>\n",
       "      <td>2263426.0</td>\n",
       "      <td>https://upload.wikimedia.org/wikipedia/commons...</td>\n",
       "    </tr>\n",
       "  </tbody>\n",
       "</table>\n",
       "</div>"
      ],
      "text/plain": [
       "     nama nickname    warna  jumlah_suara   \n",
       "0  Komeng   Komeng  #397ae3     2263426.0  \\\n",
       "\n",
       "                                           image_url  \n",
       "0  https://upload.wikimedia.org/wikipedia/commons...  "
      ]
     },
     "execution_count": 197,
     "metadata": {},
     "output_type": "execute_result"
    }
   ],
   "source": [
    "# add suara komeng\n",
    "suara_komeng_df = pd.DataFrame([{'nama':'Komeng','nickname':'Komeng','warna':'#397ae3','jumlah_suara':suara_komeng,'image_url':'https://upload.wikimedia.org/wikipedia/commons/thumb/2/25/KPU_Alfiansyah_Bustami_Komeng.jpg/1200px-KPU_Alfiansyah_Bustami_Komeng.jpg',}])\n",
    "suara_komeng_df"
   ]
  },
  {
   "cell_type": "code",
   "execution_count": 198,
   "metadata": {},
   "outputs": [
    {
     "data": {
      "text/html": [
       "<div>\n",
       "<style scoped>\n",
       "    .dataframe tbody tr th:only-of-type {\n",
       "        vertical-align: middle;\n",
       "    }\n",
       "\n",
       "    .dataframe tbody tr th {\n",
       "        vertical-align: top;\n",
       "    }\n",
       "\n",
       "    .dataframe thead th {\n",
       "        text-align: right;\n",
       "    }\n",
       "</style>\n",
       "<table border=\"1\" class=\"dataframe\">\n",
       "  <thead>\n",
       "    <tr style=\"text-align: right;\">\n",
       "      <th></th>\n",
       "      <th>nama</th>\n",
       "      <th>nickname</th>\n",
       "      <th>warna</th>\n",
       "      <th>jumlah_suara</th>\n",
       "      <th>image_url</th>\n",
       "      <th>ts</th>\n",
       "      <th>id_partai</th>\n",
       "      <th>id_pilihan</th>\n",
       "      <th>is_aceh</th>\n",
       "      <th>nama_lengkap</th>\n",
       "      <th>nomor_urut</th>\n",
       "    </tr>\n",
       "  </thead>\n",
       "  <tbody>\n",
       "    <tr>\n",
       "      <th>0</th>\n",
       "      <td>Komeng</td>\n",
       "      <td>Komeng</td>\n",
       "      <td>#397ae3</td>\n",
       "      <td>2263426.0</td>\n",
       "      <td>https://upload.wikimedia.org/wikipedia/commons...</td>\n",
       "      <td>NaN</td>\n",
       "      <td>NaN</td>\n",
       "      <td>NaN</td>\n",
       "      <td>NaN</td>\n",
       "      <td>NaN</td>\n",
       "      <td>NaN</td>\n",
       "    </tr>\n",
       "    <tr>\n",
       "      <th>3</th>\n",
       "      <td>Partai Golongan Karya</td>\n",
       "      <td>Golkar</td>\n",
       "      <td>#FFF051</td>\n",
       "      <td>1818326.0</td>\n",
       "      <td>//upload.wikimedia.org/wikipedia/commons/thumb...</td>\n",
       "      <td>2024-02-17 16:00:02</td>\n",
       "      <td>100004.0</td>\n",
       "      <td>4.0</td>\n",
       "      <td>False</td>\n",
       "      <td>Partai Golongan Karya</td>\n",
       "      <td>4.0</td>\n",
       "    </tr>\n",
       "    <tr>\n",
       "      <th>1</th>\n",
       "      <td>Partai Gerakan Indonesia Raya</td>\n",
       "      <td>Gerindra</td>\n",
       "      <td>#990001</td>\n",
       "      <td>1700977.0</td>\n",
       "      <td>https://upload.wikimedia.org/wikipedia/id/thum...</td>\n",
       "      <td>2024-02-17 16:00:02</td>\n",
       "      <td>100002.0</td>\n",
       "      <td>2.0</td>\n",
       "      <td>False</td>\n",
       "      <td>Partai Gerakan Indonesia Raya</td>\n",
       "      <td>2.0</td>\n",
       "    </tr>\n",
       "    <tr>\n",
       "      <th>4</th>\n",
       "      <td>Partai Keadilan Sejahtera</td>\n",
       "      <td>PKS</td>\n",
       "      <td>#FC5100</td>\n",
       "      <td>1302843.0</td>\n",
       "      <td>https://upload.wikimedia.org/wikipedia/commons...</td>\n",
       "      <td>2024-02-17 16:00:02</td>\n",
       "      <td>100008.0</td>\n",
       "      <td>8.0</td>\n",
       "      <td>False</td>\n",
       "      <td>Partai Keadilan Sejahtera</td>\n",
       "      <td>8.0</td>\n",
       "    </tr>\n",
       "    <tr>\n",
       "      <th>0</th>\n",
       "      <td>Partai Kebangkitan Bangsa</td>\n",
       "      <td>PKB</td>\n",
       "      <td>#00764A</td>\n",
       "      <td>1256766.0</td>\n",
       "      <td>https://upload.wikimedia.org/wikipedia/id/thum...</td>\n",
       "      <td>2024-02-17 16:00:02</td>\n",
       "      <td>100001.0</td>\n",
       "      <td>1.0</td>\n",
       "      <td>False</td>\n",
       "      <td>Partai Kebangkitan Bangsa</td>\n",
       "      <td>1.0</td>\n",
       "    </tr>\n",
       "    <tr>\n",
       "      <th>2</th>\n",
       "      <td>Partai Demokrasi Indonesia Perjuangan</td>\n",
       "      <td>PDIP</td>\n",
       "      <td>#D52027</td>\n",
       "      <td>1221436.0</td>\n",
       "      <td>//upload.wikimedia.org/wikipedia/id/thumb/d/d8...</td>\n",
       "      <td>2024-02-17 16:00:02</td>\n",
       "      <td>100003.0</td>\n",
       "      <td>3.0</td>\n",
       "      <td>False</td>\n",
       "      <td>Partai Demokrasi Indonesia Perjuangan</td>\n",
       "      <td>3.0</td>\n",
       "    </tr>\n",
       "  </tbody>\n",
       "</table>\n",
       "</div>"
      ],
      "text/plain": [
       "                                    nama  nickname    warna  jumlah_suara   \n",
       "0                                 Komeng    Komeng  #397ae3     2263426.0  \\\n",
       "3                  Partai Golongan Karya    Golkar  #FFF051     1818326.0   \n",
       "1          Partai Gerakan Indonesia Raya  Gerindra  #990001     1700977.0   \n",
       "4              Partai Keadilan Sejahtera       PKS  #FC5100     1302843.0   \n",
       "0              Partai Kebangkitan Bangsa       PKB  #00764A     1256766.0   \n",
       "2  Partai Demokrasi Indonesia Perjuangan      PDIP  #D52027     1221436.0   \n",
       "\n",
       "                                           image_url                   ts   \n",
       "0  https://upload.wikimedia.org/wikipedia/commons...                  NaN  \\\n",
       "3  //upload.wikimedia.org/wikipedia/commons/thumb...  2024-02-17 16:00:02   \n",
       "1  https://upload.wikimedia.org/wikipedia/id/thum...  2024-02-17 16:00:02   \n",
       "4  https://upload.wikimedia.org/wikipedia/commons...  2024-02-17 16:00:02   \n",
       "0  https://upload.wikimedia.org/wikipedia/id/thum...  2024-02-17 16:00:02   \n",
       "2  //upload.wikimedia.org/wikipedia/id/thumb/d/d8...  2024-02-17 16:00:02   \n",
       "\n",
       "   id_partai  id_pilihan is_aceh                           nama_lengkap   \n",
       "0        NaN         NaN     NaN                                    NaN  \\\n",
       "3   100004.0         4.0   False                  Partai Golongan Karya   \n",
       "1   100002.0         2.0   False          Partai Gerakan Indonesia Raya   \n",
       "4   100008.0         8.0   False              Partai Keadilan Sejahtera   \n",
       "0   100001.0         1.0   False              Partai Kebangkitan Bangsa   \n",
       "2   100003.0         3.0   False  Partai Demokrasi Indonesia Perjuangan   \n",
       "\n",
       "   nomor_urut  \n",
       "0         NaN  \n",
       "3         4.0  \n",
       "1         2.0  \n",
       "4         8.0  \n",
       "0         1.0  \n",
       "2         3.0  "
      ]
     },
     "execution_count": 198,
     "metadata": {},
     "output_type": "execute_result"
    }
   ],
   "source": [
    "suara_komeng_vs_partai = pd.concat([suara_komeng_df,suara_partai_detailed])\n",
    "suara_komeng_vs_partai"
   ]
  },
  {
   "cell_type": "code",
   "execution_count": 199,
   "metadata": {},
   "outputs": [
    {
     "data": {
      "application/vnd.plotly.v1+json": {
       "config": {
        "plotlyServerURL": "https://plot.ly"
       },
       "data": [
        {
         "alignmentgroup": "True",
         "hovertemplate": "%{x}: %{y:.0f}",
         "legendgroup": "Komeng",
         "marker": {
          "color": "#397ae3",
          "pattern": {
           "shape": ""
          }
         },
         "name": "Komeng",
         "offsetgroup": "Komeng",
         "orientation": "v",
         "showlegend": true,
         "textposition": "auto",
         "type": "bar",
         "x": [
          "Komeng"
         ],
         "xaxis": "x",
         "y": [
          2263426
         ],
         "yaxis": "y"
        },
        {
         "alignmentgroup": "True",
         "hovertemplate": "%{x}: %{y:.0f}",
         "legendgroup": "Golkar",
         "marker": {
          "color": "#FFF051",
          "pattern": {
           "shape": ""
          }
         },
         "name": "Golkar",
         "offsetgroup": "Golkar",
         "orientation": "v",
         "showlegend": true,
         "textposition": "auto",
         "type": "bar",
         "x": [
          "Golkar"
         ],
         "xaxis": "x",
         "y": [
          1818326
         ],
         "yaxis": "y"
        },
        {
         "alignmentgroup": "True",
         "hovertemplate": "%{x}: %{y:.0f}",
         "legendgroup": "Gerindra",
         "marker": {
          "color": "#990001",
          "pattern": {
           "shape": ""
          }
         },
         "name": "Gerindra",
         "offsetgroup": "Gerindra",
         "orientation": "v",
         "showlegend": true,
         "textposition": "auto",
         "type": "bar",
         "x": [
          "Gerindra"
         ],
         "xaxis": "x",
         "y": [
          1700977
         ],
         "yaxis": "y"
        },
        {
         "alignmentgroup": "True",
         "hovertemplate": "%{x}: %{y:.0f}",
         "legendgroup": "PKS",
         "marker": {
          "color": "#FC5100",
          "pattern": {
           "shape": ""
          }
         },
         "name": "PKS",
         "offsetgroup": "PKS",
         "orientation": "v",
         "showlegend": true,
         "textposition": "auto",
         "type": "bar",
         "x": [
          "PKS"
         ],
         "xaxis": "x",
         "y": [
          1302843
         ],
         "yaxis": "y"
        },
        {
         "alignmentgroup": "True",
         "hovertemplate": "%{x}: %{y:.0f}",
         "legendgroup": "PKB",
         "marker": {
          "color": "#00764A",
          "pattern": {
           "shape": ""
          }
         },
         "name": "PKB",
         "offsetgroup": "PKB",
         "orientation": "v",
         "showlegend": true,
         "textposition": "auto",
         "type": "bar",
         "x": [
          "PKB"
         ],
         "xaxis": "x",
         "y": [
          1256766
         ],
         "yaxis": "y"
        },
        {
         "alignmentgroup": "True",
         "hovertemplate": "%{x}: %{y:.0f}",
         "legendgroup": "PDIP",
         "marker": {
          "color": "#D52027",
          "pattern": {
           "shape": ""
          }
         },
         "name": "PDIP",
         "offsetgroup": "PDIP",
         "orientation": "v",
         "showlegend": true,
         "textposition": "auto",
         "type": "bar",
         "x": [
          "PDIP"
         ],
         "xaxis": "x",
         "y": [
          1221436
         ],
         "yaxis": "y"
        }
       ],
       "layout": {
        "barmode": "relative",
        "images": [
         {
          "opacity": 1,
          "sizex": 0.2,
          "sizey": 0.2,
          "sizing": "contain",
          "source": "https://upload.wikimedia.org/wikipedia/commons/thumb/2/25/KPU_Alfiansyah_Bustami_Komeng.jpg/1200px-KPU_Alfiansyah_Bustami_Komeng.jpg",
          "x": 0.08333333333333333,
          "xanchor": "center",
          "xref": "paper",
          "y": 0.25,
          "yanchor": "middle",
          "yref": "paper"
         },
         {
          "opacity": 1,
          "sizex": 0.2,
          "sizey": 0.2,
          "sizing": "contain",
          "source": "//upload.wikimedia.org/wikipedia/commons/thumb/8/86/Logo_Golkar.svg/180px-Logo_Golkar.svg.png",
          "x": 0.25,
          "xanchor": "center",
          "xref": "paper",
          "y": 0.25,
          "yanchor": "middle",
          "yref": "paper"
         },
         {
          "opacity": 1,
          "sizex": 0.2,
          "sizey": 0.2,
          "sizing": "contain",
          "source": "https://upload.wikimedia.org/wikipedia/id/thumb/9/9b/Lambang_Partai_Gerakan_Indonesia_Raya.svg/180px-Lambang_Partai_Gerakan_Indonesia_Raya.svg.png",
          "x": 0.4166666666666667,
          "xanchor": "center",
          "xref": "paper",
          "y": 0.25,
          "yanchor": "middle",
          "yref": "paper"
         },
         {
          "opacity": 1,
          "sizex": 0.2,
          "sizey": 0.2,
          "sizing": "contain",
          "source": "https://upload.wikimedia.org/wikipedia/commons/thumb/d/d2/Partai_Keadilan_Sejahtera_2020.svg/150px-Partai_Keadilan_Sejahtera_2020.svg.png",
          "x": 0.5833333333333334,
          "xanchor": "center",
          "xref": "paper",
          "y": 0.25,
          "yanchor": "middle",
          "yref": "paper"
         },
         {
          "opacity": 1,
          "sizex": 0.2,
          "sizey": 0.2,
          "sizing": "contain",
          "source": "https://upload.wikimedia.org/wikipedia/id/thumb/1/11/Logo_PKB.svg/160px-Logo_PKB.svg.png",
          "x": 0.75,
          "xanchor": "center",
          "xref": "paper",
          "y": 0.25,
          "yanchor": "middle",
          "yref": "paper"
         },
         {
          "opacity": 1,
          "sizex": 0.2,
          "sizey": 0.2,
          "sizing": "contain",
          "source": "//upload.wikimedia.org/wikipedia/id/thumb/d/d8/Lambang_Partai_Demokrasi_Indonesia_Perjuangan.svg/180px-Lambang_Partai_Demokrasi_Indonesia_Perjuangan.svg.png",
          "x": 0.9166666666666666,
          "xanchor": "center",
          "xref": "paper",
          "y": 0.25,
          "yanchor": "middle",
          "yref": "paper"
         }
        ],
        "legend": {
         "title": {
          "text": "nickname"
         },
         "tracegroupgap": 0
        },
        "margin": {
         "b": 0,
         "l": 0,
         "r": 0,
         "t": 40
        },
        "modebar": {
         "remove": [
          "zoom",
          "pan",
          "select",
          "lasso2d",
          "zoomIn",
          "zoomOut"
         ]
        },
        "showlegend": false,
        "template": {
         "data": {
          "bar": [
           {
            "error_x": {
             "color": "#2a3f5f"
            },
            "error_y": {
             "color": "#2a3f5f"
            },
            "marker": {
             "line": {
              "color": "#E5ECF6",
              "width": 0.5
             },
             "pattern": {
              "fillmode": "overlay",
              "size": 10,
              "solidity": 0.2
             }
            },
            "type": "bar"
           }
          ],
          "barpolar": [
           {
            "marker": {
             "line": {
              "color": "#E5ECF6",
              "width": 0.5
             },
             "pattern": {
              "fillmode": "overlay",
              "size": 10,
              "solidity": 0.2
             }
            },
            "type": "barpolar"
           }
          ],
          "carpet": [
           {
            "aaxis": {
             "endlinecolor": "#2a3f5f",
             "gridcolor": "white",
             "linecolor": "white",
             "minorgridcolor": "white",
             "startlinecolor": "#2a3f5f"
            },
            "baxis": {
             "endlinecolor": "#2a3f5f",
             "gridcolor": "white",
             "linecolor": "white",
             "minorgridcolor": "white",
             "startlinecolor": "#2a3f5f"
            },
            "type": "carpet"
           }
          ],
          "choropleth": [
           {
            "colorbar": {
             "outlinewidth": 0,
             "ticks": ""
            },
            "type": "choropleth"
           }
          ],
          "contour": [
           {
            "colorbar": {
             "outlinewidth": 0,
             "ticks": ""
            },
            "colorscale": [
             [
              0,
              "#0d0887"
             ],
             [
              0.1111111111111111,
              "#46039f"
             ],
             [
              0.2222222222222222,
              "#7201a8"
             ],
             [
              0.3333333333333333,
              "#9c179e"
             ],
             [
              0.4444444444444444,
              "#bd3786"
             ],
             [
              0.5555555555555556,
              "#d8576b"
             ],
             [
              0.6666666666666666,
              "#ed7953"
             ],
             [
              0.7777777777777778,
              "#fb9f3a"
             ],
             [
              0.8888888888888888,
              "#fdca26"
             ],
             [
              1,
              "#f0f921"
             ]
            ],
            "type": "contour"
           }
          ],
          "contourcarpet": [
           {
            "colorbar": {
             "outlinewidth": 0,
             "ticks": ""
            },
            "type": "contourcarpet"
           }
          ],
          "heatmap": [
           {
            "colorbar": {
             "outlinewidth": 0,
             "ticks": ""
            },
            "colorscale": [
             [
              0,
              "#0d0887"
             ],
             [
              0.1111111111111111,
              "#46039f"
             ],
             [
              0.2222222222222222,
              "#7201a8"
             ],
             [
              0.3333333333333333,
              "#9c179e"
             ],
             [
              0.4444444444444444,
              "#bd3786"
             ],
             [
              0.5555555555555556,
              "#d8576b"
             ],
             [
              0.6666666666666666,
              "#ed7953"
             ],
             [
              0.7777777777777778,
              "#fb9f3a"
             ],
             [
              0.8888888888888888,
              "#fdca26"
             ],
             [
              1,
              "#f0f921"
             ]
            ],
            "type": "heatmap"
           }
          ],
          "heatmapgl": [
           {
            "colorbar": {
             "outlinewidth": 0,
             "ticks": ""
            },
            "colorscale": [
             [
              0,
              "#0d0887"
             ],
             [
              0.1111111111111111,
              "#46039f"
             ],
             [
              0.2222222222222222,
              "#7201a8"
             ],
             [
              0.3333333333333333,
              "#9c179e"
             ],
             [
              0.4444444444444444,
              "#bd3786"
             ],
             [
              0.5555555555555556,
              "#d8576b"
             ],
             [
              0.6666666666666666,
              "#ed7953"
             ],
             [
              0.7777777777777778,
              "#fb9f3a"
             ],
             [
              0.8888888888888888,
              "#fdca26"
             ],
             [
              1,
              "#f0f921"
             ]
            ],
            "type": "heatmapgl"
           }
          ],
          "histogram": [
           {
            "marker": {
             "pattern": {
              "fillmode": "overlay",
              "size": 10,
              "solidity": 0.2
             }
            },
            "type": "histogram"
           }
          ],
          "histogram2d": [
           {
            "colorbar": {
             "outlinewidth": 0,
             "ticks": ""
            },
            "colorscale": [
             [
              0,
              "#0d0887"
             ],
             [
              0.1111111111111111,
              "#46039f"
             ],
             [
              0.2222222222222222,
              "#7201a8"
             ],
             [
              0.3333333333333333,
              "#9c179e"
             ],
             [
              0.4444444444444444,
              "#bd3786"
             ],
             [
              0.5555555555555556,
              "#d8576b"
             ],
             [
              0.6666666666666666,
              "#ed7953"
             ],
             [
              0.7777777777777778,
              "#fb9f3a"
             ],
             [
              0.8888888888888888,
              "#fdca26"
             ],
             [
              1,
              "#f0f921"
             ]
            ],
            "type": "histogram2d"
           }
          ],
          "histogram2dcontour": [
           {
            "colorbar": {
             "outlinewidth": 0,
             "ticks": ""
            },
            "colorscale": [
             [
              0,
              "#0d0887"
             ],
             [
              0.1111111111111111,
              "#46039f"
             ],
             [
              0.2222222222222222,
              "#7201a8"
             ],
             [
              0.3333333333333333,
              "#9c179e"
             ],
             [
              0.4444444444444444,
              "#bd3786"
             ],
             [
              0.5555555555555556,
              "#d8576b"
             ],
             [
              0.6666666666666666,
              "#ed7953"
             ],
             [
              0.7777777777777778,
              "#fb9f3a"
             ],
             [
              0.8888888888888888,
              "#fdca26"
             ],
             [
              1,
              "#f0f921"
             ]
            ],
            "type": "histogram2dcontour"
           }
          ],
          "mesh3d": [
           {
            "colorbar": {
             "outlinewidth": 0,
             "ticks": ""
            },
            "type": "mesh3d"
           }
          ],
          "parcoords": [
           {
            "line": {
             "colorbar": {
              "outlinewidth": 0,
              "ticks": ""
             }
            },
            "type": "parcoords"
           }
          ],
          "pie": [
           {
            "automargin": true,
            "type": "pie"
           }
          ],
          "scatter": [
           {
            "fillpattern": {
             "fillmode": "overlay",
             "size": 10,
             "solidity": 0.2
            },
            "type": "scatter"
           }
          ],
          "scatter3d": [
           {
            "line": {
             "colorbar": {
              "outlinewidth": 0,
              "ticks": ""
             }
            },
            "marker": {
             "colorbar": {
              "outlinewidth": 0,
              "ticks": ""
             }
            },
            "type": "scatter3d"
           }
          ],
          "scattercarpet": [
           {
            "marker": {
             "colorbar": {
              "outlinewidth": 0,
              "ticks": ""
             }
            },
            "type": "scattercarpet"
           }
          ],
          "scattergeo": [
           {
            "marker": {
             "colorbar": {
              "outlinewidth": 0,
              "ticks": ""
             }
            },
            "type": "scattergeo"
           }
          ],
          "scattergl": [
           {
            "marker": {
             "colorbar": {
              "outlinewidth": 0,
              "ticks": ""
             }
            },
            "type": "scattergl"
           }
          ],
          "scattermapbox": [
           {
            "marker": {
             "colorbar": {
              "outlinewidth": 0,
              "ticks": ""
             }
            },
            "type": "scattermapbox"
           }
          ],
          "scatterpolar": [
           {
            "marker": {
             "colorbar": {
              "outlinewidth": 0,
              "ticks": ""
             }
            },
            "type": "scatterpolar"
           }
          ],
          "scatterpolargl": [
           {
            "marker": {
             "colorbar": {
              "outlinewidth": 0,
              "ticks": ""
             }
            },
            "type": "scatterpolargl"
           }
          ],
          "scatterternary": [
           {
            "marker": {
             "colorbar": {
              "outlinewidth": 0,
              "ticks": ""
             }
            },
            "type": "scatterternary"
           }
          ],
          "surface": [
           {
            "colorbar": {
             "outlinewidth": 0,
             "ticks": ""
            },
            "colorscale": [
             [
              0,
              "#0d0887"
             ],
             [
              0.1111111111111111,
              "#46039f"
             ],
             [
              0.2222222222222222,
              "#7201a8"
             ],
             [
              0.3333333333333333,
              "#9c179e"
             ],
             [
              0.4444444444444444,
              "#bd3786"
             ],
             [
              0.5555555555555556,
              "#d8576b"
             ],
             [
              0.6666666666666666,
              "#ed7953"
             ],
             [
              0.7777777777777778,
              "#fb9f3a"
             ],
             [
              0.8888888888888888,
              "#fdca26"
             ],
             [
              1,
              "#f0f921"
             ]
            ],
            "type": "surface"
           }
          ],
          "table": [
           {
            "cells": {
             "fill": {
              "color": "#EBF0F8"
             },
             "line": {
              "color": "white"
             }
            },
            "header": {
             "fill": {
              "color": "#C8D4E3"
             },
             "line": {
              "color": "white"
             }
            },
            "type": "table"
           }
          ]
         },
         "layout": {
          "annotationdefaults": {
           "arrowcolor": "#2a3f5f",
           "arrowhead": 0,
           "arrowwidth": 1
          },
          "autotypenumbers": "strict",
          "coloraxis": {
           "colorbar": {
            "outlinewidth": 0,
            "ticks": ""
           }
          },
          "colorscale": {
           "diverging": [
            [
             0,
             "#8e0152"
            ],
            [
             0.1,
             "#c51b7d"
            ],
            [
             0.2,
             "#de77ae"
            ],
            [
             0.3,
             "#f1b6da"
            ],
            [
             0.4,
             "#fde0ef"
            ],
            [
             0.5,
             "#f7f7f7"
            ],
            [
             0.6,
             "#e6f5d0"
            ],
            [
             0.7,
             "#b8e186"
            ],
            [
             0.8,
             "#7fbc41"
            ],
            [
             0.9,
             "#4d9221"
            ],
            [
             1,
             "#276419"
            ]
           ],
           "sequential": [
            [
             0,
             "#0d0887"
            ],
            [
             0.1111111111111111,
             "#46039f"
            ],
            [
             0.2222222222222222,
             "#7201a8"
            ],
            [
             0.3333333333333333,
             "#9c179e"
            ],
            [
             0.4444444444444444,
             "#bd3786"
            ],
            [
             0.5555555555555556,
             "#d8576b"
            ],
            [
             0.6666666666666666,
             "#ed7953"
            ],
            [
             0.7777777777777778,
             "#fb9f3a"
            ],
            [
             0.8888888888888888,
             "#fdca26"
            ],
            [
             1,
             "#f0f921"
            ]
           ],
           "sequentialminus": [
            [
             0,
             "#0d0887"
            ],
            [
             0.1111111111111111,
             "#46039f"
            ],
            [
             0.2222222222222222,
             "#7201a8"
            ],
            [
             0.3333333333333333,
             "#9c179e"
            ],
            [
             0.4444444444444444,
             "#bd3786"
            ],
            [
             0.5555555555555556,
             "#d8576b"
            ],
            [
             0.6666666666666666,
             "#ed7953"
            ],
            [
             0.7777777777777778,
             "#fb9f3a"
            ],
            [
             0.8888888888888888,
             "#fdca26"
            ],
            [
             1,
             "#f0f921"
            ]
           ]
          },
          "colorway": [
           "#636efa",
           "#EF553B",
           "#00cc96",
           "#ab63fa",
           "#FFA15A",
           "#19d3f3",
           "#FF6692",
           "#B6E880",
           "#FF97FF",
           "#FECB52"
          ],
          "font": {
           "color": "#2a3f5f"
          },
          "geo": {
           "bgcolor": "white",
           "lakecolor": "white",
           "landcolor": "#E5ECF6",
           "showlakes": true,
           "showland": true,
           "subunitcolor": "white"
          },
          "hoverlabel": {
           "align": "left"
          },
          "hovermode": "closest",
          "mapbox": {
           "style": "light"
          },
          "paper_bgcolor": "white",
          "plot_bgcolor": "#E5ECF6",
          "polar": {
           "angularaxis": {
            "gridcolor": "white",
            "linecolor": "white",
            "ticks": ""
           },
           "bgcolor": "#E5ECF6",
           "radialaxis": {
            "gridcolor": "white",
            "linecolor": "white",
            "ticks": ""
           }
          },
          "scene": {
           "xaxis": {
            "backgroundcolor": "#E5ECF6",
            "gridcolor": "white",
            "gridwidth": 2,
            "linecolor": "white",
            "showbackground": true,
            "ticks": "",
            "zerolinecolor": "white"
           },
           "yaxis": {
            "backgroundcolor": "#E5ECF6",
            "gridcolor": "white",
            "gridwidth": 2,
            "linecolor": "white",
            "showbackground": true,
            "ticks": "",
            "zerolinecolor": "white"
           },
           "zaxis": {
            "backgroundcolor": "#E5ECF6",
            "gridcolor": "white",
            "gridwidth": 2,
            "linecolor": "white",
            "showbackground": true,
            "ticks": "",
            "zerolinecolor": "white"
           }
          },
          "shapedefaults": {
           "line": {
            "color": "#2a3f5f"
           }
          },
          "ternary": {
           "aaxis": {
            "gridcolor": "white",
            "linecolor": "white",
            "ticks": ""
           },
           "baxis": {
            "gridcolor": "white",
            "linecolor": "white",
            "ticks": ""
           },
           "bgcolor": "#E5ECF6",
           "caxis": {
            "gridcolor": "white",
            "linecolor": "white",
            "ticks": ""
           }
          },
          "title": {
           "x": 0.05
          },
          "xaxis": {
           "automargin": true,
           "gridcolor": "white",
           "linecolor": "white",
           "ticks": "",
           "title": {
            "standoff": 15
           },
           "zerolinecolor": "white",
           "zerolinewidth": 2
          },
          "yaxis": {
           "automargin": true,
           "gridcolor": "white",
           "linecolor": "white",
           "ticks": "",
           "title": {
            "standoff": 15
           },
           "zerolinecolor": "white",
           "zerolinewidth": 2
          }
         }
        },
        "title": {
         "text": "Suara Uhuy VS Suara Pileg DPR (Jawa Barat)"
        },
        "xaxis": {
         "anchor": "y",
         "categoryarray": [
          "Komeng",
          "Golkar",
          "Gerindra",
          "PKS",
          "PKB",
          "PDIP"
         ],
         "categoryorder": "array",
         "domain": [
          0,
          1
         ],
         "fixedrange": true,
         "title": {
          "text": "Nama"
         }
        },
        "yaxis": {
         "anchor": "x",
         "domain": [
          0,
          1
         ],
         "fixedrange": true,
         "title": {
          "text": "Jumlah Suara"
         }
        }
       }
      }
     },
     "metadata": {},
     "output_type": "display_data"
    }
   ],
   "source": [
    "#color \n",
    "bar_color = {}\n",
    "for _,row in suara_komeng_vs_partai.iterrows():\n",
    "    bar_color[row['nickname']] = row['warna']\n",
    "\n",
    "# Step 3: Create Plotly bar chart\n",
    "# fig = go.Figure(data=[go.Bar(x=suara_komeng_vs_partai['nama'], y=suara_komeng_vs_partai['jumlah_suara'],color_discrete_map = bar_color)])\n",
    "fig = px.bar(suara_komeng_vs_partai, x='nickname', y='jumlah_suara',color='nickname',color_discrete_map=bar_color)\n",
    "fig.update_traces(hovertemplate=\"%{x}: %{y:.0f}\")\n",
    "# fig = go.Figure()\n",
    "\n",
    "# Step 4: Add annotations with images to each bar\n",
    "counter = 0.5\n",
    "for _,row in suara_komeng_vs_partai.iterrows():\n",
    "    fig.add_layout_image(\n",
    "        dict(\n",
    "            source=row['image_url'],\n",
    "            xref=\"paper\",\n",
    "            yref=\"paper\",\n",
    "            x=counter/len(suara_komeng_vs_partai),\n",
    "            y=0.25,\n",
    "            sizex=0.2,\n",
    "            sizey=0.2,\n",
    "            xanchor=\"center\",\n",
    "            yanchor=\"middle\",\n",
    "            sizing=\"contain\",\n",
    "            opacity=1,\n",
    "            \n",
    "            # layer=\"below\"\n",
    "        )\n",
    "    )\n",
    "    counter+=1\n",
    "\n",
    "fig.update_layout( \n",
    "    xaxis=dict(title='Nama'),\n",
    "    yaxis=dict(title='Jumlah Suara'),\n",
    "    title='Suara Uhuy VS Suara Pileg DPR (Jawa Barat)'\n",
    ")\n",
    "fig.update_layout(\n",
    "    margin=dict(l=0, r=0, t=40, b=0),\n",
    "    showlegend=False\n",
    ")\n",
    "fig.update_layout(modebar_remove=[ 'zoom', 'pan', 'select', 'lasso2d', 'zoomIn', 'zoomOut',])\n",
    "fig.layout.xaxis.fixedrange = True\n",
    "fig.layout.yaxis.fixedrange = True\n",
    "fig.write_html('html/bar_komeng_vs_pileg_dpr.html')\n",
    "fig.show()\n"
   ]
  },
  {
   "cell_type": "code",
   "execution_count": 200,
   "metadata": {},
   "outputs": [
    {
     "data": {
      "text/html": [
       "<div>\n",
       "<style scoped>\n",
       "    .dataframe tbody tr th:only-of-type {\n",
       "        vertical-align: middle;\n",
       "    }\n",
       "\n",
       "    .dataframe tbody tr th {\n",
       "        vertical-align: top;\n",
       "    }\n",
       "\n",
       "    .dataframe thead th {\n",
       "        text-align: right;\n",
       "    }\n",
       "</style>\n",
       "<table border=\"1\" class=\"dataframe\">\n",
       "  <thead>\n",
       "    <tr style=\"text-align: right;\">\n",
       "      <th></th>\n",
       "      <th>ts</th>\n",
       "      <th>nama</th>\n",
       "      <th>warna</th>\n",
       "      <th>nomor_urut</th>\n",
       "      <th>id</th>\n",
       "      <th>jumlah_suara</th>\n",
       "    </tr>\n",
       "  </thead>\n",
       "  <tbody>\n",
       "    <tr>\n",
       "      <th>0</th>\n",
       "      <td>2024-02-17 16:00:02</td>\n",
       "      <td>H. ANIES RASYID BASWEDAN, Ph.D. - Dr. (H.C.) H...</td>\n",
       "      <td>#8CB9BD</td>\n",
       "      <td>1</td>\n",
       "      <td>100025</td>\n",
       "      <td>6490745</td>\n",
       "    </tr>\n",
       "    <tr>\n",
       "      <th>1</th>\n",
       "      <td>2024-02-17 16:00:02</td>\n",
       "      <td>H. PRABOWO SUBIANTO - GIBRAN RAKABUMING RAKA</td>\n",
       "      <td>#C7B7A3</td>\n",
       "      <td>2</td>\n",
       "      <td>100026</td>\n",
       "      <td>12009854</td>\n",
       "    </tr>\n",
       "    <tr>\n",
       "      <th>2</th>\n",
       "      <td>2024-02-17 16:00:02</td>\n",
       "      <td>H. GANJAR PRANOWO, S.H., M.I.P. - Prof. Dr. H....</td>\n",
       "      <td>#B67352</td>\n",
       "      <td>3</td>\n",
       "      <td>100027</td>\n",
       "      <td>2026611</td>\n",
       "    </tr>\n",
       "  </tbody>\n",
       "</table>\n",
       "</div>"
      ],
      "text/plain": [
       "                    ts                                               nama   \n",
       "0  2024-02-17 16:00:02  H. ANIES RASYID BASWEDAN, Ph.D. - Dr. (H.C.) H...  \\\n",
       "1  2024-02-17 16:00:02       H. PRABOWO SUBIANTO - GIBRAN RAKABUMING RAKA   \n",
       "2  2024-02-17 16:00:02  H. GANJAR PRANOWO, S.H., M.I.P. - Prof. Dr. H....   \n",
       "\n",
       "     warna  nomor_urut      id  jumlah_suara  \n",
       "0  #8CB9BD           1  100025       6490745  \n",
       "1  #C7B7A3           2  100026      12009854  \n",
       "2  #B67352           3  100027       2026611  "
      ]
     },
     "execution_count": 200,
     "metadata": {},
     "output_type": "execute_result"
    }
   ],
   "source": [
    "#suara presiden\n",
    "suara_presiden"
   ]
  },
  {
   "cell_type": "code",
   "execution_count": 201,
   "metadata": {},
   "outputs": [],
   "source": [
    "detail_chart_presiden = [\n",
    "    {\"nickname\":\"Anies - Muhaimin\", \"warna\":\"#a5d63c\",\"nama\":\"H. ANIES RASYID BASWEDAN, Ph.D. - Dr. (H.C.) H. A. MUHAIMIN ISKANDAR\",\"image_url\":\"https://asset.kompas.com/data/2024/02/19/kompascom/widget/realcount/images/widget/real-count/paslon-1.png\"},\n",
    "    {\"nickname\":\"Prabowo - Gibran\",\"warna\":\"#09bce3\",\"nama\":\"H. PRABOWO SUBIANTO - GIBRAN RAKABUMING RAKA\",\"image_url\":\"https://asset.kompas.com/data/2024/02/19/kompascom/widget/realcount/images/widget/real-count/paslon-2.png\"},\n",
    "    {\"nickname\":\"Ganjar - Mahfud\",\"warna\":\"#e65225\",\"nama\":\"H. GANJAR PRANOWO, S.H., M.I.P. - Prof. Dr. H. M. MAHFUD MD\",\"image_url\":\"https://asset.kompas.com/data/2024/02/19/kompascom/widget/realcount/images/widget/real-count/paslon-3.png\"},\n",
    "]\n",
    "detail_presiden = pd.DataFrame(detail_chart_presiden)\n",
    "suara_presiden_detailed = suara_presiden[['nama','jumlah_suara']].merge(detail_presiden,how='inner',on='nama')\n",
    "# suara_presiden_detailed.sort_values('jumlah_suara',ascending=False,inplace=True)"
   ]
  },
  {
   "cell_type": "code",
   "execution_count": 202,
   "metadata": {},
   "outputs": [
    {
     "data": {
      "text/html": [
       "<div>\n",
       "<style scoped>\n",
       "    .dataframe tbody tr th:only-of-type {\n",
       "        vertical-align: middle;\n",
       "    }\n",
       "\n",
       "    .dataframe tbody tr th {\n",
       "        vertical-align: top;\n",
       "    }\n",
       "\n",
       "    .dataframe thead th {\n",
       "        text-align: right;\n",
       "    }\n",
       "</style>\n",
       "<table border=\"1\" class=\"dataframe\">\n",
       "  <thead>\n",
       "    <tr style=\"text-align: right;\">\n",
       "      <th></th>\n",
       "      <th>nama</th>\n",
       "      <th>jumlah_suara</th>\n",
       "      <th>nickname</th>\n",
       "      <th>warna</th>\n",
       "      <th>image_url</th>\n",
       "    </tr>\n",
       "  </thead>\n",
       "  <tbody>\n",
       "    <tr>\n",
       "      <th>0</th>\n",
       "      <td>H. ANIES RASYID BASWEDAN, Ph.D. - Dr. (H.C.) H...</td>\n",
       "      <td>6490745.0</td>\n",
       "      <td>Anies - Muhaimin</td>\n",
       "      <td>#a5d63c</td>\n",
       "      <td>https://asset.kompas.com/data/2024/02/19/kompa...</td>\n",
       "    </tr>\n",
       "    <tr>\n",
       "      <th>1</th>\n",
       "      <td>H. PRABOWO SUBIANTO - GIBRAN RAKABUMING RAKA</td>\n",
       "      <td>12009854.0</td>\n",
       "      <td>Prabowo - Gibran</td>\n",
       "      <td>#09bce3</td>\n",
       "      <td>https://asset.kompas.com/data/2024/02/19/kompa...</td>\n",
       "    </tr>\n",
       "    <tr>\n",
       "      <th>2</th>\n",
       "      <td>H. GANJAR PRANOWO, S.H., M.I.P. - Prof. Dr. H....</td>\n",
       "      <td>2026611.0</td>\n",
       "      <td>Ganjar - Mahfud</td>\n",
       "      <td>#e65225</td>\n",
       "      <td>https://asset.kompas.com/data/2024/02/19/kompa...</td>\n",
       "    </tr>\n",
       "    <tr>\n",
       "      <th>0</th>\n",
       "      <td>Komeng</td>\n",
       "      <td>2263426.0</td>\n",
       "      <td>Komeng</td>\n",
       "      <td>#397ae3</td>\n",
       "      <td>https://upload.wikimedia.org/wikipedia/commons...</td>\n",
       "    </tr>\n",
       "  </tbody>\n",
       "</table>\n",
       "</div>"
      ],
      "text/plain": [
       "                                                nama  jumlah_suara   \n",
       "0  H. ANIES RASYID BASWEDAN, Ph.D. - Dr. (H.C.) H...     6490745.0  \\\n",
       "1       H. PRABOWO SUBIANTO - GIBRAN RAKABUMING RAKA    12009854.0   \n",
       "2  H. GANJAR PRANOWO, S.H., M.I.P. - Prof. Dr. H....     2026611.0   \n",
       "0                                             Komeng     2263426.0   \n",
       "\n",
       "           nickname    warna   \n",
       "0  Anies - Muhaimin  #a5d63c  \\\n",
       "1  Prabowo - Gibran  #09bce3   \n",
       "2   Ganjar - Mahfud  #e65225   \n",
       "0            Komeng  #397ae3   \n",
       "\n",
       "                                           image_url  \n",
       "0  https://asset.kompas.com/data/2024/02/19/kompa...  \n",
       "1  https://asset.kompas.com/data/2024/02/19/kompa...  \n",
       "2  https://asset.kompas.com/data/2024/02/19/kompa...  \n",
       "0  https://upload.wikimedia.org/wikipedia/commons...  "
      ]
     },
     "execution_count": 202,
     "metadata": {},
     "output_type": "execute_result"
    }
   ],
   "source": [
    "suara_komeng_vs_presiden = pd.concat([suara_presiden_detailed,suara_komeng_df])\n",
    "# suara_komeng_vs_presiden.sort_values('jumlah_suara',ascending=False,inplace=True)\n",
    "suara_komeng_vs_presiden"
   ]
  },
  {
   "cell_type": "code",
   "execution_count": 203,
   "metadata": {},
   "outputs": [
    {
     "data": {
      "application/vnd.plotly.v1+json": {
       "config": {
        "plotlyServerURL": "https://plot.ly"
       },
       "data": [
        {
         "alignmentgroup": "True",
         "hovertemplate": "%{x}: %{y:.0f}",
         "legendgroup": "Anies - Muhaimin",
         "marker": {
          "color": "#a5d63c",
          "pattern": {
           "shape": ""
          }
         },
         "name": "Anies - Muhaimin",
         "offsetgroup": "Anies - Muhaimin",
         "orientation": "v",
         "showlegend": true,
         "textposition": "auto",
         "type": "bar",
         "x": [
          "Anies - Muhaimin"
         ],
         "xaxis": "x",
         "y": [
          6490745
         ],
         "yaxis": "y"
        },
        {
         "alignmentgroup": "True",
         "hovertemplate": "%{x}: %{y:.0f}",
         "legendgroup": "Prabowo - Gibran",
         "marker": {
          "color": "#09bce3",
          "pattern": {
           "shape": ""
          }
         },
         "name": "Prabowo - Gibran",
         "offsetgroup": "Prabowo - Gibran",
         "orientation": "v",
         "showlegend": true,
         "textposition": "auto",
         "type": "bar",
         "x": [
          "Prabowo - Gibran"
         ],
         "xaxis": "x",
         "y": [
          12009854
         ],
         "yaxis": "y"
        },
        {
         "alignmentgroup": "True",
         "hovertemplate": "%{x}: %{y:.0f}",
         "legendgroup": "Ganjar - Mahfud",
         "marker": {
          "color": "#e65225",
          "pattern": {
           "shape": ""
          }
         },
         "name": "Ganjar - Mahfud",
         "offsetgroup": "Ganjar - Mahfud",
         "orientation": "v",
         "showlegend": true,
         "textposition": "auto",
         "type": "bar",
         "x": [
          "Ganjar - Mahfud"
         ],
         "xaxis": "x",
         "y": [
          2026611
         ],
         "yaxis": "y"
        },
        {
         "alignmentgroup": "True",
         "hovertemplate": "%{x}: %{y:.0f}",
         "legendgroup": "Komeng",
         "marker": {
          "color": "#397ae3",
          "pattern": {
           "shape": ""
          }
         },
         "name": "Komeng",
         "offsetgroup": "Komeng",
         "orientation": "v",
         "showlegend": true,
         "textposition": "auto",
         "type": "bar",
         "x": [
          "Komeng"
         ],
         "xaxis": "x",
         "y": [
          2263426
         ],
         "yaxis": "y"
        }
       ],
       "layout": {
        "barmode": "relative",
        "images": [
         {
          "opacity": 1,
          "sizex": 0.3,
          "sizey": 0.3,
          "sizing": "contain",
          "source": "https://asset.kompas.com/data/2024/02/19/kompascom/widget/realcount/images/widget/real-count/paslon-1.png",
          "x": 0.125,
          "xanchor": "center",
          "xref": "paper",
          "y": 0.25,
          "yanchor": "middle",
          "yref": "paper"
         },
         {
          "opacity": 1,
          "sizex": 0.3,
          "sizey": 0.3,
          "sizing": "contain",
          "source": "https://asset.kompas.com/data/2024/02/19/kompascom/widget/realcount/images/widget/real-count/paslon-2.png",
          "x": 0.375,
          "xanchor": "center",
          "xref": "paper",
          "y": 0.25,
          "yanchor": "middle",
          "yref": "paper"
         },
         {
          "opacity": 1,
          "sizex": 0.3,
          "sizey": 0.3,
          "sizing": "contain",
          "source": "https://asset.kompas.com/data/2024/02/19/kompascom/widget/realcount/images/widget/real-count/paslon-3.png",
          "x": 0.625,
          "xanchor": "center",
          "xref": "paper",
          "y": 0.25,
          "yanchor": "middle",
          "yref": "paper"
         },
         {
          "opacity": 1,
          "sizex": 0.3,
          "sizey": 0.3,
          "sizing": "contain",
          "source": "https://upload.wikimedia.org/wikipedia/commons/thumb/2/25/KPU_Alfiansyah_Bustami_Komeng.jpg/1200px-KPU_Alfiansyah_Bustami_Komeng.jpg",
          "x": 0.875,
          "xanchor": "center",
          "xref": "paper",
          "y": 0.25,
          "yanchor": "middle",
          "yref": "paper"
         }
        ],
        "legend": {
         "title": {
          "text": "nickname"
         },
         "tracegroupgap": 0
        },
        "margin": {
         "b": 0,
         "l": 0,
         "r": 0,
         "t": 40
        },
        "modebar": {
         "remove": [
          "zoom",
          "pan",
          "select",
          "lasso2d",
          "zoomIn",
          "zoomOut"
         ]
        },
        "showlegend": false,
        "template": {
         "data": {
          "bar": [
           {
            "error_x": {
             "color": "#2a3f5f"
            },
            "error_y": {
             "color": "#2a3f5f"
            },
            "marker": {
             "line": {
              "color": "#E5ECF6",
              "width": 0.5
             },
             "pattern": {
              "fillmode": "overlay",
              "size": 10,
              "solidity": 0.2
             }
            },
            "type": "bar"
           }
          ],
          "barpolar": [
           {
            "marker": {
             "line": {
              "color": "#E5ECF6",
              "width": 0.5
             },
             "pattern": {
              "fillmode": "overlay",
              "size": 10,
              "solidity": 0.2
             }
            },
            "type": "barpolar"
           }
          ],
          "carpet": [
           {
            "aaxis": {
             "endlinecolor": "#2a3f5f",
             "gridcolor": "white",
             "linecolor": "white",
             "minorgridcolor": "white",
             "startlinecolor": "#2a3f5f"
            },
            "baxis": {
             "endlinecolor": "#2a3f5f",
             "gridcolor": "white",
             "linecolor": "white",
             "minorgridcolor": "white",
             "startlinecolor": "#2a3f5f"
            },
            "type": "carpet"
           }
          ],
          "choropleth": [
           {
            "colorbar": {
             "outlinewidth": 0,
             "ticks": ""
            },
            "type": "choropleth"
           }
          ],
          "contour": [
           {
            "colorbar": {
             "outlinewidth": 0,
             "ticks": ""
            },
            "colorscale": [
             [
              0,
              "#0d0887"
             ],
             [
              0.1111111111111111,
              "#46039f"
             ],
             [
              0.2222222222222222,
              "#7201a8"
             ],
             [
              0.3333333333333333,
              "#9c179e"
             ],
             [
              0.4444444444444444,
              "#bd3786"
             ],
             [
              0.5555555555555556,
              "#d8576b"
             ],
             [
              0.6666666666666666,
              "#ed7953"
             ],
             [
              0.7777777777777778,
              "#fb9f3a"
             ],
             [
              0.8888888888888888,
              "#fdca26"
             ],
             [
              1,
              "#f0f921"
             ]
            ],
            "type": "contour"
           }
          ],
          "contourcarpet": [
           {
            "colorbar": {
             "outlinewidth": 0,
             "ticks": ""
            },
            "type": "contourcarpet"
           }
          ],
          "heatmap": [
           {
            "colorbar": {
             "outlinewidth": 0,
             "ticks": ""
            },
            "colorscale": [
             [
              0,
              "#0d0887"
             ],
             [
              0.1111111111111111,
              "#46039f"
             ],
             [
              0.2222222222222222,
              "#7201a8"
             ],
             [
              0.3333333333333333,
              "#9c179e"
             ],
             [
              0.4444444444444444,
              "#bd3786"
             ],
             [
              0.5555555555555556,
              "#d8576b"
             ],
             [
              0.6666666666666666,
              "#ed7953"
             ],
             [
              0.7777777777777778,
              "#fb9f3a"
             ],
             [
              0.8888888888888888,
              "#fdca26"
             ],
             [
              1,
              "#f0f921"
             ]
            ],
            "type": "heatmap"
           }
          ],
          "heatmapgl": [
           {
            "colorbar": {
             "outlinewidth": 0,
             "ticks": ""
            },
            "colorscale": [
             [
              0,
              "#0d0887"
             ],
             [
              0.1111111111111111,
              "#46039f"
             ],
             [
              0.2222222222222222,
              "#7201a8"
             ],
             [
              0.3333333333333333,
              "#9c179e"
             ],
             [
              0.4444444444444444,
              "#bd3786"
             ],
             [
              0.5555555555555556,
              "#d8576b"
             ],
             [
              0.6666666666666666,
              "#ed7953"
             ],
             [
              0.7777777777777778,
              "#fb9f3a"
             ],
             [
              0.8888888888888888,
              "#fdca26"
             ],
             [
              1,
              "#f0f921"
             ]
            ],
            "type": "heatmapgl"
           }
          ],
          "histogram": [
           {
            "marker": {
             "pattern": {
              "fillmode": "overlay",
              "size": 10,
              "solidity": 0.2
             }
            },
            "type": "histogram"
           }
          ],
          "histogram2d": [
           {
            "colorbar": {
             "outlinewidth": 0,
             "ticks": ""
            },
            "colorscale": [
             [
              0,
              "#0d0887"
             ],
             [
              0.1111111111111111,
              "#46039f"
             ],
             [
              0.2222222222222222,
              "#7201a8"
             ],
             [
              0.3333333333333333,
              "#9c179e"
             ],
             [
              0.4444444444444444,
              "#bd3786"
             ],
             [
              0.5555555555555556,
              "#d8576b"
             ],
             [
              0.6666666666666666,
              "#ed7953"
             ],
             [
              0.7777777777777778,
              "#fb9f3a"
             ],
             [
              0.8888888888888888,
              "#fdca26"
             ],
             [
              1,
              "#f0f921"
             ]
            ],
            "type": "histogram2d"
           }
          ],
          "histogram2dcontour": [
           {
            "colorbar": {
             "outlinewidth": 0,
             "ticks": ""
            },
            "colorscale": [
             [
              0,
              "#0d0887"
             ],
             [
              0.1111111111111111,
              "#46039f"
             ],
             [
              0.2222222222222222,
              "#7201a8"
             ],
             [
              0.3333333333333333,
              "#9c179e"
             ],
             [
              0.4444444444444444,
              "#bd3786"
             ],
             [
              0.5555555555555556,
              "#d8576b"
             ],
             [
              0.6666666666666666,
              "#ed7953"
             ],
             [
              0.7777777777777778,
              "#fb9f3a"
             ],
             [
              0.8888888888888888,
              "#fdca26"
             ],
             [
              1,
              "#f0f921"
             ]
            ],
            "type": "histogram2dcontour"
           }
          ],
          "mesh3d": [
           {
            "colorbar": {
             "outlinewidth": 0,
             "ticks": ""
            },
            "type": "mesh3d"
           }
          ],
          "parcoords": [
           {
            "line": {
             "colorbar": {
              "outlinewidth": 0,
              "ticks": ""
             }
            },
            "type": "parcoords"
           }
          ],
          "pie": [
           {
            "automargin": true,
            "type": "pie"
           }
          ],
          "scatter": [
           {
            "fillpattern": {
             "fillmode": "overlay",
             "size": 10,
             "solidity": 0.2
            },
            "type": "scatter"
           }
          ],
          "scatter3d": [
           {
            "line": {
             "colorbar": {
              "outlinewidth": 0,
              "ticks": ""
             }
            },
            "marker": {
             "colorbar": {
              "outlinewidth": 0,
              "ticks": ""
             }
            },
            "type": "scatter3d"
           }
          ],
          "scattercarpet": [
           {
            "marker": {
             "colorbar": {
              "outlinewidth": 0,
              "ticks": ""
             }
            },
            "type": "scattercarpet"
           }
          ],
          "scattergeo": [
           {
            "marker": {
             "colorbar": {
              "outlinewidth": 0,
              "ticks": ""
             }
            },
            "type": "scattergeo"
           }
          ],
          "scattergl": [
           {
            "marker": {
             "colorbar": {
              "outlinewidth": 0,
              "ticks": ""
             }
            },
            "type": "scattergl"
           }
          ],
          "scattermapbox": [
           {
            "marker": {
             "colorbar": {
              "outlinewidth": 0,
              "ticks": ""
             }
            },
            "type": "scattermapbox"
           }
          ],
          "scatterpolar": [
           {
            "marker": {
             "colorbar": {
              "outlinewidth": 0,
              "ticks": ""
             }
            },
            "type": "scatterpolar"
           }
          ],
          "scatterpolargl": [
           {
            "marker": {
             "colorbar": {
              "outlinewidth": 0,
              "ticks": ""
             }
            },
            "type": "scatterpolargl"
           }
          ],
          "scatterternary": [
           {
            "marker": {
             "colorbar": {
              "outlinewidth": 0,
              "ticks": ""
             }
            },
            "type": "scatterternary"
           }
          ],
          "surface": [
           {
            "colorbar": {
             "outlinewidth": 0,
             "ticks": ""
            },
            "colorscale": [
             [
              0,
              "#0d0887"
             ],
             [
              0.1111111111111111,
              "#46039f"
             ],
             [
              0.2222222222222222,
              "#7201a8"
             ],
             [
              0.3333333333333333,
              "#9c179e"
             ],
             [
              0.4444444444444444,
              "#bd3786"
             ],
             [
              0.5555555555555556,
              "#d8576b"
             ],
             [
              0.6666666666666666,
              "#ed7953"
             ],
             [
              0.7777777777777778,
              "#fb9f3a"
             ],
             [
              0.8888888888888888,
              "#fdca26"
             ],
             [
              1,
              "#f0f921"
             ]
            ],
            "type": "surface"
           }
          ],
          "table": [
           {
            "cells": {
             "fill": {
              "color": "#EBF0F8"
             },
             "line": {
              "color": "white"
             }
            },
            "header": {
             "fill": {
              "color": "#C8D4E3"
             },
             "line": {
              "color": "white"
             }
            },
            "type": "table"
           }
          ]
         },
         "layout": {
          "annotationdefaults": {
           "arrowcolor": "#2a3f5f",
           "arrowhead": 0,
           "arrowwidth": 1
          },
          "autotypenumbers": "strict",
          "coloraxis": {
           "colorbar": {
            "outlinewidth": 0,
            "ticks": ""
           }
          },
          "colorscale": {
           "diverging": [
            [
             0,
             "#8e0152"
            ],
            [
             0.1,
             "#c51b7d"
            ],
            [
             0.2,
             "#de77ae"
            ],
            [
             0.3,
             "#f1b6da"
            ],
            [
             0.4,
             "#fde0ef"
            ],
            [
             0.5,
             "#f7f7f7"
            ],
            [
             0.6,
             "#e6f5d0"
            ],
            [
             0.7,
             "#b8e186"
            ],
            [
             0.8,
             "#7fbc41"
            ],
            [
             0.9,
             "#4d9221"
            ],
            [
             1,
             "#276419"
            ]
           ],
           "sequential": [
            [
             0,
             "#0d0887"
            ],
            [
             0.1111111111111111,
             "#46039f"
            ],
            [
             0.2222222222222222,
             "#7201a8"
            ],
            [
             0.3333333333333333,
             "#9c179e"
            ],
            [
             0.4444444444444444,
             "#bd3786"
            ],
            [
             0.5555555555555556,
             "#d8576b"
            ],
            [
             0.6666666666666666,
             "#ed7953"
            ],
            [
             0.7777777777777778,
             "#fb9f3a"
            ],
            [
             0.8888888888888888,
             "#fdca26"
            ],
            [
             1,
             "#f0f921"
            ]
           ],
           "sequentialminus": [
            [
             0,
             "#0d0887"
            ],
            [
             0.1111111111111111,
             "#46039f"
            ],
            [
             0.2222222222222222,
             "#7201a8"
            ],
            [
             0.3333333333333333,
             "#9c179e"
            ],
            [
             0.4444444444444444,
             "#bd3786"
            ],
            [
             0.5555555555555556,
             "#d8576b"
            ],
            [
             0.6666666666666666,
             "#ed7953"
            ],
            [
             0.7777777777777778,
             "#fb9f3a"
            ],
            [
             0.8888888888888888,
             "#fdca26"
            ],
            [
             1,
             "#f0f921"
            ]
           ]
          },
          "colorway": [
           "#636efa",
           "#EF553B",
           "#00cc96",
           "#ab63fa",
           "#FFA15A",
           "#19d3f3",
           "#FF6692",
           "#B6E880",
           "#FF97FF",
           "#FECB52"
          ],
          "font": {
           "color": "#2a3f5f"
          },
          "geo": {
           "bgcolor": "white",
           "lakecolor": "white",
           "landcolor": "#E5ECF6",
           "showlakes": true,
           "showland": true,
           "subunitcolor": "white"
          },
          "hoverlabel": {
           "align": "left"
          },
          "hovermode": "closest",
          "mapbox": {
           "style": "light"
          },
          "paper_bgcolor": "white",
          "plot_bgcolor": "#E5ECF6",
          "polar": {
           "angularaxis": {
            "gridcolor": "white",
            "linecolor": "white",
            "ticks": ""
           },
           "bgcolor": "#E5ECF6",
           "radialaxis": {
            "gridcolor": "white",
            "linecolor": "white",
            "ticks": ""
           }
          },
          "scene": {
           "xaxis": {
            "backgroundcolor": "#E5ECF6",
            "gridcolor": "white",
            "gridwidth": 2,
            "linecolor": "white",
            "showbackground": true,
            "ticks": "",
            "zerolinecolor": "white"
           },
           "yaxis": {
            "backgroundcolor": "#E5ECF6",
            "gridcolor": "white",
            "gridwidth": 2,
            "linecolor": "white",
            "showbackground": true,
            "ticks": "",
            "zerolinecolor": "white"
           },
           "zaxis": {
            "backgroundcolor": "#E5ECF6",
            "gridcolor": "white",
            "gridwidth": 2,
            "linecolor": "white",
            "showbackground": true,
            "ticks": "",
            "zerolinecolor": "white"
           }
          },
          "shapedefaults": {
           "line": {
            "color": "#2a3f5f"
           }
          },
          "ternary": {
           "aaxis": {
            "gridcolor": "white",
            "linecolor": "white",
            "ticks": ""
           },
           "baxis": {
            "gridcolor": "white",
            "linecolor": "white",
            "ticks": ""
           },
           "bgcolor": "#E5ECF6",
           "caxis": {
            "gridcolor": "white",
            "linecolor": "white",
            "ticks": ""
           }
          },
          "title": {
           "x": 0.05
          },
          "xaxis": {
           "automargin": true,
           "gridcolor": "white",
           "linecolor": "white",
           "ticks": "",
           "title": {
            "standoff": 15
           },
           "zerolinecolor": "white",
           "zerolinewidth": 2
          },
          "yaxis": {
           "automargin": true,
           "gridcolor": "white",
           "linecolor": "white",
           "ticks": "",
           "title": {
            "standoff": 15
           },
           "zerolinecolor": "white",
           "zerolinewidth": 2
          }
         }
        },
        "title": {
         "text": "Suara Uhuy VS Suara Pemilihan Presiden (Jawa Barat)"
        },
        "xaxis": {
         "anchor": "y",
         "categoryarray": [
          "Anies - Muhaimin",
          "Prabowo - Gibran",
          "Ganjar - Mahfud",
          "Komeng"
         ],
         "categoryorder": "array",
         "domain": [
          0,
          1
         ],
         "fixedrange": true,
         "title": {
          "text": "Nama"
         }
        },
        "yaxis": {
         "anchor": "x",
         "domain": [
          0,
          1
         ],
         "fixedrange": true,
         "title": {
          "text": "Jumlah Suara"
         }
        }
       }
      }
     },
     "metadata": {},
     "output_type": "display_data"
    }
   ],
   "source": [
    "#color \n",
    "bar_color = {}\n",
    "for _,row in suara_komeng_vs_presiden.iterrows():\n",
    "    bar_color[row['nickname']] = row['warna']\n",
    "\n",
    "# Step 3: Create Plotly bar chart\n",
    "# fig = go.Figure(data=[go.Bar(x=suara_komeng_vs_presiden['nama'], y=suara_komeng_vs_presiden['jumlah_suara'],color_discrete_map = bar_color)])\n",
    "fig = px.bar(suara_komeng_vs_presiden, x='nickname', y='jumlah_suara',color='nickname', color_discrete_map=bar_color)\n",
    "fig.update_traces(hovertemplate=\"%{x}: %{y:.0f}\")\n",
    "\n",
    "# fig = go.Figure()\n",
    "\n",
    "# Step 4: Add annotations with images to each bar\n",
    "counter = 0.5\n",
    "for _,row in suara_komeng_vs_presiden.iterrows():\n",
    "    fig.add_layout_image(\n",
    "        dict(\n",
    "            source=row['image_url'],\n",
    "            xref=\"paper\",\n",
    "            yref=\"paper\",\n",
    "            x=counter/len(suara_komeng_vs_presiden),\n",
    "            y=0.25,\n",
    "            sizex=0.3,\n",
    "            sizey=0.3,\n",
    "            xanchor=\"center\",\n",
    "            yanchor=\"middle\",\n",
    "            sizing=\"contain\",\n",
    "            opacity=1,\n",
    "            \n",
    "            # layer=\"below\"\n",
    "        )\n",
    "    )\n",
    "    counter+=1\n",
    "\n",
    "fig.update_layout(\n",
    "    xaxis=dict(title='Nama'),\n",
    "    yaxis=dict(title='Jumlah Suara'),\n",
    "    title='Suara Uhuy VS Suara Pemilihan Presiden (Jawa Barat)'\n",
    ")\n",
    "fig.update_layout(\n",
    "    margin=dict(l=0, r=0, t=40, b=0),\n",
    "    showlegend=False\n",
    ")\n",
    "fig.update_layout(modebar_remove=[ 'zoom', 'pan', 'select', 'lasso2d', 'zoomIn', 'zoomOut',])\n",
    "fig.layout.xaxis.fixedrange = True\n",
    "fig.layout.yaxis.fixedrange = True\n",
    "fig.write_html('html/bar_komeng_vs_pilpres.html')\n",
    "fig.show()\n"
   ]
  },
  {
   "cell_type": "code",
   "execution_count": 204,
   "metadata": {},
   "outputs": [
    {
     "data": {
      "text/html": [
       "<div>\n",
       "<style scoped>\n",
       "    .dataframe tbody tr th:only-of-type {\n",
       "        vertical-align: middle;\n",
       "    }\n",
       "\n",
       "    .dataframe tbody tr th {\n",
       "        vertical-align: top;\n",
       "    }\n",
       "\n",
       "    .dataframe thead th {\n",
       "        text-align: right;\n",
       "    }\n",
       "</style>\n",
       "<table border=\"1\" class=\"dataframe\">\n",
       "  <thead>\n",
       "    <tr style=\"text-align: right;\">\n",
       "      <th></th>\n",
       "      <th>nama</th>\n",
       "      <th>jumlah_suara</th>\n",
       "      <th>nickname</th>\n",
       "      <th>warna</th>\n",
       "      <th>image_url</th>\n",
       "    </tr>\n",
       "  </thead>\n",
       "  <tbody>\n",
       "    <tr>\n",
       "      <th>0</th>\n",
       "      <td>H. ANIES RASYID BASWEDAN, Ph.D. - Dr. (H.C.) H...</td>\n",
       "      <td>6490745.0</td>\n",
       "      <td>Anies - Muhaimin</td>\n",
       "      <td>#a5d63c</td>\n",
       "      <td>https://asset.kompas.com/data/2024/02/19/kompa...</td>\n",
       "    </tr>\n",
       "    <tr>\n",
       "      <th>1</th>\n",
       "      <td>H. PRABOWO SUBIANTO - GIBRAN RAKABUMING RAKA</td>\n",
       "      <td>12009854.0</td>\n",
       "      <td>Prabowo - Gibran</td>\n",
       "      <td>#09bce3</td>\n",
       "      <td>https://asset.kompas.com/data/2024/02/19/kompa...</td>\n",
       "    </tr>\n",
       "    <tr>\n",
       "      <th>2</th>\n",
       "      <td>H. GANJAR PRANOWO, S.H., M.I.P. - Prof. Dr. H....</td>\n",
       "      <td>2026611.0</td>\n",
       "      <td>Ganjar - Mahfud</td>\n",
       "      <td>#e65225</td>\n",
       "      <td>https://asset.kompas.com/data/2024/02/19/kompa...</td>\n",
       "    </tr>\n",
       "    <tr>\n",
       "      <th>0</th>\n",
       "      <td>Komeng</td>\n",
       "      <td>2263426.0</td>\n",
       "      <td>Komeng</td>\n",
       "      <td>#397ae3</td>\n",
       "      <td>https://upload.wikimedia.org/wikipedia/commons...</td>\n",
       "    </tr>\n",
       "  </tbody>\n",
       "</table>\n",
       "</div>"
      ],
      "text/plain": [
       "                                                nama  jumlah_suara   \n",
       "0  H. ANIES RASYID BASWEDAN, Ph.D. - Dr. (H.C.) H...     6490745.0  \\\n",
       "1       H. PRABOWO SUBIANTO - GIBRAN RAKABUMING RAKA    12009854.0   \n",
       "2  H. GANJAR PRANOWO, S.H., M.I.P. - Prof. Dr. H....     2026611.0   \n",
       "0                                             Komeng     2263426.0   \n",
       "\n",
       "           nickname    warna   \n",
       "0  Anies - Muhaimin  #a5d63c  \\\n",
       "1  Prabowo - Gibran  #09bce3   \n",
       "2   Ganjar - Mahfud  #e65225   \n",
       "0            Komeng  #397ae3   \n",
       "\n",
       "                                           image_url  \n",
       "0  https://asset.kompas.com/data/2024/02/19/kompa...  \n",
       "1  https://asset.kompas.com/data/2024/02/19/kompa...  \n",
       "2  https://asset.kompas.com/data/2024/02/19/kompa...  \n",
       "0  https://upload.wikimedia.org/wikipedia/commons...  "
      ]
     },
     "execution_count": 204,
     "metadata": {},
     "output_type": "execute_result"
    }
   ],
   "source": [
    "suara_komeng_vs_presiden"
   ]
  },
  {
   "cell_type": "code",
   "execution_count": 205,
   "metadata": {},
   "outputs": [
    {
     "data": {
      "text/plain": [
       "{'Anies - Muhaimin': '#a5d63c',\n",
       " 'Prabowo - Gibran': '#09bce3',\n",
       " 'Ganjar - Mahfud': '#e65225',\n",
       " 'Komeng': '#397ae3'}"
      ]
     },
     "execution_count": 205,
     "metadata": {},
     "output_type": "execute_result"
    }
   ],
   "source": [
    "bar_color"
   ]
  },
  {
   "cell_type": "code",
   "execution_count": null,
   "metadata": {},
   "outputs": [],
   "source": []
  }
 ],
 "metadata": {
  "kernelspec": {
   "display_name": "Python 3",
   "language": "python",
   "name": "python3"
  },
  "language_info": {
   "codemirror_mode": {
    "name": "ipython",
    "version": 3
   },
   "file_extension": ".py",
   "mimetype": "text/x-python",
   "name": "python",
   "nbconvert_exporter": "python",
   "pygments_lexer": "ipython3",
   "version": "3.11.0"
  }
 },
 "nbformat": 4,
 "nbformat_minor": 2
}
