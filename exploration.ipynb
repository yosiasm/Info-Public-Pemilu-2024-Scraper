{
 "cells": [
  {
   "cell_type": "code",
   "execution_count": null,
   "metadata": {},
   "outputs": [],
   "source": [
    "import pandas as pd\n",
    "import plotly.graph_objects as go"
   ]
  },
  {
   "cell_type": "markdown",
   "metadata": {},
   "source": [
    "# Load Data"
   ]
  },
  {
   "cell_type": "code",
   "execution_count": null,
   "metadata": {},
   "outputs": [],
   "source": [
    "perhitungan = pd.read_csv('all_perhitungan.csv')"
   ]
  },
  {
   "cell_type": "code",
   "execution_count": null,
   "metadata": {},
   "outputs": [],
   "source": [
    "# drop unecessary columns\n",
    "perhitungan.drop(['null'],axis=1,inplace=True)"
   ]
  },
  {
   "cell_type": "code",
   "execution_count": null,
   "metadata": {},
   "outputs": [],
   "source": [
    "caleg = pd.read_csv('data_caleg.csv')\n",
    "caleg['id'] = caleg['id'].astype(str)\n",
    "komeng = caleg[caleg['nama'].str.contains('KOMENG')].to_dict('records')[0]\n",
    "komeng_id = str(komeng['id'])\n",
    "komeng_nama = komeng['nama']"
   ]
  },
  {
   "cell_type": "code",
   "execution_count": null,
   "metadata": {},
   "outputs": [],
   "source": [
    "caleg_id = caleg['id'].astype(str).to_list()\n",
    "\n",
    "caleg_except_komeng_id = caleg[~caleg['nama'].str.contains('KOMENG')]['id'].astype(str).to_list()\n"
   ]
  },
  {
   "cell_type": "code",
   "execution_count": null,
   "metadata": {},
   "outputs": [],
   "source": [
    "perhitungan_komeng = perhitungan[['kode_prov', 'kode_kab_kota', 'kode_kec', 'kode_desa', 'kode_tps',\n",
    "       'prov', 'kab_kota', 'kecamatan', 'desa', 'tps', komeng_id, 'suara_sah', 'suara_total',\n",
    "       'pemilih_dpt_j', 'pemilih_dpt_l', 'pemilih_dpt_p', 'pengguna_dpt_j',\n",
    "       'pengguna_dpt_l', 'pengguna_dpt_p', 'pengguna_dptb_j',\n",
    "       'pengguna_dptb_l', 'pengguna_dptb_p', 'suara_tidak_sah',\n",
    "       'pengguna_total_j', 'pengguna_total_l', 'pengguna_total_p',\n",
    "       'pengguna_non_dpt_j', 'pengguna_non_dpt_l', 'pengguna_non_dpt_p']]"
   ]
  },
  {
   "cell_type": "code",
   "execution_count": null,
   "metadata": {},
   "outputs": [],
   "source": [
    "suara_partai = pd.read_csv('detail_suara_partai.csv')\n",
    "suara_presiden = pd.read_csv('detail_suara_presiden.csv')"
   ]
  },
  {
   "cell_type": "markdown",
   "metadata": {},
   "source": [
    "# Group Perhitungan\n",
    "- total tps\n",
    "- total tps anomaly (https://x.com/A_Pangeran/status/1758336014911668587)\n",
    "- total tps dalam proses (row with na value)\n",
    "- total tps sah (selain anomaly dan memiliki value)"
   ]
  },
  {
   "cell_type": "code",
   "execution_count": null,
   "metadata": {},
   "outputs": [],
   "source": [
    "perhitungan['sum_suara_caleg'] = perhitungan[caleg_id].sum(axis=1)"
   ]
  },
  {
   "cell_type": "code",
   "execution_count": null,
   "metadata": {},
   "outputs": [],
   "source": [
    "perhitungan[['sum_suara_caleg','suara_total','suara_sah','suara_tidak_sah']]"
   ]
  },
  {
   "cell_type": "markdown",
   "metadata": {},
   "source": [
    "### TPS Anomaly"
   ]
  },
  {
   "cell_type": "code",
   "execution_count": null,
   "metadata": {},
   "outputs": [],
   "source": [
    "#anomaly\n",
    "anomaly1 = perhitungan[(perhitungan['suara_sah']==0) & (perhitungan['suara_total'] > 300)]\n",
    "anomaly2 = perhitungan[(perhitungan['suara_sah']>0) & (perhitungan['suara_sah'] < perhitungan['sum_suara_caleg'])]\n",
    "anomaly = pd.concat([anomaly1,anomaly2],axis=0,ignore_index=True)\n",
    "len(anomaly)\n"
   ]
  },
  {
   "cell_type": "markdown",
   "metadata": {},
   "source": [
    "### TPS In Progress"
   ]
  },
  {
   "cell_type": "code",
   "execution_count": null,
   "metadata": {},
   "outputs": [],
   "source": [
    "in_progress = perhitungan[perhitungan.isnull().any(axis=1)]"
   ]
  },
  {
   "cell_type": "markdown",
   "metadata": {},
   "source": [
    "### TPS Clean"
   ]
  },
  {
   "cell_type": "code",
   "execution_count": null,
   "metadata": {},
   "outputs": [],
   "source": [
    "anomaly_inprogress_index = anomaly.index.to_list() + in_progress.index.to_list()\n",
    "clean = perhitungan.loc[~(perhitungan.index.isin(anomaly_inprogress_index))]"
   ]
  },
  {
   "cell_type": "code",
   "execution_count": null,
   "metadata": {},
   "outputs": [],
   "source": []
  },
  {
   "cell_type": "markdown",
   "metadata": {},
   "source": [
    "# chart\n",
    "1. total uhuy (clean dan anomaly) \n",
    "2. total tidak uhuy (clean dan anomaly)\n",
    "3. total suara (clean dan anomaly) \n",
    "6. total tps in progress\n",
    "----\n",
    "4. total tps win, lose distribution\n",
    "5. total tps anomaly distribution\n",
    "---\n",
    "7. top 10 kota ter uhuy\n",
    "8. top persentase uhuy\n",
    "---\n",
    "9. ~~distribusi uhuy~~\n",
    "---\n",
    "10. whos win on anomaly data\n",
    "---\n",
    "10. ~~anomaly~~\n",
    "---\n",
    "11. komparasi uhuy dengan partai\n",
    "---\n",
    "12. komparasi uhuy dengan pilpres\n",
    "\n",
    "\n"
   ]
  },
  {
   "cell_type": "code",
   "execution_count": null,
   "metadata": {},
   "outputs": [],
   "source": []
  },
  {
   "cell_type": "markdown",
   "metadata": {},
   "source": [
    "## Metrics"
   ]
  },
  {
   "cell_type": "markdown",
   "metadata": {},
   "source": [
    "uhuy"
   ]
  },
  {
   "cell_type": "code",
   "execution_count": null,
   "metadata": {},
   "outputs": [],
   "source": [
    "# total uhuy clean\n",
    "clean_uhuy = clean[komeng_id].sum()\n",
    "# total uhuy anomaly\n",
    "anomaly_uhuy = anomaly[komeng_id].sum()\n",
    "# total uhuy\n",
    "perhitungan_uhuy = perhitungan[komeng_id].sum()\n",
    "\n",
    "print(clean_uhuy,anomaly_uhuy,perhitungan_uhuy)"
   ]
  },
  {
   "cell_type": "markdown",
   "metadata": {},
   "source": [
    "tidak uhuy"
   ]
  },
  {
   "cell_type": "code",
   "execution_count": null,
   "metadata": {},
   "outputs": [],
   "source": [
    "# total tidak uhuy clean\n",
    "clean_tidak_uhuy = clean[caleg_except_komeng_id].sum(axis=1).sum()\n",
    "# total tidak_uhuy anomaly\n",
    "anomaly_tidak_uhuy = anomaly[caleg_except_komeng_id].sum(axis=1).sum()\n",
    "# total tidak_uhuy\n",
    "perhitungan_tidak_uhuy = perhitungan[caleg_except_komeng_id].sum(axis=1).sum()\n",
    "\n",
    "print(clean_tidak_uhuy,anomaly_tidak_uhuy,perhitungan_tidak_uhuy)"
   ]
  },
  {
   "cell_type": "markdown",
   "metadata": {},
   "source": [
    "total"
   ]
  },
  {
   "cell_type": "code",
   "execution_count": null,
   "metadata": {},
   "outputs": [],
   "source": [
    "# total clean\n",
    "clean_total = clean[caleg_id].sum(axis=1).sum()\n",
    "# total anomaly\n",
    "anomaly_total = anomaly[caleg_id].sum(axis=1).sum()\n",
    "# total \n",
    "perhitungan_total = perhitungan[caleg_id].sum(axis=1).sum()\n",
    "\n",
    "print(clean_total,anomaly_total,perhitungan_total)"
   ]
  },
  {
   "cell_type": "code",
   "execution_count": null,
   "metadata": {},
   "outputs": [],
   "source": [
    "def human_format(num):\n",
    "    num = float('{:.3g}'.format(num))\n",
    "    magnitude = 0\n",
    "    while abs(num) >= 1000:\n",
    "        magnitude += 1\n",
    "        num /= 1000.0\n",
    "    return '{}{}'.format('{:f}'.format(num).rstrip('0').rstrip('.'), ['', 'K', 'M', 'B', 'T'][magnitude])\n"
   ]
  },
  {
   "cell_type": "code",
   "execution_count": null,
   "metadata": {},
   "outputs": [],
   "source": []
  },
  {
   "cell_type": "code",
   "execution_count": null,
   "metadata": {},
   "outputs": [],
   "source": []
  },
  {
   "cell_type": "markdown",
   "metadata": {},
   "source": [
    "tps winning distribution"
   ]
  },
  {
   "cell_type": "code",
   "execution_count": null,
   "metadata": {},
   "outputs": [],
   "source": [
    "def is_komeng_win(row:pd.DataFrame):\n",
    "    row[caleg_id].idxmax(axis=1)"
   ]
  },
  {
   "cell_type": "code",
   "execution_count": null,
   "metadata": {},
   "outputs": [],
   "source": [
    "clean['counter'] = 1\n",
    "clean['winner'] = clean[caleg_id].idxmax(axis=1)\n",
    "\n",
    "clean_komeng_win = clean[clean['winner']==komeng_id]\n",
    "clean_komeng_lose = clean[clean['winner']!=komeng_id]\n",
    "\n",
    "clean_komeng_win_count = clean_komeng_win.groupby('kab_kota')['counter'].sum().to_frame().reset_index().rename(columns={'counter':'win_count'})\n",
    "clean_komeng_lose_count = clean_komeng_lose.groupby('kab_kota')['counter'].sum().to_frame().reset_index().rename(columns={'counter':'lose_count'})\n",
    "\n",
    "clean_komeng_win_lose = pd.merge(clean_komeng_lose_count, clean_komeng_win_count,'inner','kab_kota')\n"
   ]
  },
  {
   "cell_type": "code",
   "execution_count": null,
   "metadata": {},
   "outputs": [],
   "source": [
    "clean_winning_percentage = (len(clean_komeng_win)/ (len(clean_komeng_win)+len(clean_komeng_lose))) * 100\n"
   ]
  },
  {
   "cell_type": "code",
   "execution_count": null,
   "metadata": {},
   "outputs": [],
   "source": [
    "# create custom html\n",
    "def custom_indicator(title:str,value,total=None,ratio=None,anomaly=None):\n",
    "    \n",
    "    body = \"\"\"<span style=\"font-size:1em;\">{}</span>\"\"\".format(title)\n",
    "\n",
    "    if total:\n",
    "        body += \"\"\"<br><span style=\"font-size:0.6em\"> Total {} </span>\"\"\".format(total)\n",
    "    if ratio:\n",
    "        body += \"\"\"<br><span style=\"font-size:0.6em\"> {} </span>\"\"\".format(ratio)\n",
    "    if anomaly:\n",
    "        body += \"\"\"<span style=\"font-size:0.6em;color:red\">Anomaly {} </span>\"\"\".format(anomaly)\n",
    "    \n",
    "    body+=\"\"\"<br><span style=\"font-size:2em;\"><b>{}</b></span>\"\"\".format(value)\n",
    "    body = f\"\"\"<div style=\"font-family: &quot;Open Sans&quot;, verdana, arial, sans-serif; fill-opacity: 1; white-space: pre;\"><center>{body}</center></div>\"\"\"\n",
    "    filename = 'html/custom_indicator_{}.html'.format(title.lower().replace('!','').replace(' ','_'))\n",
    "\n",
    "    with open(filename,'w') as w:\n",
    "        w.write(body)\n",
    "\n",
    "    return body\n",
    "\n",
    "\n",
    "#Winning TPS\n",
    "custom_indicator(\"Winning TPS\",value=\"{}%\".format(round(clean_winning_percentage,2)),ratio=\"{}/{}\".format(human_format(len(clean_komeng_win)),human_format((len(clean_komeng_win)+len(clean_komeng_lose)))))\n",
    "#Suara Uhuy!\n",
    "custom_indicator(\"Suara Uhuy!\",value=human_format(clean_uhuy),total=human_format(perhitungan_uhuy),anomaly=human_format(anomaly_uhuy))\n",
    "#Suara Tidak Uhuy!\n",
    "custom_indicator(\"Suara Tidak Uhuy!\",value=human_format(clean_tidak_uhuy),total=human_format(perhitungan_tidak_uhuy),anomaly=human_format(anomaly_tidak_uhuy))\n",
    "#Suara Total\n",
    "custom_indicator(\"Suara Total\",value=human_format(clean_total),total=human_format(perhitungan_total),anomaly=human_format(anomaly_total))\n",
    "   \n"
   ]
  },
  {
   "cell_type": "code",
   "execution_count": null,
   "metadata": {},
   "outputs": [],
   "source": [
    "anomaly['counter'] = 1\n",
    "anomaly['winner'] = anomaly[caleg_id].idxmax(axis=1)\n",
    "\n",
    "anomaly_komeng_win = anomaly[anomaly['winner']==komeng_id]\n",
    "anomaly_komeng_lose = anomaly[anomaly['winner']!=komeng_id]\n",
    "\n",
    "anomaly_komeng_win_count = anomaly_komeng_win.groupby('kab_kota')['counter'].sum().to_frame().reset_index().rename(columns={'counter':'win_count'})\n",
    "anomaly_komeng_lose_count = anomaly_komeng_lose.groupby('kab_kota')['counter'].sum().to_frame().reset_index().rename(columns={'counter':'lose_count'})\n",
    "\n",
    "anomaly_komeng_win_lose = pd.merge(anomaly_komeng_lose_count, anomaly_komeng_win_count,'inner','kab_kota')\n"
   ]
  },
  {
   "cell_type": "code",
   "execution_count": null,
   "metadata": {},
   "outputs": [],
   "source": []
  },
  {
   "cell_type": "markdown",
   "metadata": {},
   "source": [
    "## winning"
   ]
  },
  {
   "cell_type": "code",
   "execution_count": null,
   "metadata": {},
   "outputs": [],
   "source": [
    "import plotly.express as px\n",
    "\n",
    "fig = go.Figure()\n",
    "fig.add_trace(go.Bar(name='Wining TPS',x=clean_komeng_win_lose['kab_kota'], y=clean_komeng_win_lose['win_count'],marker_color='#003E69',))\n",
    "fig.add_trace(go.Bar(name='Losing TPS',x=clean_komeng_win_lose['kab_kota'], y=clean_komeng_win_lose['lose_count'],marker_color='#ED7D31'))\n",
    "fig.update_layout(barmode='group', template='plotly_white', title={'text':'Wining By Kota Kabupaten'}, yaxis_title={'text':'Jumlah TPS'}, xaxis_title={'text':'Kota Kabupaten'})\n",
    "fig.update_layout(\n",
    "    margin=dict(l=0, r=0, t=40, b=0),\n",
    "    legend=dict( yanchor=\"top\", y=0.9, xanchor=\"center\", x=0.5\n",
    ")\n",
    ")\n",
    "fig.write_html('html/bar_kota_kabupaten.html')\n",
    "fig.show()"
   ]
  },
  {
   "cell_type": "code",
   "execution_count": null,
   "metadata": {},
   "outputs": [],
   "source": [
    "\n",
    "fig = go.Figure()\n",
    "fig.add_trace(go.Bar(name='Wining TPS',x=anomaly_komeng_win_lose['kab_kota'], y=anomaly_komeng_win_lose['win_count'],marker_color='#003E69'))\n",
    "fig.add_trace(go.Bar(name='Losing TPS',x=anomaly_komeng_win_lose['kab_kota'], y=anomaly_komeng_win_lose['lose_count'],marker_color='#ED7D31'))\n",
    "fig.update_layout(barmode='group', template='plotly_white',title={'text':'Wining By Kota Kabupaten (Anomaly)'}, yaxis_title={'text':'Jumlah TPS'}, xaxis_title={'text':'Kota Kabupaten'})\n",
    "fig.update_layout(\n",
    "    margin=dict(l=0, r=0, t=40, b=0),\n",
    "    legend=dict( yanchor=\"top\", y=0.9, xanchor=\"center\", x=0.5)\n",
    ")\n",
    "fig.write_html('html/bar_kota_kabupaten_anomaly.html')\n",
    "fig.show()"
   ]
  },
  {
   "cell_type": "markdown",
   "metadata": {},
   "source": [
    "## kota ter uhuy"
   ]
  },
  {
   "cell_type": "code",
   "execution_count": null,
   "metadata": {},
   "outputs": [],
   "source": [
    "clean_sum = clean.groupby('kab_kota')[komeng_id].sum().to_frame().reset_index().rename(columns={komeng_id:'clean'})\n",
    "anomaly_sum = anomaly.groupby('kab_kota')[komeng_id].sum().to_frame().reset_index().rename(columns={komeng_id:'anomaly'})\n",
    "uhuy_by_kota = pd.merge(clean_sum,anomaly_sum,on='kab_kota',how='inner')\n",
    "kota_ter_uhuy = uhuy_by_kota.sort_values('clean',ascending=False).head(10)\n",
    "\n",
    "fig = go.Figure()\n",
    "fig.add_trace(go.Bar(name='Suara Uhuy!',x=kota_ter_uhuy['kab_kota'], y=kota_ter_uhuy['clean'],marker_color='#003E69', hovertemplate=\"%{x}: %{y:.0f}\"))\n",
    "fig.add_trace(go.Bar(name='Anomaly',x=kota_ter_uhuy['kab_kota'], y=kota_ter_uhuy['anomaly'],marker_color='#ED7D31', hovertemplate=\"%{x}: %{y:.0f}\"))\n",
    "fig.update_layout(barmode='stack', template='plotly_white',title={'text':'10 Kota Kabupaten Ter-Uhuy!'}, yaxis_title={'text':'Jumlah Suara Uhuy!'}, xaxis_title={'text':'Kota Kabupaten'})\n",
    "fig.update_layout(\n",
    "    margin=dict(l=0, r=0, t=40, b=0),\n",
    "    legend=dict( yanchor=\"top\", y=0.9, xanchor=\"center\", x=0.5)\n",
    "\n",
    ")\n",
    "fig.write_html('html/bar_kota_teruhuy.html')\n",
    "fig.show()\n"
   ]
  },
  {
   "cell_type": "code",
   "execution_count": null,
   "metadata": {},
   "outputs": [],
   "source": [
    "clean_sum_non_komeng = clean.groupby('kab_kota')[caleg_except_komeng_id].sum().sum(axis=1).to_frame().reset_index().rename(columns={0:'clean_non_uhuy'})\n",
    "anomaly_sum_non_komeng = anomaly.groupby('kab_kota')[caleg_except_komeng_id].sum().sum(axis=1).to_frame().reset_index().rename(columns={0:'anomaly_non_uhuy'})\n",
    "non_uhuy_by_kota = pd.merge(clean_sum_non_komeng,anomaly_sum_non_komeng,on='kab_kota',how='inner')"
   ]
  },
  {
   "cell_type": "code",
   "execution_count": null,
   "metadata": {},
   "outputs": [],
   "source": [
    "kepadatan_uhuy_by_kota = pd.merge(uhuy_by_kota,non_uhuy_by_kota,on='kab_kota',how='inner')\n",
    "kepadatan_uhuy_by_kota['total_clean'] = kepadatan_uhuy_by_kota['clean']+kepadatan_uhuy_by_kota['clean_non_uhuy']\n",
    "kepadatan_uhuy_by_kota['kepadatan'] = (kepadatan_uhuy_by_kota['clean']/kepadatan_uhuy_by_kota['total_clean'])\n",
    "kepadatan_uhuy_by_kota['Persentase Kepadatan'] = kepadatan_uhuy_by_kota['kepadatan'].apply(lambda x:\"{}%\".format(round(x*100,2)))\n",
    "uhuy_terpadat = kepadatan_uhuy_by_kota.sort_values('kepadatan',ascending=False).head(10)\n",
    "uhuy_terpadat.rename(columns={'clean':'Memilih Komeng',\"total_clean\":\"Total Suara\"}, inplace=True)\n",
    "\n",
    "# fig = go.Figure()\n",
    "# fig.add_trace(go.Bar(name='Kepadatan Uhuy!',x=uhuy_terpadat['kab_kota'], y=uhuy_terpadat['kepadatan'],marker_color='#003E69',hovertemplate=\"%{y:%}\"))\n",
    "\n",
    "fig = px.bar(uhuy_terpadat,x='kab_kota',y='kepadatan', labels={'kab_kota':'Kota Kabupaten', 'kepadatan':'Kepadatan Suara Uhuy!'}, title='Konsentrasi Uhuy Kota Kabupaten Terpadat', hover_data={'kepadatan':False,'Persentase Kepadatan':True,\"Memilih Komeng\":True,\"Total Suara\":True})\n",
    "fig.update_traces(marker_color='#003E69')\n",
    "fig.update_layout(\n",
    "    margin=dict(l=0, r=0, t=40, b=0),\n",
    "    legend=dict( yanchor=\"top\", y=0.9, xanchor=\"center\", x=0.5)\n",
    "\n",
    ")\n",
    "fig.write_html('html/bar_konsentrasi_uhuy.html')\n",
    "fig.show()\n"
   ]
  },
  {
   "cell_type": "markdown",
   "metadata": {},
   "source": [
    "## Anomaly Winner"
   ]
  },
  {
   "cell_type": "code",
   "execution_count": null,
   "metadata": {},
   "outputs": [],
   "source": [
    "anomaly['winner'] = anomaly[caleg_id].idxmax(axis=1)"
   ]
  },
  {
   "cell_type": "code",
   "execution_count": null,
   "metadata": {},
   "outputs": [],
   "source": [
    "anomaly['winner_vote_sum'] = anomaly[caleg_id].max(axis=1).to_frame()"
   ]
  },
  {
   "cell_type": "code",
   "execution_count": null,
   "metadata": {},
   "outputs": [],
   "source": [
    "anomaly_winner = anomaly[['kode_prov','kode_kab_kota','kode_kec','kode_desa','kode_tps','kab_kota','kecamatan','desa','tps','winner','winner_vote_sum']].sort_values('winner_vote_sum',ascending=False).head(10)"
   ]
  },
  {
   "cell_type": "code",
   "execution_count": null,
   "metadata": {},
   "outputs": [],
   "source": [
    "anomaly_winner_caleg = anomaly_winner.merge(caleg[['id','nama']],how='left',left_on='winner',right_on='id')"
   ]
  },
  {
   "cell_type": "code",
   "execution_count": null,
   "metadata": {},
   "outputs": [],
   "source": [
    "def tps_url(row:pd.Series):\n",
    "    # url = \"https://pemilu2024.kpu.go.id/pemilu_dpd/hitung-suara/32/3201/320133/3201332003/3201332003010\"\n",
    "    url = \"https://pemilu2024.kpu.go.id/pemilu_dpd/hitung-suara/{}/{}/{}/{}/{}\".format(\n",
    "        row['kode_prov'],\n",
    "        row['kode_kab_kota'],\n",
    "        row['kode_kec'],\n",
    "        row['kode_desa'],\n",
    "        row['kode_tps']\n",
    "        )\n",
    "    return url"
   ]
  },
  {
   "cell_type": "code",
   "execution_count": null,
   "metadata": {},
   "outputs": [],
   "source": [
    "def format_tps(row:pd.Series):\n",
    "    alamat = \"\"\"<span>{}, {}, {} <b> <a href=\"{}\">{}</a> </b></span>\"\"\".format(row['kab_kota'],row['kecamatan'],row['desa'],row['url'],row['tps'])\n",
    "    detail = \"<span><b>{}</b></span><br>\".format(row['nama'])+alamat\n",
    "    return detail\n",
    "    # return \"\"\"<span><span> {} </span><span align=\"left\" style=\"font-size:2em;\"> {} Suara</span></span>\"\"\".format(detail,int(row['winner_vote_sum']))"
   ]
  },
  {
   "cell_type": "code",
   "execution_count": null,
   "metadata": {},
   "outputs": [],
   "source": [
    "anomaly_winner_caleg['url'] = anomaly_winner_caleg.apply(tps_url, axis=1)\n",
    "anomaly_winner_caleg['alamat'] = anomaly_winner_caleg.apply(format_tps, axis=1)"
   ]
  },
  {
   "cell_type": "code",
   "execution_count": null,
   "metadata": {},
   "outputs": [],
   "source": [
    "anomaly_winner_caleg[['kab_kota','kecamatan','desa','tps','nama','winner_vote_sum','url']]"
   ]
  },
  {
   "cell_type": "code",
   "execution_count": null,
   "metadata": {},
   "outputs": [],
   "source": [
    "fig = go.Figure(data=[go.Table(\n",
    "    header=dict(values=['Detail','Jumlah Suara Pemenang']),\n",
    "    columnwidth=[3,1],\n",
    "    cells=dict(values=[\n",
    "        anomaly_winner_caleg[column] for column in ['alamat','winner_vote_sum']\n",
    "    ], align='left'))\n",
    "                     ])\n",
    "fig.update_layout(title={'text':'10 Pemenang di TPS Anomaly'})\n",
    "fig.update_layout(\n",
    "    margin=dict(l=0, r=0, t=40, b=0)\n",
    ")\n",
    "fig.write_html('html/table_pemenang_tps_anomaly2.html')\n",
    "\n",
    "fig.show()"
   ]
  },
  {
   "cell_type": "code",
   "execution_count": null,
   "metadata": {},
   "outputs": [],
   "source": [
    "#anomaly\n",
    "perhitungan[(perhitungan['suara_sah']>0) & (perhitungan['suara_total'] > 300)][['kab_kota',\t'kecamatan',\t'desa',\t'tps','sum_suara_caleg','suara_total','suara_sah','suara_tidak_sah']]"
   ]
  },
  {
   "cell_type": "code",
   "execution_count": null,
   "metadata": {},
   "outputs": [],
   "source": [
    "#anomaly\n",
    "perhitungan[(perhitungan['suara_sah']>0) & (perhitungan['sum_suara_caleg'] > perhitungan['suara_sah'])][['sum_suara_caleg','suara_total','suara_sah','suara_tidak_sah']]"
   ]
  },
  {
   "cell_type": "code",
   "execution_count": null,
   "metadata": {},
   "outputs": [],
   "source": []
  },
  {
   "cell_type": "markdown",
   "metadata": {},
   "source": [
    "## comparison"
   ]
  },
  {
   "cell_type": "code",
   "execution_count": null,
   "metadata": {},
   "outputs": [],
   "source": [
    "suara_komeng = perhitungan[komeng_id].sum()\n",
    "suara_komeng"
   ]
  },
  {
   "cell_type": "code",
   "execution_count": null,
   "metadata": {},
   "outputs": [],
   "source": [
    "suara_partai[['nama_lengkap','warna','jumlah_suara']].sort_values('jumlah_suara',ascending=False).head(5)"
   ]
  },
  {
   "cell_type": "code",
   "execution_count": null,
   "metadata": {},
   "outputs": [],
   "source": [
    "detail_chart_partai = [\n",
    "    {\"nickname\":\"PKB\",\"nama_lengkap\":\"Partai Kebangkitan Bangsa\",\"image_url\":\"https://upload.wikimedia.org/wikipedia/id/thumb/1/11/Logo_PKB.svg/160px-Logo_PKB.svg.png\"},\n",
    "    {\"nickname\":\"Gerindra\",\"nama_lengkap\":\"Partai Gerakan Indonesia Raya\",\"image_url\":\"https://upload.wikimedia.org/wikipedia/id/thumb/9/9b/Lambang_Partai_Gerakan_Indonesia_Raya.svg/180px-Lambang_Partai_Gerakan_Indonesia_Raya.svg.png\"},\n",
    "    {\"nickname\":\"Golkar\",\"nama_lengkap\":\"Partai Golongan Karya\",\"image_url\":\"//upload.wikimedia.org/wikipedia/commons/thumb/8/86/Logo_Golkar.svg/180px-Logo_Golkar.svg.png\"},\n",
    "    {\"nickname\":\"PKS\",\"nama_lengkap\":\"Partai Keadilan Sejahtera\",\"image_url\":\"https://upload.wikimedia.org/wikipedia/commons/thumb/d/d2/Partai_Keadilan_Sejahtera_2020.svg/150px-Partai_Keadilan_Sejahtera_2020.svg.png\"},\n",
    "    {\"nickname\":\"PDIP\",\"nama_lengkap\":\"Partai Demokrasi Indonesia Perjuangan\",\"image_url\":\"//upload.wikimedia.org/wikipedia/id/thumb/d/d8/Lambang_Partai_Demokrasi_Indonesia_Perjuangan.svg/180px-Lambang_Partai_Demokrasi_Indonesia_Perjuangan.svg.png\"},\n",
    "]\n",
    "detail_partai = pd.DataFrame(detail_chart_partai)\n",
    "suara_partai_detailed = suara_partai.merge(detail_partai,how='inner',on='nama_lengkap')\n",
    "suara_partai_detailed.sort_values('jumlah_suara',ascending=False,inplace=True)\n",
    "    # \"Komeng\":\"https://upload.wikimedia.org/wikipedia/commons/thumb/2/25/KPU_Alfiansyah_Bustami_Komeng.jpg/1200px-KPU_Alfiansyah_Bustami_Komeng.jpg\" #397ae3"
   ]
  },
  {
   "cell_type": "code",
   "execution_count": null,
   "metadata": {},
   "outputs": [],
   "source": [
    "# add suara komeng\n",
    "suara_komeng_df = pd.DataFrame([{'nama':'Komeng','nickname':'Komeng','warna':'#397ae3','jumlah_suara':suara_komeng,'image_url':'https://upload.wikimedia.org/wikipedia/commons/thumb/2/25/KPU_Alfiansyah_Bustami_Komeng.jpg/1200px-KPU_Alfiansyah_Bustami_Komeng.jpg',}])\n",
    "suara_komeng_df"
   ]
  },
  {
   "cell_type": "code",
   "execution_count": null,
   "metadata": {},
   "outputs": [],
   "source": [
    "suara_komeng_vs_partai = pd.concat([suara_komeng_df,suara_partai_detailed])\n",
    "suara_komeng_vs_partai"
   ]
  },
  {
   "cell_type": "code",
   "execution_count": null,
   "metadata": {},
   "outputs": [],
   "source": [
    "#color \n",
    "bar_color = {}\n",
    "for _,row in suara_komeng_vs_partai.iterrows():\n",
    "    bar_color[row['nickname']] = row['warna']\n",
    "\n",
    "# Step 3: Create Plotly bar chart\n",
    "# fig = go.Figure(data=[go.Bar(x=suara_komeng_vs_partai['nama'], y=suara_komeng_vs_partai['jumlah_suara'],color_discrete_map = bar_color)])\n",
    "fig = px.bar(suara_komeng_vs_partai, x='nickname', y='jumlah_suara',color='nickname',color_discrete_map=bar_color)\n",
    "fig.update_traces(hovertemplate=\"%{x}: %{y:.0f}\")\n",
    "# fig = go.Figure()\n",
    "\n",
    "# Step 4: Add annotations with images to each bar\n",
    "counter = 0.5\n",
    "for _,row in suara_komeng_vs_partai.iterrows():\n",
    "    fig.add_layout_image(\n",
    "        dict(\n",
    "            source=row['image_url'],\n",
    "            xref=\"paper\",\n",
    "            yref=\"paper\",\n",
    "            x=counter/len(suara_komeng_vs_partai),\n",
    "            y=0.25,\n",
    "            sizex=0.3,\n",
    "            sizey=0.3,\n",
    "            xanchor=\"center\",\n",
    "            yanchor=\"middle\",\n",
    "            sizing=\"contain\",\n",
    "            opacity=1,\n",
    "            \n",
    "            # layer=\"below\"\n",
    "        )\n",
    "    )\n",
    "    counter+=1\n",
    "\n",
    "fig.update_layout( \n",
    "    xaxis=dict(title='Nama'),\n",
    "    yaxis=dict(title='Jumlah Suara'),\n",
    "    title='Suara Uhuy VS Suara Pileg DPR (Jawa Barat)'\n",
    ")\n",
    "fig.update_layout(\n",
    "    margin=dict(l=0, r=0, t=40, b=0),\n",
    "    showlegend=False\n",
    ")\n",
    "fig.write_html('html/bar_komeng_vs_pileg_dpr.html')\n",
    "fig.show()\n"
   ]
  },
  {
   "cell_type": "code",
   "execution_count": null,
   "metadata": {},
   "outputs": [],
   "source": [
    "#suara presiden\n",
    "suara_presiden"
   ]
  },
  {
   "cell_type": "code",
   "execution_count": null,
   "metadata": {},
   "outputs": [],
   "source": [
    "detail_chart_presiden = [\n",
    "    {\"nickname\":\"Anies - Muhaimin\", \"warna\":\"#a5d63c\",\"nama\":\"H. ANIES RASYID BASWEDAN, Ph.D. - Dr. (H.C.) H. A. MUHAIMIN ISKANDAR\",\"image_url\":\"https://asset.kompas.com/data/2024/02/19/kompascom/widget/realcount/images/widget/real-count/paslon-1.png\"},\n",
    "    {\"nickname\":\"Prabowo - Gibran\",\"warna\":\"#09bce3\",\"nama\":\"H. PRABOWO SUBIANTO - GIBRAN RAKABUMING RAKA\",\"image_url\":\"https://asset.kompas.com/data/2024/02/19/kompascom/widget/realcount/images/widget/real-count/paslon-2.png\"},\n",
    "    {\"nickname\":\"Ganjar - Mahfud\",\"warna\":\"#e65225\",\"nama\":\"H. GANJAR PRANOWO, S.H., M.I.P. - Prof. Dr. H. M. MAHFUD MD\",\"image_url\":\"https://asset.kompas.com/data/2024/02/19/kompascom/widget/realcount/images/widget/real-count/paslon-3.png\"},\n",
    "]\n",
    "detail_presiden = pd.DataFrame(detail_chart_presiden)\n",
    "suara_presiden_detailed = suara_presiden[['nama','jumlah_suara']].merge(detail_presiden,how='inner',on='nama')\n",
    "# suara_presiden_detailed.sort_values('jumlah_suara',ascending=False,inplace=True)"
   ]
  },
  {
   "cell_type": "code",
   "execution_count": null,
   "metadata": {},
   "outputs": [],
   "source": [
    "suara_komeng_vs_presiden = pd.concat([suara_presiden_detailed,suara_komeng_df])\n",
    "# suara_komeng_vs_presiden.sort_values('jumlah_suara',ascending=False,inplace=True)\n",
    "suara_komeng_vs_presiden"
   ]
  },
  {
   "cell_type": "code",
   "execution_count": null,
   "metadata": {},
   "outputs": [],
   "source": [
    "#color \n",
    "bar_color = {}\n",
    "for _,row in suara_komeng_vs_presiden.iterrows():\n",
    "    bar_color[row['nickname']] = row['warna']\n",
    "\n",
    "# Step 3: Create Plotly bar chart\n",
    "# fig = go.Figure(data=[go.Bar(x=suara_komeng_vs_presiden['nama'], y=suara_komeng_vs_presiden['jumlah_suara'],color_discrete_map = bar_color)])\n",
    "fig = px.bar(suara_komeng_vs_presiden, x='nickname', y='jumlah_suara',color='nickname', color_discrete_map=bar_color)\n",
    "fig.update_traces(hovertemplate=\"%{x}: %{y:.0f}\")\n",
    "\n",
    "# fig = go.Figure()\n",
    "\n",
    "# Step 4: Add annotations with images to each bar\n",
    "counter = 0.5\n",
    "for _,row in suara_komeng_vs_presiden.iterrows():\n",
    "    fig.add_layout_image(\n",
    "        dict(\n",
    "            source=row['image_url'],\n",
    "            xref=\"paper\",\n",
    "            yref=\"paper\",\n",
    "            x=counter/len(suara_komeng_vs_presiden),\n",
    "            y=0.25,\n",
    "            sizex=0.3,\n",
    "            sizey=0.3,\n",
    "            xanchor=\"center\",\n",
    "            yanchor=\"middle\",\n",
    "            sizing=\"contain\",\n",
    "            opacity=1,\n",
    "            \n",
    "            # layer=\"below\"\n",
    "        )\n",
    "    )\n",
    "    counter+=1\n",
    "\n",
    "fig.update_layout(\n",
    "    xaxis=dict(title='Nama'),\n",
    "    yaxis=dict(title='Jumlah Suara'),\n",
    "    title='Suara Uhuy VS Suara Pemilihan Presiden (Jawa Barat)'\n",
    ")\n",
    "fig.update_layout(\n",
    "    margin=dict(l=0, r=0, t=40, b=0),\n",
    "    showlegend=False\n",
    ")\n",
    "fig.write_html('html/bar_komeng_vs_pilpres.html')\n",
    "fig.show()\n"
   ]
  },
  {
   "cell_type": "code",
   "execution_count": null,
   "metadata": {},
   "outputs": [],
   "source": [
    "suara_komeng_vs_presiden"
   ]
  },
  {
   "cell_type": "code",
   "execution_count": null,
   "metadata": {},
   "outputs": [],
   "source": [
    "bar_color"
   ]
  },
  {
   "cell_type": "code",
   "execution_count": null,
   "metadata": {},
   "outputs": [],
   "source": []
  }
 ],
 "metadata": {
  "kernelspec": {
   "display_name": "Python 3",
   "language": "python",
   "name": "python3"
  },
  "language_info": {
   "codemirror_mode": {
    "name": "ipython",
    "version": 3
   },
   "file_extension": ".py",
   "mimetype": "text/x-python",
   "name": "python",
   "nbconvert_exporter": "python",
   "pygments_lexer": "ipython3",
   "version": "3.11.0"
  }
 },
 "nbformat": 4,
 "nbformat_minor": 2
}
